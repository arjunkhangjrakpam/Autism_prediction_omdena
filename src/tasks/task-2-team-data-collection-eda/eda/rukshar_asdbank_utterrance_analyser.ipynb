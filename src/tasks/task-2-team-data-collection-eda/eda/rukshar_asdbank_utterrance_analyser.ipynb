{
  "nbformat": 4,
  "nbformat_minor": 0,
  "metadata": {
    "colab": {
      "provenance": []
    },
    "kernelspec": {
      "name": "python3",
      "display_name": "Python 3"
    },
    "language_info": {
      "name": "python"
    }
  },
  "cells": [
    {
      "cell_type": "markdown",
      "source": [
        "Conversational data formatted in CHAT provides transcriptions with rich annotations for both linguistic and extra-linguistic information. PyLangAcq is designed to extract data and annotations in CHAT and expose them in Python data structures for flexible modeling work. This notebook explains how PyLangAcq represents CHAT data and annotations."
      ],
      "metadata": {
        "id": "-o31q4zYlY0S"
      }
    },
    {
      "cell_type": "code",
      "execution_count": 2,
      "metadata": {
        "colab": {
          "base_uri": "https://localhost:8080/"
        },
        "id": "ZA1koovSjmdI",
        "outputId": "c6d32ac5-91aa-4c75-8256-807d00870275"
      },
      "outputs": [
        {
          "output_type": "stream",
          "name": "stdout",
          "text": [
            "Mounted at /content/drive\n"
          ]
        }
      ],
      "source": [
        "from google.colab import drive\n",
        "drive.mount('/content/drive')\n",
        "\n",
        "#Optional: move to the desired location:\n",
        "#%cd drive/My Drive/DIRECTORY_IN_YOUR_DRIVE"
      ]
    },
    {
      "cell_type": "code",
      "source": [
        "!pip install --upgrade -q pylangacq"
      ],
      "metadata": {
        "colab": {
          "base_uri": "https://localhost:8080/"
        },
        "id": "-9-5J5UAjtv2",
        "outputId": "84ee4745-16c2-43b4-96ff-2d109db1e4bb"
      },
      "execution_count": 1,
      "outputs": [
        {
          "output_type": "stream",
          "name": "stdout",
          "text": [
            "\u001b[?25l     \u001b[90m━━━━━━━━━━━━━━━━━━━━━━━━━━━━━━━━━━━━━━━━\u001b[0m \u001b[32m0.0/65.2 KB\u001b[0m \u001b[31m?\u001b[0m eta \u001b[36m-:--:--\u001b[0m\r\u001b[2K     \u001b[90m━━━━━━━━━━━━━━━━━━━━━━━━━━━━━━━━━━━━━━━━\u001b[0m \u001b[32m65.2/65.2 KB\u001b[0m \u001b[31m2.4 MB/s\u001b[0m eta \u001b[36m0:00:00\u001b[0m\n",
            "\u001b[?25h"
          ]
        }
      ]
    },
    {
      "cell_type": "code",
      "source": [
        "import pylangacq"
      ],
      "metadata": {
        "id": "8hZpUrOgjyhJ"
      },
      "execution_count": 6,
      "outputs": []
    },
    {
      "cell_type": "code",
      "source": [
        "url = \"drive/My Drive/Omdena/SriLanka/Autism/asd_talkbank/Nadig.zip\"\n",
        "\n",
        "nadig = pylangacq.read_chat(url )\n",
        "nadig.n_files() #how many chat files are present for this data"
      ],
      "metadata": {
        "colab": {
          "base_uri": "https://localhost:8080/"
        },
        "id": "asjuSkwcj0Gm",
        "outputId": "6c7ceac3-710a-4620-df8a-a9c4d3f45788"
      },
      "execution_count": 7,
      "outputs": [
        {
          "output_type": "execute_result",
          "data": {
            "text/plain": [
              "38"
            ]
          },
          "metadata": {},
          "execution_count": 7
        }
      ]
    },
    {
      "cell_type": "markdown",
      "source": [
        "# Explanation of ASDBank Utterrance Structure"
      ],
      "metadata": {
        "id": "iBR3lhNTm2MJ"
      }
    },
    {
      "cell_type": "markdown",
      "source": [
        "**A typical structure of (two) utterrance**:\n",
        "\n",
        "\n",
        "```\n",
        "*CHI:       more cookie . [+ IMP]\n",
        "%mor:       qn|more n|cookie .\n",
        "%gra:       1|2|QUANT 2|0|INCROOT 3|2|PUNCT\n",
        "%int:       distinctive , loud\n",
        "*MOT:       you 0v more cookies ?\n",
        "%mor:       pro:per|you 0v|v qn|more n|cookie-PL ?\n",
        "%gra:       1|2|SUBJ 2|0|ROOT 3|4|QUANT 4|2|OBJ 5|2|PUNCT\n",
        "```\n",
        "\n"
      ],
      "metadata": {
        "id": "F8fTH1nwlpn3"
      }
    },
    {
      "cell_type": "markdown",
      "source": [
        "PyLangAcq handles CHAT data by paying attention to the following:\n",
        "\n",
        "**Participants**: The two participants are CHI and MOT. It is customary to denote the target child by CHI and the child’s mother by MOT. The asterisk * that comes just before the participant code signals a transcription line. Each utterance must begin with the transcription line.\n",
        "\n",
        "**Transcriptions**: The two transcription lines are `more cookie . [+ IMP]` from Eve and `you 0v more cookies ?` from her mother. The transcriptions are word-segmented by spaces. Punctuation marks are treated as “words”. Annotations such as [+ IMP] and 0v here can be found in transcriptions.\n",
        "\n",
        "**Dependent tiers**: Between one transcription line and the next one, there are dependent tiers, signed by %, associated with the transcription line just immediately above; CHI’s utterance has the dependent tiers %mor (morphological information), %gra (grammatical relations), and %int (intonation), whereas MOT’s has only %mor and %gra.\n",
        "\n",
        "**The %mor tier**: The morphological information aligns one-to-one to the segmented words (including punctuation marks) in the transcription line; annotations in the transcription line are ignored. In each item of %mor, the part-of-speech tag is on the left of the pipe |, e.g., `qn` for a nominal quantifier in `qn|more `aligned to `more` in CHI’s line. Inflectional and derivational information is on the right of |, e.g., `cookie-PL` for the plural form of “cookie” in `n|cookie-PL` aligned to cookies in MOT’s line.\n",
        "\n",
        "**The %gra tier**: CHAT represents grammatical relations in terms of heads and dependents in dependency grammar. Every item on the %gra tier corresponds one-to-one to the segmented words in the transcription (and therefore one-to-one to the %mor items as well). In MOT’s %gra, `3|4|QUANT` means `more` at position 3 of the utterance is a dependent of the word `cookies` at position 4 as the head, and that the relation is one of *quantification*.\n",
        "\n",
        "**Other tiers**: Apart from %mor and %gra, other dependent tiers may appear in CHAT data files. Some of them contain more linguistic information, e.g., %int for intonation in CHI’s utterance here, and others contain contextual information about the utterance or recording session. **Many of these tiers are used only as needed** (%int not used in MOT’s utterance in this example)."
      ],
      "metadata": {
        "id": "ezq5BmMHl6Pq"
      }
    },
    {
      "cell_type": "markdown",
      "source": [
        "# Exploring Utterrance metadata in code using Pylangacq library"
      ],
      "metadata": {
        "id": "J-Pd9AsYn2Nl"
      }
    },
    {
      "cell_type": "code",
      "source": [
        "nadig_utterance = nadig.utterances(by_files = True) #get all the utterrance of the chat files of Nadig chat data\n",
        "print(len(nadig_utterance))\n",
        "print(nadig_utterance[0][0]) #describe the first utterrance in the first conversation."
      ],
      "metadata": {
        "colab": {
          "base_uri": "https://localhost:8080/"
        },
        "id": "-LG7ljguk_JQ",
        "outputId": "4a659c47-0cec-4ae2-8938-595f2560e596"
      },
      "execution_count": 8,
      "outputs": [
        {
          "output_type": "stream",
          "name": "stdout",
          "text": [
            "38\n",
            "Utterance(participant='MOT', tokens=[Token(word='what', pos='pro:int', mor='what', gra=Gra(dep=1, head=2, rel='MOD')), Token(word=\"animal's\", pos='n', mor='animal', gra=Gra(dep=2, head=3, rel='SUBJ')), Token(word='CLITIC', pos='cop', mor='be&3S', gra=Gra(dep=3, head=0, rel='ROOT')), Token(word='on', pos='prep', mor='on', gra=Gra(dep=4, head=3, rel='JCT')), Token(word='there', pos='n', mor='there', gra=Gra(dep=5, head=6, rel='MOD')), Token(word='Tracy', pos='n:prop', mor='Tracy', gra=Gra(dep=6, head=4, rel='POBJ')), Token(word='?', pos='?', mor='', gra=Gra(dep=7, head=3, rel='PUNCT'))], time_marks=None, tiers={'MOT': \"what animal's on there Tracy ?\", '%mor': 'pro:int|what n|animal~cop|be&3S prep|on n|there n:prop|Tracy ?', '%gra': '1|2|MOD 2|3|SUBJ 3|0|ROOT 4|3|JCT 5|6|MOD 6|4|POBJ 7|3|PUNCT'})\n"
          ]
        }
      ]
    },
    {
      "cell_type": "markdown",
      "source": [
        "Let's further analyse the first utterrance of the first chat data"
      ],
      "metadata": {
        "id": "qNzWI-rPoPI0"
      }
    },
    {
      "cell_type": "code",
      "source": [
        "first_utter = nadig_utterance[0][0]\n",
        "participant = first_utter.participant #Get participant name of the utterrance\n",
        "list_of_tokens = first_utter.tokens #Get the tokens of the utterrance\n",
        "\n",
        "print(f'Participant: {participant}')\n",
        "print(f'Tokens: ')\n",
        "#Let's anaylyse each token\n",
        "for i, token in enumerate(list_of_tokens):\n",
        "  print(f'token {i+1}: {token}')\n",
        "  token_word = token.word #extract the word of token\n",
        "  print(f'\\t token word: {token_word}')\n",
        "  token_pos = token.pos #get the parts of speech of the token\n",
        "  print(f'\\t token pos: {token_pos}')\n",
        "  token_mor = token.mor #get the morphological information of the token\n",
        "  print(f'\\t token mor: {token_mor}')\n",
        "  token_gra = token.gra #get the grammatical info. of the token\n",
        "  print(f'\\t token gra: {token_gra}: {token_gra.dep} | {token_gra.head} | {token_gra.rel}')"
      ],
      "metadata": {
        "colab": {
          "base_uri": "https://localhost:8080/"
        },
        "id": "TxF3SzFPoFTI",
        "outputId": "0b3a39af-4543-484c-86e3-27e21c66bf6f"
      },
      "execution_count": 18,
      "outputs": [
        {
          "output_type": "stream",
          "name": "stdout",
          "text": [
            "Participant: MOT\n",
            "Tokens: \n",
            "token 1: Token(word='what', pos='pro:int', mor='what', gra=Gra(dep=1, head=2, rel='MOD'))\n",
            "\t token word: what\n",
            "\t token pos: pro:int\n",
            "\t token mor: what\n",
            "\t token gra: Gra(dep=1, head=2, rel='MOD'): 1 | 2 | MOD\n",
            "token 2: Token(word=\"animal's\", pos='n', mor='animal', gra=Gra(dep=2, head=3, rel='SUBJ'))\n",
            "\t token word: animal's\n",
            "\t token pos: n\n",
            "\t token mor: animal\n",
            "\t token gra: Gra(dep=2, head=3, rel='SUBJ'): 2 | 3 | SUBJ\n",
            "token 3: Token(word='CLITIC', pos='cop', mor='be&3S', gra=Gra(dep=3, head=0, rel='ROOT'))\n",
            "\t token word: CLITIC\n",
            "\t token pos: cop\n",
            "\t token mor: be&3S\n",
            "\t token gra: Gra(dep=3, head=0, rel='ROOT'): 3 | 0 | ROOT\n",
            "token 4: Token(word='on', pos='prep', mor='on', gra=Gra(dep=4, head=3, rel='JCT'))\n",
            "\t token word: on\n",
            "\t token pos: prep\n",
            "\t token mor: on\n",
            "\t token gra: Gra(dep=4, head=3, rel='JCT'): 4 | 3 | JCT\n",
            "token 5: Token(word='there', pos='n', mor='there', gra=Gra(dep=5, head=6, rel='MOD'))\n",
            "\t token word: there\n",
            "\t token pos: n\n",
            "\t token mor: there\n",
            "\t token gra: Gra(dep=5, head=6, rel='MOD'): 5 | 6 | MOD\n",
            "token 6: Token(word='Tracy', pos='n:prop', mor='Tracy', gra=Gra(dep=6, head=4, rel='POBJ'))\n",
            "\t token word: Tracy\n",
            "\t token pos: n:prop\n",
            "\t token mor: Tracy\n",
            "\t token gra: Gra(dep=6, head=4, rel='POBJ'): 6 | 4 | POBJ\n",
            "token 7: Token(word='?', pos='?', mor='', gra=Gra(dep=7, head=3, rel='PUNCT'))\n",
            "\t token word: ?\n",
            "\t token pos: ?\n",
            "\t token mor: \n",
            "\t token gra: Gra(dep=7, head=3, rel='PUNCT'): 7 | 3 | PUNCT\n"
          ]
        }
      ]
    },
    {
      "cell_type": "code",
      "source": [
        "tier = first_utter.tiers #tier is a dictionary that contains the utterrance, %mor and %gra info in a summarised form\n",
        "print(tier)\n",
        "utter_sentence = tier[participant] #get the dialogue sentence\n",
        "print(f'sentence: {utter_sentence}')\n",
        "morphological_info = tier['%mor'] #get the morphological info of all the words\n",
        "print(f'%mor: {morphological_info}')\n",
        "grammatical_info = tier['%gra'] #get the grammatical relation info of all the words\n",
        "print(f'%gra: {grammatical_info}')"
      ],
      "metadata": {
        "colab": {
          "base_uri": "https://localhost:8080/"
        },
        "id": "DlDDleQmtz0u",
        "outputId": "ef58e078-a3b5-41d0-c7ac-a9d2857b19cd"
      },
      "execution_count": 25,
      "outputs": [
        {
          "output_type": "stream",
          "name": "stdout",
          "text": [
            "{'MOT': \"what animal's on there Tracy ?\", '%mor': 'pro:int|what n|animal~cop|be&3S prep|on n|there n:prop|Tracy ?', '%gra': '1|2|MOD 2|3|SUBJ 3|0|ROOT 4|3|JCT 5|6|MOD 6|4|POBJ 7|3|PUNCT'}\n",
            "sentence: what animal's on there Tracy ?\n",
            "%mor: pro:int|what n|animal~cop|be&3S prep|on n|there n:prop|Tracy ?\n",
            "%gra: 1|2|MOD 2|3|SUBJ 3|0|ROOT 4|3|JCT 5|6|MOD 6|4|POBJ 7|3|PUNCT\n"
          ]
        }
      ]
    },
    {
      "cell_type": "markdown",
      "source": [],
      "metadata": {
        "id": "8r55v949lIQ5"
      }
    }
  ]
}