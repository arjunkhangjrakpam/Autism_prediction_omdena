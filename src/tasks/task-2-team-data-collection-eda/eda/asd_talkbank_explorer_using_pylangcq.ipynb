{
  "cells": [
    {
      "cell_type": "markdown",
      "metadata": {
        "id": "0QyhqhlBLV7a"
      },
      "source": [
        "<font size ='4'>A Quick guide into using pylangcq for using ASDTalk transcript dataset</font>"
      ]
    },
    {
      "cell_type": "markdown",
      "metadata": {
        "id": "YRph-U-dLL6V"
      },
      "source": [
        "<font size=\"4\"> Datasets can be downloaded from https://asd.talkbank.org/access/ I used Nadig dataset from here: https://asd.talkbank.org/access/English/Nadig.html . This data was used in paper: **Detecting Autism Spectrum Disorders with Machine Learning Models Using Speech Transcripts -2021- Vikram Ramesh** </font>"
      ]
    },
    {
      "cell_type": "markdown",
      "metadata": {
        "id": "cCwTpP5ypRFx"
      },
      "source": [
        "<font size=\"4\"> Reference: https://pylangacq.org/quickstart.html</font>"
      ]
    },
    {
      "cell_type": "markdown",
      "metadata": {
        "id": "yP1krfFmLpwA"
      },
      "source": []
    },
    {
      "cell_type": "code",
      "execution_count": null,
      "metadata": {
        "colab": {
          "base_uri": "https://localhost:8080/"
        },
        "id": "AjLSuyX7Ai2K",
        "outputId": "e303f714-ad48-43da-fda2-010f4c5e7d23"
      },
      "outputs": [
        {
          "name": "stdout",
          "output_type": "stream",
          "text": [
            "Drive already mounted at /content/drive; to attempt to forcibly remount, call drive.mount(\"/content/drive\", force_remount=True).\n"
          ]
        }
      ],
      "source": [
        "from google.colab import drive\n",
        "drive.mount('/content/drive')\n",
        "\n",
        "#Optional: move to the desired location:\n",
        "#%cd drive/My Drive/DIRECTORY_IN_YOUR_DRIVE"
      ]
    },
    {
      "cell_type": "code",
      "execution_count": null,
      "metadata": {
        "id": "lXUkOAXNAnc0"
      },
      "outputs": [],
      "source": [
        "!pip install --upgrade pylangacq"
      ]
    },
    {
      "cell_type": "code",
      "execution_count": null,
      "metadata": {
        "id": "girw4-KqBK9R"
      },
      "outputs": [],
      "source": [
        "import pylangacq"
      ]
    },
    {
      "cell_type": "code",
      "execution_count": null,
      "metadata": {
        "colab": {
          "base_uri": "https://localhost:8080/"
        },
        "id": "ltrdOx2PA1PH",
        "outputId": "ccaca8b8-730e-4c79-db78-7d9938743357"
      },
      "outputs": [
        {
          "data": {
            "text/plain": [
              "38"
            ]
          },
          "execution_count": 5,
          "metadata": {},
          "output_type": "execute_result"
        }
      ],
      "source": [
        "url = \"drive/My Drive/Omdena/SriLanka/Autism/asd_talkbank/Nadig.zip\"\n",
        "\n",
        "nadig = pylangacq.read_chat(url )\n",
        "nadig.n_files() #how many chat files are present for this data"
      ]
    },
    {
      "cell_type": "code",
      "execution_count": null,
      "metadata": {
        "colab": {
          "base_uri": "https://localhost:8080/"
        },
        "id": "1BsTw_YWBQw1",
        "outputId": "94dc02fc-9379-47b5-f2fc-d7e0c3f3d4af"
      },
      "outputs": [
        {
          "data": {
            "text/plain": [
              "[(3, 6, 5),\n",
              " (4, 2, 4),\n",
              " (2, 7, 21),\n",
              " (3, 7, 2),\n",
              " (6, 6, 27),\n",
              " (3, 1, 0),\n",
              " (6, 1, 0),\n",
              " (2, 10, 13),\n",
              " (4, 4, 21),\n",
              " (3, 1, 11),\n",
              " (2, 8, 0),\n",
              " (3, 6, 25),\n",
              " (2, 8, 16),\n",
              " (4, 10, 17),\n",
              " (2, 10, 6),\n",
              " (5, 1, 21),\n",
              " (1, 11, 19),\n",
              " (5, 4, 25),\n",
              " (3, 1, 5),\n",
              " (4, 4, 13),\n",
              " (6, 3, 10),\n",
              " (1, 11, 5),\n",
              " (5, 3, 7),\n",
              " (2, 7, 20),\n",
              " (5, 5, 15),\n",
              " (2, 8, 8),\n",
              " (4, 10, 28),\n",
              " (2, 7, 27),\n",
              " (2, 4, 24),\n",
              " (2, 2, 5),\n",
              " (2, 3, 12),\n",
              " (2, 2, 29),\n",
              " (2, 2, 3),\n",
              " (1, 10, 28),\n",
              " (1, 8, 29),\n",
              " (1, 8, 14),\n",
              " (3, 7, 16),\n",
              " (3, 6, 29)]"
            ]
          },
          "execution_count": 6,
          "metadata": {},
          "output_type": "execute_result"
        }
      ],
      "source": [
        "nadig.ages() #ages of child participants in (year, month, day) format"
      ]
    },
    {
      "cell_type": "code",
      "execution_count": null,
      "metadata": {
        "colab": {
          "base_uri": "https://localhost:8080/"
        },
        "id": "uwJyJXq1Gu4A",
        "outputId": "4f2faa1a-36c8-4cf3-c923-1d4dcd272219"
      },
      "outputs": [
        {
          "name": "stdout",
          "output_type": "stream",
          "text": [
            "43514\n",
            "['what', \"animal's\", 'on', 'there', 'Tracy', '?', 'hm', 'horsie']\n"
          ]
        }
      ],
      "source": [
        "words = nadig.words()  # list of strings, for all the words across all files\n",
        "print(len(words))  # total word count\n",
        "print(words[:8])"
      ]
    },
    {
      "cell_type": "markdown",
      "metadata": {
        "id": "aEc7zncrHAJc"
      },
      "source": [
        "<font size = '4'>By default, words() returns a flat list of results from all the files. If we are interested in the results for individual files, the method has the optional boolean parameter by_files</font>"
      ]
    },
    {
      "cell_type": "code",
      "execution_count": null,
      "metadata": {
        "colab": {
          "base_uri": "https://localhost:8080/"
        },
        "id": "KCpERkvXG6l6",
        "outputId": "6b4de93d-3ad7-4493-e248-f949de031571"
      },
      "outputs": [
        {
          "name": "stdout",
          "output_type": "stream",
          "text": [
            "38\n",
            "1584\n",
            "1431\n",
            "1214\n",
            "1018\n",
            "965\n",
            "1381\n",
            "1135\n",
            "1098\n",
            "792\n",
            "1795\n",
            "867\n",
            "636\n",
            "1773\n",
            "1293\n",
            "1875\n",
            "1115\n",
            "1248\n",
            "1196\n",
            "756\n",
            "1157\n",
            "1386\n",
            "985\n",
            "1462\n",
            "1224\n",
            "1082\n",
            "1314\n",
            "258\n",
            "1215\n",
            "1342\n",
            "772\n",
            "1555\n",
            "1167\n",
            "635\n",
            "683\n",
            "729\n",
            "1240\n",
            "889\n",
            "1247\n"
          ]
        }
      ],
      "source": [
        "words_by_files = nadig.words(by_files=True)  # list of lists of strings, each inner list for one file\n",
        "print(len(words_by_files) ) # expects 38 -- that's the number of files of ``nadig``\n",
        "for words_one_file in words_by_files:\n",
        "    print(len(words_one_file))"
      ]
    },
    {
      "cell_type": "markdown",
      "metadata": {
        "id": "87HYPUzzH30u"
      },
      "source": [
        "<font size = '4'>Apart from transcriptions, CHAT data has rich annotations for linguistic and extra-linguistic information. Such annotations are accessible through the methods tokens() and utterances().\n",
        "\n",
        "Many CHAT datasets on CHILDES have the %mor and %gra tiers for morphological information and grammatical relations, respectively. A reader such as eve from above has all this information readily available to you via tokens() – think of tokens() as words() with annotations: </font>"
      ]
    },
    {
      "cell_type": "code",
      "execution_count": null,
      "metadata": {
        "colab": {
          "base_uri": "https://localhost:8080/"
        },
        "id": "rdAC7GW1HrJr",
        "outputId": "85955a76-539d-4137-fcb9-91b6cf677c5b"
      },
      "outputs": [
        {
          "name": "stdout",
          "output_type": "stream",
          "text": [
            "available token 38\n",
            "[Token(word='what', pos='pro:int', mor='what', gra=Gra(dep=1, head=2, rel='MOD')), Token(word=\"animal's\", pos='n', mor='animal', gra=Gra(dep=2, head=3, rel='SUBJ')), Token(word='CLITIC', pos='cop', mor='be&3S', gra=Gra(dep=3, head=0, rel='ROOT')), Token(word='on', pos='prep', mor='on', gra=Gra(dep=4, head=3, rel='JCT')), Token(word='there', pos='n', mor='there', gra=Gra(dep=5, head=6, rel='MOD'))]\n"
          ]
        }
      ],
      "source": [
        "all_tokens = nadig.tokens(by_files = True)\n",
        "print(f'available token {len(all_tokens)}')\n",
        "some_tokens = all_tokens[0][:5] #take first 5 token for the first chat\n",
        "print(some_tokens)"
      ]
    },
    {
      "cell_type": "code",
      "execution_count": null,
      "metadata": {
        "colab": {
          "base_uri": "https://localhost:8080/"
        },
        "id": "Vsd0gu9PCLvA",
        "outputId": "fd547cb8-031b-4bf9-c442-b08bbec8c6c9"
      },
      "outputs": [
        {
          "name": "stdout",
          "output_type": "stream",
          "text": [
            "Word: what, POS: pro:int\n",
            "Word: animal's, POS: n\n",
            "Word: CLITIC, POS: cop\n",
            "Word: on, POS: prep\n",
            "Word: there, POS: n\n"
          ]
        }
      ],
      "source": [
        "# The Token class is a dataclass. A Token instance has attributes as shown above.\n",
        "for token in some_tokens:\n",
        "    print(f'Word: {token.word}, POS: {token.pos}')"
      ]
    },
    {
      "cell_type": "markdown",
      "metadata": {
        "id": "GdRg3KGAIx0y"
      },
      "source": [
        "<font size='4'>Beyond the %mor and %gra tiers, an utterance has yet more information from the original CHAT data file. If you need information such as the unsegmented transcription, time marks, or any unparsed tiers, utterances() is what you need: </font>"
      ]
    },
    {
      "cell_type": "code",
      "execution_count": null,
      "metadata": {
        "colab": {
          "base_uri": "https://localhost:8080/"
        },
        "id": "P6IY5mYdCLjb",
        "outputId": "51043785-588a-418f-8e9b-ca07bf109867"
      },
      "outputs": [
        {
          "name": "stdout",
          "output_type": "stream",
          "text": [
            "38\n",
            "Utterance(participant='MOT', tokens=[Token(word='what', pos='pro:int', mor='what', gra=Gra(dep=1, head=2, rel='MOD')), Token(word=\"animal's\", pos='n', mor='animal', gra=Gra(dep=2, head=3, rel='SUBJ')), Token(word='CLITIC', pos='cop', mor='be&3S', gra=Gra(dep=3, head=0, rel='ROOT')), Token(word='on', pos='prep', mor='on', gra=Gra(dep=4, head=3, rel='JCT')), Token(word='there', pos='n', mor='there', gra=Gra(dep=5, head=6, rel='MOD')), Token(word='Tracy', pos='n:prop', mor='Tracy', gra=Gra(dep=6, head=4, rel='POBJ')), Token(word='?', pos='?', mor='', gra=Gra(dep=7, head=3, rel='PUNCT'))], time_marks=None, tiers={'MOT': \"what animal's on there Tracy ?\", '%mor': 'pro:int|what n|animal~cop|be&3S prep|on n|there n:prop|Tracy ?', '%gra': '1|2|MOD 2|3|SUBJ 3|0|ROOT 4|3|JCT 5|6|MOD 6|4|POBJ 7|3|PUNCT'})\n"
          ]
        }
      ],
      "source": [
        "nadig_utterance = nadig.utterances(by_files = True)\n",
        "print(len(nadig_utterance))\n",
        "print(nadig_utterance[0][0]) #describe the first utterrance in the first conversation."
      ]
    },
    {
      "cell_type": "markdown",
      "metadata": {
        "id": "bNchSbkRJ6Sj"
      },
      "source": [
        "<font size='4'>Word Frequencies and Ngrams: For word combinatorics, check out word_frequencies() and word_ngrams():</font>"
      ]
    },
    {
      "cell_type": "code",
      "execution_count": null,
      "metadata": {
        "colab": {
          "base_uri": "https://localhost:8080/"
        },
        "id": "LwS1g2u6KYyl",
        "outputId": "a1f67e3f-ff7f-4b99-d493-990767daad84"
      },
      "outputs": [
        {
          "name": "stdout",
          "output_type": "stream",
          "text": [
            "38\n",
            "[('.', 164), ('?', 87), ('you', 62), ('a', 35), ('tea', 34)]\n"
          ]
        }
      ],
      "source": [
        "word_freq = nadig.word_frequencies(by_files = True)  # a collections.Counter object\n",
        "print(len(word_freq))\n",
        "print(word_freq[0].most_common(5)) #print the 5 most common words for the first chat"
      ]
    },
    {
      "cell_type": "code",
      "execution_count": null,
      "metadata": {
        "colab": {
          "base_uri": "https://localhost:8080/"
        },
        "id": "Zh_3wWhqKj04",
        "outputId": "febfc71d-95c7-4ff6-8d49-30ba0c29cff1"
      },
      "outputs": [
        {
          "data": {
            "text/plain": [
              "[(('you', 'wanna'), 12),\n",
              " (('do', 'you'), 8),\n",
              " (('yeah', '.'), 8),\n",
              " (('tea', '.'), 8),\n",
              " (('I', 'think'), 7)]"
            ]
          },
          "execution_count": 20,
          "metadata": {},
          "output_type": "execute_result"
        }
      ],
      "source": [
        "bigrams = nadig.word_ngrams(2, by_files = True)  # a collections.Counter object\n",
        "bigrams[0].most_common(5) #print the 5 most common bigrams for the first chat"
      ]
    }
  ],
  "metadata": {
    "colab": {
      "provenance": []
    },
    "kernelspec": {
      "display_name": "base",
      "language": "python",
      "name": "python3"
    },
    "language_info": {
      "name": "python",
      "version": "3.9.13 (main, Aug 25 2022, 23:51:50) [MSC v.1916 64 bit (AMD64)]"
    },
    "vscode": {
      "interpreter": {
        "hash": "3165825ed7053c8e1afa96bce8518cd8bc26e25fcb10caf600515faea5597791"
      }
    }
  },
  "nbformat": 4,
  "nbformat_minor": 0
}
