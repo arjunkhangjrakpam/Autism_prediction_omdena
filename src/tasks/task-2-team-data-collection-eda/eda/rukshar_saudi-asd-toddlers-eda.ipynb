{
 "cells": [
  {
   "cell_type": "code",
   "execution_count": 1,
   "id": "9e8dde0a",
   "metadata": {
    "_cell_guid": "b1076dfc-b9ad-4769-8c92-a6c4dae69d19",
    "_uuid": "8f2839f25d086af736a60e9eeb907d3b93b6e0e5",
    "execution": {
     "iopub.execute_input": "2023-01-24T15:23:05.121072Z",
     "iopub.status.busy": "2023-01-24T15:23:05.120177Z",
     "iopub.status.idle": "2023-01-24T15:23:06.388949Z",
     "shell.execute_reply": "2023-01-24T15:23:06.387105Z"
    },
    "papermill": {
     "duration": 1.285439,
     "end_time": "2023-01-24T15:23:06.392017",
     "exception": false,
     "start_time": "2023-01-24T15:23:05.106578",
     "status": "completed"
    },
    "tags": []
   },
   "outputs": [],
   "source": [
    "# This Python 3 environment comes with many helpful analytics libraries installed\n",
    "# It is defined by the kaggle/python Docker image: https://github.com/kaggle/docker-python\n",
    "# For example, here's several helpful packages to load\n",
    "\n",
    "import numpy as np # linear algebra\n",
    "import pandas as pd # data processing, CSV file I/O (e.g. pd.read_csv)\n",
    "import matplotlib.pyplot as plt\n",
    "import seaborn as sns\n",
    "sns.set_style('whitegrid')\n",
    "\n",
    "#Convert the text into numeric values.\n",
    "from sklearn.preprocessing import LabelEncoder\n",
    "\n",
    "# Input data files are available in the read-only \"../input/\" directory\n",
    "# For example, running this (by clicking run or pressing Shift+Enter) will list all files under the input directory\n",
    "\n",
    "# import os\n",
    "# for dirname, _, filenames in os.walk('/kaggle/input'):\n",
    "#     for filename in filenames:\n",
    "#         print(os.path.join(dirname, filename))\n",
    "\n",
    "# You can write up to 20GB to the current directory (/kaggle/working/) that gets preserved as output when you create a version using \"Save & Run All\" \n",
    "# You can also write temporary files to /kaggle/temp/, but they won't be saved outside of the current session"
   ]
  },
  {
   "cell_type": "code",
   "execution_count": 3,
   "id": "fcd5c5f2",
   "metadata": {
    "execution": {
     "iopub.execute_input": "2023-01-24T15:23:06.414730Z",
     "iopub.status.busy": "2023-01-24T15:23:06.414302Z",
     "iopub.status.idle": "2023-01-24T15:23:06.458594Z",
     "shell.execute_reply": "2023-01-24T15:23:06.457125Z"
    },
    "papermill": {
     "duration": 0.058699,
     "end_time": "2023-01-24T15:23:06.461348",
     "exception": false,
     "start_time": "2023-01-24T15:23:06.402649",
     "status": "completed"
    },
    "tags": []
   },
   "outputs": [
    {
     "data": {
      "text/html": [
       "<div>\n",
       "<style scoped>\n",
       "    .dataframe tbody tr th:only-of-type {\n",
       "        vertical-align: middle;\n",
       "    }\n",
       "\n",
       "    .dataframe tbody tr th {\n",
       "        vertical-align: top;\n",
       "    }\n",
       "\n",
       "    .dataframe thead th {\n",
       "        text-align: right;\n",
       "    }\n",
       "</style>\n",
       "<table border=\"1\" class=\"dataframe\">\n",
       "  <thead>\n",
       "    <tr style=\"text-align: right;\">\n",
       "      <th></th>\n",
       "      <th>A10</th>\n",
       "      <th>A9</th>\n",
       "      <th>A8</th>\n",
       "      <th>A7</th>\n",
       "      <th>A6</th>\n",
       "      <th>A5</th>\n",
       "      <th>A4</th>\n",
       "      <th>A3</th>\n",
       "      <th>A2</th>\n",
       "      <th>A1</th>\n",
       "      <th>Region</th>\n",
       "      <th>Family member with ASD history</th>\n",
       "      <th>Who is completing the test</th>\n",
       "      <th>Age</th>\n",
       "      <th>Gender</th>\n",
       "      <th>Screening Score</th>\n",
       "      <th>Class</th>\n",
       "    </tr>\n",
       "  </thead>\n",
       "  <tbody>\n",
       "    <tr>\n",
       "      <th>0</th>\n",
       "      <td>0</td>\n",
       "      <td>0</td>\n",
       "      <td>1</td>\n",
       "      <td>1</td>\n",
       "      <td>1</td>\n",
       "      <td>0</td>\n",
       "      <td>0</td>\n",
       "      <td>0</td>\n",
       "      <td>0</td>\n",
       "      <td>0</td>\n",
       "      <td>Makkah Province</td>\n",
       "      <td>No</td>\n",
       "      <td>Family member</td>\n",
       "      <td>32</td>\n",
       "      <td>Female</td>\n",
       "      <td>3</td>\n",
       "      <td>0</td>\n",
       "    </tr>\n",
       "    <tr>\n",
       "      <th>1</th>\n",
       "      <td>0</td>\n",
       "      <td>0</td>\n",
       "      <td>1</td>\n",
       "      <td>0</td>\n",
       "      <td>0</td>\n",
       "      <td>1</td>\n",
       "      <td>0</td>\n",
       "      <td>1</td>\n",
       "      <td>0</td>\n",
       "      <td>0</td>\n",
       "      <td>Makkah Province</td>\n",
       "      <td>No</td>\n",
       "      <td>Family member</td>\n",
       "      <td>30</td>\n",
       "      <td>Female</td>\n",
       "      <td>3</td>\n",
       "      <td>0</td>\n",
       "    </tr>\n",
       "    <tr>\n",
       "      <th>2</th>\n",
       "      <td>0</td>\n",
       "      <td>0</td>\n",
       "      <td>0</td>\n",
       "      <td>1</td>\n",
       "      <td>0</td>\n",
       "      <td>0</td>\n",
       "      <td>0</td>\n",
       "      <td>0</td>\n",
       "      <td>0</td>\n",
       "      <td>0</td>\n",
       "      <td>Makkah Province</td>\n",
       "      <td>No</td>\n",
       "      <td>Family member</td>\n",
       "      <td>36</td>\n",
       "      <td>Male</td>\n",
       "      <td>1</td>\n",
       "      <td>0</td>\n",
       "    </tr>\n",
       "    <tr>\n",
       "      <th>3</th>\n",
       "      <td>0</td>\n",
       "      <td>0</td>\n",
       "      <td>0</td>\n",
       "      <td>0</td>\n",
       "      <td>0</td>\n",
       "      <td>0</td>\n",
       "      <td>0</td>\n",
       "      <td>0</td>\n",
       "      <td>0</td>\n",
       "      <td>0</td>\n",
       "      <td>Makkah Province</td>\n",
       "      <td>Yes</td>\n",
       "      <td>Family member</td>\n",
       "      <td>36</td>\n",
       "      <td>Female</td>\n",
       "      <td>0</td>\n",
       "      <td>0</td>\n",
       "    </tr>\n",
       "    <tr>\n",
       "      <th>4</th>\n",
       "      <td>0</td>\n",
       "      <td>0</td>\n",
       "      <td>0</td>\n",
       "      <td>0</td>\n",
       "      <td>0</td>\n",
       "      <td>0</td>\n",
       "      <td>0</td>\n",
       "      <td>0</td>\n",
       "      <td>0</td>\n",
       "      <td>0</td>\n",
       "      <td>Eastern Province</td>\n",
       "      <td>No</td>\n",
       "      <td>Family member</td>\n",
       "      <td>36</td>\n",
       "      <td>Female</td>\n",
       "      <td>0</td>\n",
       "      <td>0</td>\n",
       "    </tr>\n",
       "  </tbody>\n",
       "</table>\n",
       "</div>"
      ],
      "text/plain": [
       "   A10  A9  A8  A7  A6  A5  A4  A3  A2  A1            Region  \\\n",
       "0    0   0   1   1   1   0   0   0   0   0   Makkah Province   \n",
       "1    0   0   1   0   0   1   0   1   0   0   Makkah Province   \n",
       "2    0   0   0   1   0   0   0   0   0   0   Makkah Province   \n",
       "3    0   0   0   0   0   0   0   0   0   0   Makkah Province   \n",
       "4    0   0   0   0   0   0   0   0   0   0  Eastern Province   \n",
       "\n",
       "  Family member with ASD history Who is completing the test  Age  Gender  \\\n",
       "0                             No              Family member   32  Female   \n",
       "1                             No              Family member   30  Female   \n",
       "2                             No              Family member   36    Male   \n",
       "3                            Yes              Family member   36  Female   \n",
       "4                             No              Family member   36  Female   \n",
       "\n",
       "   Screening Score  Class  \n",
       "0                3      0  \n",
       "1                3      0  \n",
       "2                1      0  \n",
       "3                0      0  \n",
       "4                0      0  "
      ]
     },
     "execution_count": 3,
     "metadata": {},
     "output_type": "execute_result"
    }
   ],
   "source": [
    "#Read the dataset\n",
    "df= pd.read_csv('../../../data/Autism_Spectrum_Disorder_Screening_Data_for _Toddlers_in_Saudi_Arabia_Data_Set.csv')\n",
    "\n",
    "df.head()"
   ]
  },
  {
   "cell_type": "code",
   "execution_count": 4,
   "id": "9bdef5cb",
   "metadata": {
    "execution": {
     "iopub.execute_input": "2023-01-24T15:23:06.484423Z",
     "iopub.status.busy": "2023-01-24T15:23:06.483972Z",
     "iopub.status.idle": "2023-01-24T15:23:06.514088Z",
     "shell.execute_reply": "2023-01-24T15:23:06.512550Z"
    },
    "papermill": {
     "duration": 0.044348,
     "end_time": "2023-01-24T15:23:06.516618",
     "exception": false,
     "start_time": "2023-01-24T15:23:06.472270",
     "status": "completed"
    },
    "tags": []
   },
   "outputs": [
    {
     "name": "stdout",
     "output_type": "stream",
     "text": [
      "<class 'pandas.core.frame.DataFrame'>\n",
      "RangeIndex: 506 entries, 0 to 505\n",
      "Data columns (total 17 columns):\n",
      " #   Column                          Non-Null Count  Dtype \n",
      "---  ------                          --------------  ----- \n",
      " 0   A10                             506 non-null    int64 \n",
      " 1   A9                              506 non-null    int64 \n",
      " 2   A8                              506 non-null    int64 \n",
      " 3   A7                              506 non-null    int64 \n",
      " 4   A6                              506 non-null    int64 \n",
      " 5   A5                              506 non-null    int64 \n",
      " 6   A4                              506 non-null    int64 \n",
      " 7   A3                              506 non-null    int64 \n",
      " 8   A2                              506 non-null    int64 \n",
      " 9   A1                              506 non-null    int64 \n",
      " 10  Region                          506 non-null    object\n",
      " 11  Family member with ASD history  506 non-null    object\n",
      " 12  Who is completing the test      506 non-null    object\n",
      " 13  Age                             506 non-null    int64 \n",
      " 14  Gender                          506 non-null    object\n",
      " 15  Screening Score                 506 non-null    int64 \n",
      " 16  Class                           506 non-null    int64 \n",
      "dtypes: int64(13), object(4)\n",
      "memory usage: 67.3+ KB\n"
     ]
    }
   ],
   "source": [
    "df.info()"
   ]
  },
  {
   "cell_type": "markdown",
   "id": "4d6c36a2",
   "metadata": {
    "papermill": {
     "duration": 0.010227,
     "end_time": "2023-01-24T15:23:06.539117",
     "exception": false,
     "start_time": "2023-01-24T15:23:06.528890",
     "status": "completed"
    },
    "tags": []
   },
   "source": [
    "Let's check for **missing values**"
   ]
  },
  {
   "cell_type": "code",
   "execution_count": 5,
   "id": "9576672e",
   "metadata": {
    "execution": {
     "iopub.execute_input": "2023-01-24T15:23:06.563062Z",
     "iopub.status.busy": "2023-01-24T15:23:06.561768Z",
     "iopub.status.idle": "2023-01-24T15:23:06.571095Z",
     "shell.execute_reply": "2023-01-24T15:23:06.570235Z"
    },
    "papermill": {
     "duration": 0.023828,
     "end_time": "2023-01-24T15:23:06.573638",
     "exception": false,
     "start_time": "2023-01-24T15:23:06.549810",
     "status": "completed"
    },
    "tags": []
   },
   "outputs": [
    {
     "data": {
      "text/plain": [
       "A10                               0\n",
       "A9                                0\n",
       "A8                                0\n",
       "A7                                0\n",
       "A6                                0\n",
       "A5                                0\n",
       "A4                                0\n",
       "A3                                0\n",
       "A2                                0\n",
       "A1                                0\n",
       "Region                            0\n",
       "Family member with ASD history    0\n",
       "Who is completing the test        0\n",
       "Age                               0\n",
       "Gender                            0\n",
       "Screening Score                   0\n",
       "Class                             0\n",
       "dtype: int64"
      ]
     },
     "execution_count": 5,
     "metadata": {},
     "output_type": "execute_result"
    }
   ],
   "source": [
    "#check if there missing data or null\n",
    "df.isnull().sum()"
   ]
  },
  {
   "cell_type": "markdown",
   "id": "06d2c836",
   "metadata": {
    "papermill": {
     "duration": 0.010432,
     "end_time": "2023-01-24T15:23:06.594959",
     "exception": false,
     "start_time": "2023-01-24T15:23:06.584527",
     "status": "completed"
    },
    "tags": []
   },
   "source": [
    "There are no missing values"
   ]
  },
  {
   "cell_type": "code",
   "execution_count": 6,
   "id": "c89fc615",
   "metadata": {
    "execution": {
     "iopub.execute_input": "2023-01-24T15:23:06.618097Z",
     "iopub.status.busy": "2023-01-24T15:23:06.617663Z",
     "iopub.status.idle": "2023-01-24T15:23:06.623548Z",
     "shell.execute_reply": "2023-01-24T15:23:06.622421Z"
    },
    "papermill": {
     "duration": 0.020327,
     "end_time": "2023-01-24T15:23:06.625892",
     "exception": false,
     "start_time": "2023-01-24T15:23:06.605565",
     "status": "completed"
    },
    "tags": []
   },
   "outputs": [],
   "source": [
    "#method to draw pie chart\n",
    "def draw_pie_chart(feature_df): #feature_df is the value count series data for a particular feature\n",
    "    #define Seaborn color palette to use\n",
    "    colors = sns.color_palette('pastel')\n",
    "\n",
    "    #create pie chart\n",
    "    plt.pie(feature_df.values, labels = feature_df.index, colors = colors, autopct='%.0f%%')\n",
    "    plt.show()"
   ]
  },
  {
   "cell_type": "markdown",
   "id": "390bf90f",
   "metadata": {
    "papermill": {
     "duration": 0.010465,
     "end_time": "2023-01-24T15:23:06.647124",
     "exception": false,
     "start_time": "2023-01-24T15:23:06.636659",
     "status": "completed"
    },
    "tags": []
   },
   "source": [
    "# Distribution of Class ( ASD or No ASD)"
   ]
  },
  {
   "cell_type": "code",
   "execution_count": 7,
   "id": "511e9ffd",
   "metadata": {
    "execution": {
     "iopub.execute_input": "2023-01-24T15:23:06.670104Z",
     "iopub.status.busy": "2023-01-24T15:23:06.669713Z",
     "iopub.status.idle": "2023-01-24T15:23:06.674386Z",
     "shell.execute_reply": "2023-01-24T15:23:06.673518Z"
    },
    "papermill": {
     "duration": 0.018862,
     "end_time": "2023-01-24T15:23:06.676555",
     "exception": false,
     "start_time": "2023-01-24T15:23:06.657693",
     "status": "completed"
    },
    "tags": []
   },
   "outputs": [],
   "source": [
    "class_df = df.Class.value_counts()"
   ]
  },
  {
   "cell_type": "code",
   "execution_count": 8,
   "id": "c3651e52",
   "metadata": {
    "execution": {
     "iopub.execute_input": "2023-01-24T15:23:06.700442Z",
     "iopub.status.busy": "2023-01-24T15:23:06.699950Z",
     "iopub.status.idle": "2023-01-24T15:23:06.707847Z",
     "shell.execute_reply": "2023-01-24T15:23:06.706628Z"
    },
    "papermill": {
     "duration": 0.023043,
     "end_time": "2023-01-24T15:23:06.710305",
     "exception": false,
     "start_time": "2023-01-24T15:23:06.687262",
     "status": "completed"
    },
    "tags": []
   },
   "outputs": [
    {
     "data": {
      "text/plain": [
       "1    341\n",
       "0    165\n",
       "Name: Class, dtype: int64"
      ]
     },
     "execution_count": 8,
     "metadata": {},
     "output_type": "execute_result"
    }
   ],
   "source": [
    "class_df"
   ]
  },
  {
   "cell_type": "code",
   "execution_count": 9,
   "id": "fb55e3e2",
   "metadata": {
    "execution": {
     "iopub.execute_input": "2023-01-24T15:23:06.733956Z",
     "iopub.status.busy": "2023-01-24T15:23:06.733100Z",
     "iopub.status.idle": "2023-01-24T15:23:06.913700Z",
     "shell.execute_reply": "2023-01-24T15:23:06.911491Z"
    },
    "papermill": {
     "duration": 0.197461,
     "end_time": "2023-01-24T15:23:06.918657",
     "exception": false,
     "start_time": "2023-01-24T15:23:06.721196",
     "status": "completed"
    },
    "tags": []
   },
   "outputs": [
    {
     "data": {
      "image/png": "[encoded data removed]",
      "text/plain": [
       "<Figure size 640x480 with 1 Axes>"
      ]
     },
     "metadata": {},
     "output_type": "display_data"
    }
   ],
   "source": [
    "draw_pie_chart(class_df)"
   ]
  },
  {
   "cell_type": "markdown",
   "id": "9996217c",
   "metadata": {
    "papermill": {
     "duration": 0.02797,
     "end_time": "2023-01-24T15:23:06.974923",
     "exception": false,
     "start_time": "2023-01-24T15:23:06.946953",
     "status": "completed"
    },
    "tags": []
   },
   "source": [
    "Majority of instances(~70%) are positive meaning the child has ASD. As such, this is a highly imbalanced dataset."
   ]
  },
  {
   "cell_type": "markdown",
   "id": "27d9fcfd",
   "metadata": {
    "papermill": {
     "duration": 0.010801,
     "end_time": "2023-01-24T15:23:07.001914",
     "exception": false,
     "start_time": "2023-01-24T15:23:06.991113",
     "status": "completed"
    },
    "tags": []
   },
   "source": [
    "# Gender"
   ]
  },
  {
   "cell_type": "markdown",
   "id": "2393ae98",
   "metadata": {
    "papermill": {
     "duration": 0.01057,
     "end_time": "2023-01-24T15:23:07.023427",
     "exception": false,
     "start_time": "2023-01-24T15:23:07.012857",
     "status": "completed"
    },
    "tags": []
   },
   "source": [
    "Let's explore **gender** distribution of the children subjects"
   ]
  },
  {
   "cell_type": "code",
   "execution_count": 10,
   "id": "166dbf1a",
   "metadata": {
    "execution": {
     "iopub.execute_input": "2023-01-24T15:23:07.046939Z",
     "iopub.status.busy": "2023-01-24T15:23:07.046556Z",
     "iopub.status.idle": "2023-01-24T15:23:07.051387Z",
     "shell.execute_reply": "2023-01-24T15:23:07.050617Z"
    },
    "papermill": {
     "duration": 0.019305,
     "end_time": "2023-01-24T15:23:07.053575",
     "exception": false,
     "start_time": "2023-01-24T15:23:07.034270",
     "status": "completed"
    },
    "tags": []
   },
   "outputs": [],
   "source": [
    "gender_df = df.Gender.value_counts()"
   ]
  },
  {
   "cell_type": "code",
   "execution_count": 11,
   "id": "1ee7030a",
   "metadata": {
    "execution": {
     "iopub.execute_input": "2023-01-24T15:23:07.078396Z",
     "iopub.status.busy": "2023-01-24T15:23:07.077632Z",
     "iopub.status.idle": "2023-01-24T15:23:07.084599Z",
     "shell.execute_reply": "2023-01-24T15:23:07.083772Z"
    },
    "papermill": {
     "duration": 0.02149,
     "end_time": "2023-01-24T15:23:07.086717",
     "exception": false,
     "start_time": "2023-01-24T15:23:07.065227",
     "status": "completed"
    },
    "tags": []
   },
   "outputs": [
    {
     "data": {
      "text/plain": [
       "Female    349\n",
       "Male      157\n",
       "Name: Gender, dtype: int64"
      ]
     },
     "execution_count": 11,
     "metadata": {},
     "output_type": "execute_result"
    }
   ],
   "source": [
    "gender_df"
   ]
  },
  {
   "cell_type": "code",
   "execution_count": 12,
   "id": "814a0c22",
   "metadata": {
    "execution": {
     "iopub.execute_input": "2023-01-24T15:23:07.111356Z",
     "iopub.status.busy": "2023-01-24T15:23:07.110570Z",
     "iopub.status.idle": "2023-01-24T15:23:07.195231Z",
     "shell.execute_reply": "2023-01-24T15:23:07.193684Z"
    },
    "papermill": {
     "duration": 0.101454,
     "end_time": "2023-01-24T15:23:07.199455",
     "exception": false,
     "start_time": "2023-01-24T15:23:07.098001",
     "status": "completed"
    },
    "tags": []
   },
   "outputs": [
    {
     "data": {
      "image/png": "[encoded data removed]",
      "text/plain": [
       "<Figure size 640x480 with 1 Axes>"
      ]
     },
     "metadata": {},
     "output_type": "display_data"
    }
   ],
   "source": [
    "draw_pie_chart(gender_df)"
   ]
  },
  {
   "cell_type": "markdown",
   "id": "b091f1b6",
   "metadata": {
    "papermill": {
     "duration": 0.028425,
     "end_time": "2023-01-24T15:23:07.256919",
     "exception": false,
     "start_time": "2023-01-24T15:23:07.228494",
     "status": "completed"
    },
    "tags": []
   },
   "source": [
    "The majority of subjects(~70%) are female children."
   ]
  },
  {
   "cell_type": "markdown",
   "id": "38994eb7",
   "metadata": {
    "papermill": {
     "duration": 0.011033,
     "end_time": "2023-01-24T15:23:07.296260",
     "exception": false,
     "start_time": "2023-01-24T15:23:07.285227",
     "status": "completed"
    },
    "tags": []
   },
   "source": [
    "# Region"
   ]
  },
  {
   "cell_type": "markdown",
   "id": "b04c6483",
   "metadata": {
    "papermill": {
     "duration": 0.011063,
     "end_time": "2023-01-24T15:23:07.319239",
     "exception": false,
     "start_time": "2023-01-24T15:23:07.308176",
     "status": "completed"
    },
    "tags": []
   },
   "source": [
    "Let's explore the **region** of residence for these children"
   ]
  },
  {
   "cell_type": "code",
   "execution_count": 13,
   "id": "56ff1650",
   "metadata": {
    "execution": {
     "iopub.execute_input": "2023-01-24T15:23:07.345253Z",
     "iopub.status.busy": "2023-01-24T15:23:07.344349Z",
     "iopub.status.idle": "2023-01-24T15:23:07.350045Z",
     "shell.execute_reply": "2023-01-24T15:23:07.349220Z"
    },
    "papermill": {
     "duration": 0.020798,
     "end_time": "2023-01-24T15:23:07.352251",
     "exception": false,
     "start_time": "2023-01-24T15:23:07.331453",
     "status": "completed"
    },
    "tags": []
   },
   "outputs": [],
   "source": [
    "region_df = df.Region.value_counts()"
   ]
  },
  {
   "cell_type": "code",
   "execution_count": 14,
   "id": "8732442a",
   "metadata": {
    "execution": {
     "iopub.execute_input": "2023-01-24T15:23:07.377360Z",
     "iopub.status.busy": "2023-01-24T15:23:07.376699Z",
     "iopub.status.idle": "2023-01-24T15:23:07.383310Z",
     "shell.execute_reply": "2023-01-24T15:23:07.382431Z"
    },
    "papermill": {
     "duration": 0.021448,
     "end_time": "2023-01-24T15:23:07.385385",
     "exception": false,
     "start_time": "2023-01-24T15:23:07.363937",
     "status": "completed"
    },
    "tags": []
   },
   "outputs": [
    {
     "data": {
      "text/plain": [
       "Makkah Province              217\n",
       "Riyadh Province               85\n",
       "Eastern Province              50\n",
       "Madinah Province              23\n",
       "Qassim Province               22\n",
       "Jizan Province                19\n",
       "Tabuk Province                18\n",
       "Ha'il Province                16\n",
       "Northern Borders Province     15\n",
       "Aseer Province                13\n",
       "Al Jawf Province              12\n",
       "Najran Province                9\n",
       "Al Baha Province               7\n",
       "Name: Region, dtype: int64"
      ]
     },
     "execution_count": 14,
     "metadata": {},
     "output_type": "execute_result"
    }
   ],
   "source": [
    "region_df"
   ]
  },
  {
   "cell_type": "code",
   "execution_count": 15,
   "id": "3fd61759",
   "metadata": {
    "execution": {
     "iopub.execute_input": "2023-01-24T15:23:07.410327Z",
     "iopub.status.busy": "2023-01-24T15:23:07.409894Z",
     "iopub.status.idle": "2023-01-24T15:23:07.643220Z",
     "shell.execute_reply": "2023-01-24T15:23:07.641589Z"
    },
    "papermill": {
     "duration": 0.251067,
     "end_time": "2023-01-24T15:23:07.647937",
     "exception": false,
     "start_time": "2023-01-24T15:23:07.396870",
     "status": "completed"
    },
    "tags": []
   },
   "outputs": [
    {
     "data": {
      "image/png": "[encoded data removed]",
      "text/plain": [
       "<Figure size 640x480 with 1 Axes>"
      ]
     },
     "metadata": {},
     "output_type": "display_data"
    }
   ],
   "source": [
    "draw_pie_chart(region_df)"
   ]
  },
  {
   "cell_type": "markdown",
   "id": "475ace9a",
   "metadata": {
    "papermill": {
     "duration": 0.011666,
     "end_time": "2023-01-24T15:23:07.679121",
     "exception": false,
     "start_time": "2023-01-24T15:23:07.667455",
     "status": "completed"
    },
    "tags": []
   },
   "source": [
    "The largest number of cases come from the **Makkah** region followed by **Riyadh** and **Eastern** regions."
   ]
  },
  {
   "cell_type": "markdown",
   "id": "6e39f072",
   "metadata": {
    "papermill": {
     "duration": 0.011536,
     "end_time": "2023-01-24T15:23:07.702754",
     "exception": false,
     "start_time": "2023-01-24T15:23:07.691218",
     "status": "completed"
    },
    "tags": []
   },
   "source": [
    "# Family members with ASD"
   ]
  },
  {
   "cell_type": "code",
   "execution_count": 16,
   "id": "acbb5d82",
   "metadata": {
    "execution": {
     "iopub.execute_input": "2023-01-24T15:23:07.728517Z",
     "iopub.status.busy": "2023-01-24T15:23:07.728115Z",
     "iopub.status.idle": "2023-01-24T15:23:07.733664Z",
     "shell.execute_reply": "2023-01-24T15:23:07.732548Z"
    },
    "papermill": {
     "duration": 0.021062,
     "end_time": "2023-01-24T15:23:07.735833",
     "exception": false,
     "start_time": "2023-01-24T15:23:07.714771",
     "status": "completed"
    },
    "tags": []
   },
   "outputs": [],
   "source": [
    "fam_asd_df = df['Family member with ASD history'].value_counts()"
   ]
  },
  {
   "cell_type": "code",
   "execution_count": 17,
   "id": "13b44078",
   "metadata": {
    "execution": {
     "iopub.execute_input": "2023-01-24T15:23:07.761822Z",
     "iopub.status.busy": "2023-01-24T15:23:07.761439Z",
     "iopub.status.idle": "2023-01-24T15:23:07.769106Z",
     "shell.execute_reply": "2023-01-24T15:23:07.767953Z"
    },
    "papermill": {
     "duration": 0.023507,
     "end_time": "2023-01-24T15:23:07.771446",
     "exception": false,
     "start_time": "2023-01-24T15:23:07.747939",
     "status": "completed"
    },
    "tags": []
   },
   "outputs": [
    {
     "data": {
      "text/plain": [
       "No     384\n",
       "Yes    122\n",
       "Name: Family member with ASD history, dtype: int64"
      ]
     },
     "execution_count": 17,
     "metadata": {},
     "output_type": "execute_result"
    }
   ],
   "source": [
    "fam_asd_df"
   ]
  },
  {
   "cell_type": "code",
   "execution_count": 18,
   "id": "11347e0e",
   "metadata": {
    "execution": {
     "iopub.execute_input": "2023-01-24T15:23:07.797754Z",
     "iopub.status.busy": "2023-01-24T15:23:07.797363Z",
     "iopub.status.idle": "2023-01-24T15:23:07.891724Z",
     "shell.execute_reply": "2023-01-24T15:23:07.890312Z"
    },
    "papermill": {
     "duration": 0.112231,
     "end_time": "2023-01-24T15:23:07.895995",
     "exception": false,
     "start_time": "2023-01-24T15:23:07.783764",
     "status": "completed"
    },
    "tags": []
   },
   "outputs": [
    {
     "data": {
      "image/png": "[encoded data removed]",
      "text/plain": [
       "<Figure size 640x480 with 1 Axes>"
      ]
     },
     "metadata": {},
     "output_type": "display_data"
    }
   ],
   "source": [
    "draw_pie_chart(fam_asd_df)"
   ]
  },
  {
   "cell_type": "markdown",
   "id": "e0d91957",
   "metadata": {
    "papermill": {
     "duration": 0.031146,
     "end_time": "2023-01-24T15:23:07.960033",
     "exception": false,
     "start_time": "2023-01-24T15:23:07.928887",
     "status": "completed"
    },
    "tags": []
   },
   "source": [
    "Majority of the children have no known family history of ASD"
   ]
  },
  {
   "cell_type": "code",
   "execution_count": 19,
   "id": "fe306492",
   "metadata": {
    "execution": {
     "iopub.execute_input": "2023-01-24T15:23:07.999914Z",
     "iopub.status.busy": "2023-01-24T15:23:07.998993Z",
     "iopub.status.idle": "2023-01-24T15:23:08.005838Z",
     "shell.execute_reply": "2023-01-24T15:23:08.004869Z"
    },
    "papermill": {
     "duration": 0.022661,
     "end_time": "2023-01-24T15:23:08.007833",
     "exception": false,
     "start_time": "2023-01-24T15:23:07.985172",
     "status": "completed"
    },
    "tags": []
   },
   "outputs": [],
   "source": [
    "fam_asd_w_child_asd = df[df.Class == 1]['Family member with ASD history'].value_counts()"
   ]
  },
  {
   "cell_type": "markdown",
   "id": "3e73b913",
   "metadata": {
    "papermill": {
     "duration": 0.012152,
     "end_time": "2023-01-24T15:23:08.032810",
     "exception": false,
     "start_time": "2023-01-24T15:23:08.020658",
     "status": "completed"
    },
    "tags": []
   },
   "source": [
    "Let's check the family history of children with autism"
   ]
  },
  {
   "cell_type": "code",
   "execution_count": 20,
   "id": "ebb769e0",
   "metadata": {
    "execution": {
     "iopub.execute_input": "2023-01-24T15:23:08.059199Z",
     "iopub.status.busy": "2023-01-24T15:23:08.058577Z",
     "iopub.status.idle": "2023-01-24T15:23:08.065417Z",
     "shell.execute_reply": "2023-01-24T15:23:08.064637Z"
    },
    "papermill": {
     "duration": 0.022189,
     "end_time": "2023-01-24T15:23:08.067276",
     "exception": false,
     "start_time": "2023-01-24T15:23:08.045087",
     "status": "completed"
    },
    "tags": []
   },
   "outputs": [
    {
     "data": {
      "text/plain": [
       "No     237\n",
       "Yes    104\n",
       "Name: Family member with ASD history, dtype: int64"
      ]
     },
     "execution_count": 20,
     "metadata": {},
     "output_type": "execute_result"
    }
   ],
   "source": [
    "fam_asd_w_child_asd"
   ]
  },
  {
   "cell_type": "code",
   "execution_count": 21,
   "id": "8d057b3c",
   "metadata": {
    "execution": {
     "iopub.execute_input": "2023-01-24T15:23:08.093717Z",
     "iopub.status.busy": "2023-01-24T15:23:08.093288Z",
     "iopub.status.idle": "2023-01-24T15:23:08.178254Z",
     "shell.execute_reply": "2023-01-24T15:23:08.176778Z"
    },
    "papermill": {
     "duration": 0.103161,
     "end_time": "2023-01-24T15:23:08.182772",
     "exception": false,
     "start_time": "2023-01-24T15:23:08.079611",
     "status": "completed"
    },
    "tags": []
   },
   "outputs": [
    {
     "data": {
      "image/png": "[encoded data removed]",
      "text/plain": [
       "<Figure size 640x480 with 1 Axes>"
      ]
     },
     "metadata": {},
     "output_type": "display_data"
    }
   ],
   "source": [
    "draw_pie_chart(fam_asd_w_child_asd)"
   ]
  },
  {
   "cell_type": "markdown",
   "id": "fd66d104",
   "metadata": {
    "papermill": {
     "duration": 0.032159,
     "end_time": "2023-01-24T15:23:08.247479",
     "exception": false,
     "start_time": "2023-01-24T15:23:08.215320",
     "status": "completed"
    },
    "tags": []
   },
   "source": [
    "family history with ASD is slightly **higher** for children with Austism"
   ]
  },
  {
   "cell_type": "markdown",
   "id": "2f9c9a27",
   "metadata": {
    "papermill": {
     "duration": 0.012985,
     "end_time": "2023-01-24T15:23:08.286051",
     "exception": false,
     "start_time": "2023-01-24T15:23:08.273066",
     "status": "completed"
    },
    "tags": []
   },
   "source": [
    "Let's check the family history of children with no autism"
   ]
  },
  {
   "cell_type": "code",
   "execution_count": 22,
   "id": "87bf6dc0",
   "metadata": {
    "execution": {
     "iopub.execute_input": "2023-01-24T15:23:08.313812Z",
     "iopub.status.busy": "2023-01-24T15:23:08.313387Z",
     "iopub.status.idle": "2023-01-24T15:23:08.320452Z",
     "shell.execute_reply": "2023-01-24T15:23:08.319236Z"
    },
    "papermill": {
     "duration": 0.023664,
     "end_time": "2023-01-24T15:23:08.322697",
     "exception": false,
     "start_time": "2023-01-24T15:23:08.299033",
     "status": "completed"
    },
    "tags": []
   },
   "outputs": [],
   "source": [
    "fam_asd_w_no_child_asd = df[df.Class == 0]['Family member with ASD history'].value_counts()"
   ]
  },
  {
   "cell_type": "code",
   "execution_count": 23,
   "id": "8673e5f9",
   "metadata": {
    "execution": {
     "iopub.execute_input": "2023-01-24T15:23:08.350552Z",
     "iopub.status.busy": "2023-01-24T15:23:08.349326Z",
     "iopub.status.idle": "2023-01-24T15:23:08.357667Z",
     "shell.execute_reply": "2023-01-24T15:23:08.356579Z"
    },
    "papermill": {
     "duration": 0.02447,
     "end_time": "2023-01-24T15:23:08.359915",
     "exception": false,
     "start_time": "2023-01-24T15:23:08.335445",
     "status": "completed"
    },
    "tags": []
   },
   "outputs": [
    {
     "data": {
      "text/plain": [
       "No     147\n",
       "Yes     18\n",
       "Name: Family member with ASD history, dtype: int64"
      ]
     },
     "execution_count": 23,
     "metadata": {},
     "output_type": "execute_result"
    }
   ],
   "source": [
    "fam_asd_w_no_child_asd"
   ]
  },
  {
   "cell_type": "code",
   "execution_count": 24,
   "id": "c775a6d5",
   "metadata": {
    "execution": {
     "iopub.execute_input": "2023-01-24T15:23:08.387846Z",
     "iopub.status.busy": "2023-01-24T15:23:08.387405Z",
     "iopub.status.idle": "2023-01-24T15:23:08.480886Z",
     "shell.execute_reply": "2023-01-24T15:23:08.479187Z"
    },
    "papermill": {
     "duration": 0.112102,
     "end_time": "2023-01-24T15:23:08.485098",
     "exception": false,
     "start_time": "2023-01-24T15:23:08.372996",
     "status": "completed"
    },
    "tags": []
   },
   "outputs": [
    {
     "data": {
      "image/png": "[encoded data removed]",
      "text/plain": [
       "<Figure size 640x480 with 1 Axes>"
      ]
     },
     "metadata": {},
     "output_type": "display_data"
    }
   ],
   "source": [
    "draw_pie_chart(fam_asd_w_no_child_asd)"
   ]
  },
  {
   "cell_type": "markdown",
   "id": "03a8bcbf",
   "metadata": {
    "papermill": {
     "duration": 0.033364,
     "end_time": "2023-01-24T15:23:08.552584",
     "exception": false,
     "start_time": "2023-01-24T15:23:08.519220",
     "status": "completed"
    },
    "tags": []
   },
   "source": [
    "family history with ASD is **quite lower** for children with no Austism. This short analysis into family history could indicate a **positive correlation between family history and autism in children**. However, only 30% of cases for ASD children have family ASD history and so family history may not be so influential a feature."
   ]
  },
  {
   "cell_type": "markdown",
   "id": "5356a425",
   "metadata": {
    "papermill": {
     "duration": 0.012764,
     "end_time": "2023-01-24T15:23:08.588862",
     "exception": false,
     "start_time": "2023-01-24T15:23:08.576098",
     "status": "completed"
    },
    "tags": []
   },
   "source": [
    "# Age Distribution of Children"
   ]
  },
  {
   "cell_type": "code",
   "execution_count": 25,
   "id": "92614829",
   "metadata": {
    "execution": {
     "iopub.execute_input": "2023-01-24T15:23:08.617314Z",
     "iopub.status.busy": "2023-01-24T15:23:08.616869Z",
     "iopub.status.idle": "2023-01-24T15:23:08.622082Z",
     "shell.execute_reply": "2023-01-24T15:23:08.621127Z"
    },
    "papermill": {
     "duration": 0.022066,
     "end_time": "2023-01-24T15:23:08.624124",
     "exception": false,
     "start_time": "2023-01-24T15:23:08.602058",
     "status": "completed"
    },
    "tags": []
   },
   "outputs": [],
   "source": [
    "age_df = df['Age'].value_counts()"
   ]
  },
  {
   "cell_type": "code",
   "execution_count": 32,
   "id": "4badfb24",
   "metadata": {
    "execution": {
     "iopub.execute_input": "2023-01-24T15:23:08.653937Z",
     "iopub.status.busy": "2023-01-24T15:23:08.652848Z",
     "iopub.status.idle": "2023-01-24T15:23:09.043195Z",
     "shell.execute_reply": "2023-01-24T15:23:09.042039Z"
    },
    "papermill": {
     "duration": 0.408124,
     "end_time": "2023-01-24T15:23:09.045672",
     "exception": false,
     "start_time": "2023-01-24T15:23:08.637548",
     "status": "completed"
    },
    "tags": []
   },
   "outputs": [
    {
     "data": {
      "image/png": "[encoded data removed]",
      "text/plain": [
       "<Figure size 640x480 with 1 Axes>"
      ]
     },
     "metadata": {},
     "output_type": "display_data"
    }
   ],
   "source": [
    "age_df.plot(kind='bar', color = 'green');"
   ]
  },
  {
   "cell_type": "markdown",
   "id": "640e20de",
   "metadata": {
    "papermill": {
     "duration": 0.013431,
     "end_time": "2023-01-24T15:23:09.073317",
     "exception": false,
     "start_time": "2023-01-24T15:23:09.059886",
     "status": "completed"
    },
    "tags": []
   },
   "source": [
    "A plurality of parents take the questionnaires when the children are 36 months old or 3 years old followed by 12 months old(1 year old) and 24 months old(2 years old). This indicates guardians perform the checkups around their children's birthdays."
   ]
  },
  {
   "cell_type": "code",
   "execution_count": 27,
   "id": "67f4e7d7",
   "metadata": {
    "execution": {
     "iopub.execute_input": "2023-01-24T15:23:09.102221Z",
     "iopub.status.busy": "2023-01-24T15:23:09.101765Z",
     "iopub.status.idle": "2023-01-24T15:23:09.109923Z",
     "shell.execute_reply": "2023-01-24T15:23:09.108791Z"
    },
    "papermill": {
     "duration": 0.025439,
     "end_time": "2023-01-24T15:23:09.112294",
     "exception": false,
     "start_time": "2023-01-24T15:23:09.086855",
     "status": "completed"
    },
    "tags": []
   },
   "outputs": [],
   "source": [
    "age_df_w_asd = df[df.Class == 1]['Age'].value_counts()"
   ]
  },
  {
   "cell_type": "code",
   "execution_count": 31,
   "id": "16ab1771",
   "metadata": {
    "execution": {
     "iopub.execute_input": "2023-01-24T15:23:09.143286Z",
     "iopub.status.busy": "2023-01-24T15:23:09.142051Z",
     "iopub.status.idle": "2023-01-24T15:23:09.504049Z",
     "shell.execute_reply": "2023-01-24T15:23:09.503215Z"
    },
    "papermill": {
     "duration": 0.380047,
     "end_time": "2023-01-24T15:23:09.506424",
     "exception": false,
     "start_time": "2023-01-24T15:23:09.126377",
     "status": "completed"
    },
    "tags": []
   },
   "outputs": [
    {
     "data": {
      "image/png": "[encoded data removed]",
      "text/plain": [
       "<Figure size 640x480 with 1 Axes>"
      ]
     },
     "metadata": {},
     "output_type": "display_data"
    }
   ],
   "source": [
    "age_df_w_asd.plot(kind='bar', color = 'red');"
   ]
  },
  {
   "cell_type": "markdown",
   "id": "5f713a9a",
   "metadata": {
    "papermill": {
     "duration": 0.013706,
     "end_time": "2023-01-24T15:23:09.534286",
     "exception": false,
     "start_time": "2023-01-24T15:23:09.520580",
     "status": "completed"
    },
    "tags": []
   },
   "source": [
    "Since a plurality of parents test their children when they are 3 years old or 1 year old, the detection of ASD is also more prevalent around that time period. "
   ]
  },
  {
   "cell_type": "markdown",
   "id": "16df77d4",
   "metadata": {
    "papermill": {
     "duration": 0.013593,
     "end_time": "2023-01-24T15:23:09.561803",
     "exception": false,
     "start_time": "2023-01-24T15:23:09.548210",
     "status": "completed"
    },
    "tags": []
   },
   "source": [
    "# Heatmap correlation"
   ]
  },
  {
   "cell_type": "markdown",
   "id": "4777e2fa",
   "metadata": {
    "papermill": {
     "duration": 0.013607,
     "end_time": "2023-01-24T15:23:09.589293",
     "exception": false,
     "start_time": "2023-01-24T15:23:09.575686",
     "status": "completed"
    },
    "tags": []
   },
   "source": [
    "In order to determine correlation between ASD class and gender/region/family history, these 3 variables need to be converted to numeric values "
   ]
  },
  {
   "cell_type": "code",
   "execution_count": 29,
   "id": "5c9f4d81",
   "metadata": {
    "execution": {
     "iopub.execute_input": "2023-01-24T15:23:09.619209Z",
     "iopub.status.busy": "2023-01-24T15:23:09.618360Z",
     "iopub.status.idle": "2023-01-24T15:23:09.627172Z",
     "shell.execute_reply": "2023-01-24T15:23:09.626067Z"
    },
    "papermill": {
     "duration": 0.026115,
     "end_time": "2023-01-24T15:23:09.629315",
     "exception": false,
     "start_time": "2023-01-24T15:23:09.603200",
     "status": "completed"
    },
    "tags": []
   },
   "outputs": [],
   "source": [
    "df_numeric = df.copy()\n",
    "le_Species = LabelEncoder()\n",
    "df_numeric['Family member with ASD history'] = le_Species.fit_transform(df_numeric['Family member with ASD history'])\n",
    "df_numeric['Gender'] = le_Species.fit_transform(df_numeric['Gender'])\n",
    "df_numeric['Region'] = le_Species.fit_transform(df_numeric['Region'])"
   ]
  },
  {
   "cell_type": "code",
   "execution_count": 30,
   "id": "7300cebe",
   "metadata": {
    "execution": {
     "iopub.execute_input": "2023-01-24T15:23:09.659688Z",
     "iopub.status.busy": "2023-01-24T15:23:09.659032Z",
     "iopub.status.idle": "2023-01-24T15:23:10.154752Z",
     "shell.execute_reply": "2023-01-24T15:23:10.153258Z"
    },
    "papermill": {
     "duration": 0.514287,
     "end_time": "2023-01-24T15:23:10.157904",
     "exception": false,
     "start_time": "2023-01-24T15:23:09.643617",
     "status": "completed"
    },
    "tags": []
   },
   "outputs": [
    {
     "name": "stderr",
     "output_type": "stream",
     "text": [
      "C:\\Users\\kmedr\\AppData\\Local\\Temp\\ipykernel_5952\\2117061897.py:1: FutureWarning: The default value of numeric_only in DataFrame.corr is deprecated. In a future version, it will default to False. Select only valid columns or specify the value of numeric_only to silence this warning.\n",
      "  correlation=df_numeric.corr()\n"
     ]
    },
    {
     "data": {
      "text/plain": [
       "Text(0.5, 1.0, 'Correlation')"
      ]
     },
     "execution_count": 30,
     "metadata": {},
     "output_type": "execute_result"
    },
    {
     "data": {
      "image/png": "[encoded data removed]",
      "text/plain": [
       "<Figure size 1500x1200 with 2 Axes>"
      ]
     },
     "metadata": {},
     "output_type": "display_data"
    }
   ],
   "source": [
    "correlation=df_numeric.corr()\n",
    "fig=plt.figure(figsize=(15,12))\n",
    "r=sns.heatmap(correlation,cmap=\"RdPu\")\n",
    "r.set_title(\"Correlation\")"
   ]
  },
  {
   "cell_type": "markdown",
   "id": "e5ee0742",
   "metadata": {
    "papermill": {
     "duration": 0.014032,
     "end_time": "2023-01-24T15:23:10.186740",
     "exception": false,
     "start_time": "2023-01-24T15:23:10.172708",
     "status": "completed"
    },
    "tags": []
   },
   "source": [
    "It seems region, family history, age, gender are **not important** for determining ASD in children. Among the main features (A1-A10), **A9,A6, and A2** are the most important features. Inter-correlation among these 10 features hovers around 0.4"
   ]
  }
 ],
 "metadata": {
  "kernelspec": {
   "display_name": "sril_env",
   "language": "python",
   "name": "python3"
  },
  "language_info": {
   "codemirror_mode": {
    "name": "ipython",
    "version": 3
   },
   "file_extension": ".py",
   "mimetype": "text/x-python",
   "name": "python",
   "nbconvert_exporter": "python",
   "pygments_lexer": "ipython3",
   "version": "3.10.4"
  },
  "papermill": {
   "default_parameters": {},
   "duration": 15.313795,
   "end_time": "2023-01-24T15:23:11.023651",
   "environment_variables": {},
   "exception": null,
   "input_path": "__notebook__.ipynb",
   "output_path": "__notebook__.ipynb",
   "parameters": {},
   "start_time": "2023-01-24T15:22:55.709856",
   "version": "2.3.4"
  },
  "vscode": {
   "interpreter": {
    "hash": "043f27b72eea39df09a049984cc3cb1e23a5713445e4deb21abfcd96560d9e54"
   }
  }
 },
 "nbformat": 4,
 "nbformat_minor": 5
}
