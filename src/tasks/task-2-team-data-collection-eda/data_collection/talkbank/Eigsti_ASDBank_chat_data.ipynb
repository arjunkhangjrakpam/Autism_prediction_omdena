{
  "nbformat": 4,
  "nbformat_minor": 0,
  "metadata": {
    "colab": {
      "provenance": []
    },
    "kernelspec": {
      "name": "python3",
      "display_name": "Python 3"
    },
    "language_info": {
      "name": "python"
    }
  },
  "cells": [
    {
      "cell_type": "markdown",
      "source": [
        "Source: https://asd.talkbank.org/access/English/Eigsti.html\n",
        "\n",
        "Associated dataset paper link: https://asd.talkbank.org/access/0docs/Eigsti2007.pdf\n",
        "\n",
        "- The files consist of transcribed 30-minute free play sessions of children ages 3-6 years, with ASD, non-ASD developmental delay, and typical development (n=16 per group)[48 files in total].\n",
        "- The first 100 utterances for each participant were included. "
      ],
      "metadata": {
        "id": "gbWuUhelDrBX"
      }
    },
    {
      "cell_type": "code",
      "execution_count": 1,
      "metadata": {
        "colab": {
          "base_uri": "https://localhost:8080/"
        },
        "id": "NqPjS7VKDZBR",
        "outputId": "ac57301c-cf44-4208-dd9f-471c575c0243"
      },
      "outputs": [
        {
          "output_type": "stream",
          "name": "stdout",
          "text": [
            "Mounted at /content/drive\n"
          ]
        }
      ],
      "source": [
        "from google.colab import drive\n",
        "drive.mount('/content/drive')\n",
        "\n",
        "#Optional: move to the desired location:\n",
        "#%cd drive/My Drive/DIRECTORY_IN_YOUR_DRIVE"
      ]
    },
    {
      "cell_type": "code",
      "source": [
        "!pip install --upgrade pylangacq"
      ],
      "metadata": {
        "colab": {
          "base_uri": "https://localhost:8080/"
        },
        "id": "emqxKpHBDhcs",
        "outputId": "8bd3c002-ed72-4f88-f1c0-06fded39bd2b"
      },
      "execution_count": 2,
      "outputs": [
        {
          "output_type": "stream",
          "name": "stdout",
          "text": [
            "Looking in indexes: https://pypi.org/simple, https://us-python.pkg.dev/colab-wheels/public/simple/\n",
            "Collecting pylangacq\n",
            "  Downloading pylangacq-0.17.0-py3-none-any.whl (65 kB)\n",
            "\u001b[2K     \u001b[90m━━━━━━━━━━━━━━━━━━━━━━━━━━━━━━━━━━━━━━━━\u001b[0m \u001b[32m65.2/65.2 KB\u001b[0m \u001b[31m3.8 MB/s\u001b[0m eta \u001b[36m0:00:00\u001b[0m\n",
            "\u001b[?25hRequirement already satisfied: tabulate[widechars]>=0.8.9 in /usr/local/lib/python3.8/dist-packages (from pylangacq) (0.8.10)\n",
            "Requirement already satisfied: requests>=2.18.0 in /usr/local/lib/python3.8/dist-packages (from pylangacq) (2.25.1)\n",
            "Requirement already satisfied: python-dateutil>=2.0.0 in /usr/local/lib/python3.8/dist-packages (from pylangacq) (2.8.2)\n",
            "Requirement already satisfied: six>=1.5 in /usr/local/lib/python3.8/dist-packages (from python-dateutil>=2.0.0->pylangacq) (1.15.0)\n",
            "Requirement already satisfied: urllib3<1.27,>=1.21.1 in /usr/local/lib/python3.8/dist-packages (from requests>=2.18.0->pylangacq) (1.24.3)\n",
            "Requirement already satisfied: idna<3,>=2.5 in /usr/local/lib/python3.8/dist-packages (from requests>=2.18.0->pylangacq) (2.10)\n",
            "Requirement already satisfied: certifi>=2017.4.17 in /usr/local/lib/python3.8/dist-packages (from requests>=2.18.0->pylangacq) (2022.12.7)\n",
            "Requirement already satisfied: chardet<5,>=3.0.2 in /usr/local/lib/python3.8/dist-packages (from requests>=2.18.0->pylangacq) (4.0.0)\n",
            "Requirement already satisfied: wcwidth in /usr/local/lib/python3.8/dist-packages (from tabulate[widechars]>=0.8.9->pylangacq) (0.2.5)\n",
            "Installing collected packages: pylangacq\n",
            "Successfully installed pylangacq-0.17.0\n"
          ]
        }
      ]
    },
    {
      "cell_type": "code",
      "source": [
        "import pylangacq\n",
        "import pandas as pd\n",
        "import os"
      ],
      "metadata": {
        "id": "7TNvyGdfEdqg"
      },
      "execution_count": 3,
      "outputs": []
    },
    {
      "cell_type": "code",
      "source": [
        "url = \"drive/My Drive/Omdena/SriLanka/Autism/asd_talkbank/Eigsti.zip\"\n",
        "eigsti = pylangacq.read_chat(url )\n",
        "eigsti.n_files() #how many chat files are present for this data"
      ],
      "metadata": {
        "colab": {
          "base_uri": "https://localhost:8080/"
        },
        "id": "sSjn2JP-Ev0m",
        "outputId": "e59b7215-3dab-446c-e422-fa9bc765ab08"
      },
      "execution_count": 4,
      "outputs": [
        {
          "output_type": "execute_result",
          "data": {
            "text/plain": [
              "48"
            ]
          },
          "metadata": {},
          "execution_count": 4
        }
      ]
    },
    {
      "cell_type": "markdown",
      "source": [
        "# Extract Raw Data"
      ],
      "metadata": {
        "id": "z7lMdC7EE9Ju"
      }
    },
    {
      "cell_type": "code",
      "source": [
        "file_names = eigsti.file_paths() #file names will be used for later csv file-saving.\n",
        "file_names = [file_name.split('/')[1].split('.')[0] for file_name in file_names] #extract the file name from the path\n",
        "#file name has format Eigsti/1010.cha . So, we split on '/', take the later part(1010.cha). Again we split on '.' and take the first part '1010'."
      ],
      "metadata": {
        "id": "PvEVW-S2ExLp"
      },
      "execution_count": 7,
      "outputs": []
    },
    {
      "cell_type": "code",
      "source": [
        "file_names[:5]"
      ],
      "metadata": {
        "colab": {
          "base_uri": "https://localhost:8080/"
        },
        "id": "YEO9jJg9EfsD",
        "outputId": "edb5d15b-19ad-4feb-915d-0e393b7e85b7"
      },
      "execution_count": 9,
      "outputs": [
        {
          "output_type": "execute_result",
          "data": {
            "text/plain": [
              "['1010', '1011', '1012', '1013', '1017']"
            ]
          },
          "metadata": {},
          "execution_count": 9
        }
      ]
    },
    {
      "cell_type": "markdown",
      "source": [
        "<font size ='4'>Utterrance is a line of a conversation and its associated metadata such as token, timestamp, and grammatical info. Using utterrances(by_files=True) method here will return a 2d array of the format **(number_of_chat_files, number_of_utterrance_object_in_that_file)**</font>"
      ],
      "metadata": {
        "id": "V8-lJruJFZSl"
      }
    },
    {
      "cell_type": "code",
      "source": [
        "utterrances = eigsti.utterances( by_files=True)"
      ],
      "metadata": {
        "id": "zU-4jYFDFTZd"
      },
      "execution_count": 10,
      "outputs": []
    },
    {
      "cell_type": "markdown",
      "source": [
        "<font size ='4'>As an example, we take the utterrances of the first chat file denoted by index 0. It has a **participant** attribute indicating who's speaking and a dictionary named **tiers** that holds the original text and some additional grammatical info. We can thus extract the original text from **tiers** using the key of participant name.</font>"
      ],
      "metadata": {
        "id": "xS7fpAyTFrbD"
      }
    },
    {
      "cell_type": "code",
      "source": [
        "first_file_utterrances = utterrances[0]\n",
        "for utter in first_file_utterrances:\n",
        "  participant = utter.participant; participant_line = utter.tiers[participant]\n",
        "  print(f'{participant} : {participant_line}')"
      ],
      "metadata": {
        "colab": {
          "base_uri": "https://localhost:8080/"
        },
        "id": "jSVNgJj9FsZp",
        "outputId": "c9712eb8-af8e-4fae-cb2b-c22f5baebfe4"
      },
      "execution_count": 11,
      "outputs": [
        {
          "output_type": "stream",
          "name": "stdout",
          "text": [
            "INV2 : alright !\n",
            "INV2 : you have fun, okay ?\n",
            "CHI : okay .\n",
            "INV2 : alright .\n",
            "INV1 : did you see this ?\n",
            "CHI : did you see this ?\n",
            "INV1 : you can play with any of the stuff in there .\n",
            "INV1 : did you get all of these ?\n",
            "CHI : yeah .\n",
            "INV1 : you did ?\n",
            "INV1 : how'd you get (th)em ?\n",
            "INV1 : where'd you get these ?\n",
            "CHI : xxx let's see +...\n",
            "INV1 : you what ?\n",
            "CHI : xxx .\n",
            "INV1 : hm: ?\n",
            "CHI : <she's not fit> [?] .\n",
            "INV1 : hm: ?\n",
            "CHI : she's [//] she doesn't fit .\n",
            "INV1 : does it go in ?\n",
            "CHI : yeah .\n",
            "INV1 : show me .\n",
            "INV1 : oh ‡ there you go .\n",
            "INV1 : good job, good job .\n",
            "INV1 : do you know what that's called ?\n",
            "CHI : a star .\n",
            "INV1 : what's it called, a star ?\n",
            "CHI : yeah .\n",
            "INV1 : yeah .\n",
            "CHI : a square .\n",
            "INV1 : uhhuh .\n",
            "INV1 : where'd you learn all those ?\n",
            "INV1 : where'd you learn your shapes ?\n",
            "CHI : I did i(t) .\n",
            "INV1 : you did, where ?\n",
            "CHI : here .\n",
            "CHI : aw@o .\n",
            "INV1 : what happens ?\n",
            "CHI : æəwəwəwəiibəcamibəbəbəbəbəgheorn@b .\n",
            "INV1 : here let's move back, can we move back a little bit ?\n",
            "CHI : yeah .\n",
            "INV1 : just a little, you wanna come over here to play ?\n",
            "CHI : yeah .\n",
            "INV1 : yeah ?\n",
            "CHI : this is star .\n",
            "INV1 : uhhum .\n",
            "INV1 : good job .\n",
            "INV1 : good job .\n",
            "INV1 : can I do one ?\n",
            "INV1 : what's this ?\n",
            "INV1 : here, look .\n",
            "INV1 : what's that ?\n",
            "CHI : I (d)on't know .\n",
            "INV1 : you don't know ?\n",
            "INV1 : what's that ?\n",
            "CHI : I (d)on't know .\n",
            "INV1 : a dog ?\n",
            "CHI : yeah .\n",
            "INV1 : yeah ?\n",
            "CHI : no .\n",
            "INV1 : no .\n",
            "CHI : that's jus(t) a sheep .\n",
            "INV1 : a sheep ?\n",
            "INV1 : do you have a sheep ?\n",
            "CHI : yes .\n",
            "INV1 : you do ?\n",
            "CHI : yeah .\n",
            "INV1 : where ?\n",
            "CHI : right here .\n",
            "INV1 : right here [=! laughing] .\n",
            "INV1 : what's the sheep's name ?\n",
            "CHI : I didn't know .\n",
            "INV1 : do you wanna give it a name ?\n",
            "CHI : yeah .\n",
            "INV1 : what name ?\n",
            "CHI : bɨtscha@u [: x@n] awuf@u [: x@n] .\n",
            "INV1 : what's this on here ?\n",
            "INV1 : what's that [=! whispering] ?\n",
            "INV1 : do you know ?\n",
            "INV1 : what's that ?\n",
            "CHI : a dog !\n",
            "INV1 : do you have a dog ?\n",
            "CHI : yeah !\n",
            "INV1 : at home ?\n",
            "CHI : at home ?\n",
            "INV1 : yes ?\n",
            "INV1 : no ?\n",
            "INV1 : you do have a dog ?\n",
            "CHI : no: .\n",
            "INV1 : no ?\n",
            "CHI : I have a birfde [: birthday] cake .\n",
            "INV1 : you have a birthday cake ?\n",
            "CHI : yes .\n",
            "INV1 : where'd you get your birthday cake ?\n",
            "CHI : æbətæmburin@u .\n",
            "CHI : there's Elmo in xxx .\n",
            "INV1 : Elmo's in there ?\n",
            "INV1 : you're right .\n",
            "CHI : he's drivin(g) .\n",
            "INV1 : uhhuh, where's he driving ?\n",
            "INV1 : where's he going ?\n",
            "INV1 : &=laughs .\n",
            "CHI : I bɔ@u [=? bought or throw] a burde [: birthday] cake on Elmo .\n",
            "INV1 : oops .\n",
            "INV1 : <where are you> [//] where's Elmo driving ?\n",
            "CHI : she's driving to [/] to Seabreeze .\n",
            "INV1 : to where ?\n",
            "CHI : to see the Seabreeze .\n",
            "INV1 : oh !\n",
            "INV1 : bye !\n",
            "INV1 : where is he ?\n",
            "INV1 : where'd he go ?\n",
            "CHI : do de [: the] drkiturk@n audoba@n .\n",
            "INV1 : huh ?\n",
            "INV1 : what's that ?\n",
            "CHI : I gon(na) do de [: the] birfde [: birthday] cake .\n",
            "INV1 : you gonna put the birthday cake ?\n",
            "CHI : almost ready bababababa@u bus .\n",
            "CHI : almost ready bababababa@u bus .\n",
            "INV1 : what are you doing with your sticker ?\n",
            "INV1 : what are you doing with that over there ?\n",
            "CHI : oh sorry .\n",
            "INV1 : huh ?\n",
            "INV1 : what happened ?\n",
            "INV1 : did you fix it ?\n",
            "CHI : yeah .\n",
            "INV1 : hm: ?\n",
            "CHI : yep .\n",
            "INV1 : no ?\n",
            "CHI : yep .\n",
            "INV1 : oop, don't throw it in there .\n",
            "INV1 : you don't want to keep it ?\n",
            "CHI : no .\n",
            "INV1 : no ?\n",
            "CHI : I do ɤp@u [?] the clown .\n",
            "INV1 : the clown ?\n",
            "CHI : yep .\n",
            "INV1 : what are you gonna do with that ?\n",
            "CHI : almost ready bababababa@u bus .\n",
            "INV1 : oh .\n",
            "CHI : oh .\n",
            "INV1 : what are you doing ?\n",
            "CHI : oh ‡ here's the bus !\n",
            "INV1 : &=laughs .\n",
            "INV1 : whoops !\n",
            "CHI : the caw@u !\n",
            "CHI : the clown !\n",
            "CHI : oh ‡ here's the bus !\n",
            "INV1 : is the clown gonna take the bus ?\n",
            "CHI : yeah .\n",
            "INV1 : yeah, where's the clown going ?\n",
            "CHI : where the bus going ?\n",
            "INV1 : I don't know, where ?\n",
            "CHI : to school .\n",
            "INV1 : oh (.) okay .\n",
            "INV1 : is he in one of the seats ?\n",
            "CHI : yeah .\n",
            "INV1 : oh &=laughs .\n",
            "CHI : see, cawn@u [: clown] in the firs(t) seat .\n",
            "INV1 : so the clown goes to school ?\n",
            "CHI : yeah .\n",
            "INV1 : that's good .\n",
            "INV1 : what is the clown learning at school ?\n",
            "CHI : this is xxx resa@u [?] .\n",
            "INV1 : what ?\n",
            "CHI : this is xxx resa@u [?] .\n",
            "INV1 : hm: .\n",
            "CHI : oh !\n",
            "INV1 : &=gasps .\n",
            "INV1 : hm:, we'll keep that closed, (o)kay ?\n",
            "INV1 : let's play with this .\n",
            "CHI : let's play .\n",
            "INV1 : let's play with the toys over here instead, okay .\n",
            "CHI : let's play with my toy .\n",
            "INV1 : &=laughs .\n",
            "INV1 : what is that ?\n",
            "CHI : I dunno .\n",
            "INV1 : hm: .\n",
            "CHI : I dunno .\n",
            "INV1 : wha(t) d(o) ya think it is ?\n",
            "CHI : wha(t) d(o) ya think it is ?\n",
            "INV1 : hm:, I don't know .\n",
            "INV1 : what other stickers did you get here ?\n",
            "INV1 : what's that now ?\n",
            "CHI : it's a bus .\n",
            "INV1 : what's [//] are you putting the bus inside the other bus ?\n",
            "INV1 : maybe we shouldn't put these on here .\n",
            "INV1 : they come off ?\n",
            "INV1 : I dunno .\n",
            "INV1 : wha(t) d(o) ya you doing ?\n",
            "CHI : a bus [//] wight [: right] (.) backseat .\n",
            "INV1 : the bus is in the backseat [=! laughing] ?\n",
            "CHI : it's a [/] a pig .\n",
            "CHI : now what's this ?\n",
            "INV1 : what's that ?\n",
            "INV1 : maybe you want to put it on you ?\n",
            "INV1 : like that ?\n",
            "INV1 : on you ?\n",
            "CHI : no .\n",
            "INV1 : no ?\n",
            "INV1 : okay .\n",
            "INV1 : who's this on your shirt ?\n",
            "CHI : I dunno .\n",
            "INV1 : you don't know ?\n",
            "INV1 : this girl ?\n",
            "INV1 : no ?\n",
            "INV1 : what do you have in that sticker ?\n",
            "INV1 : what's on that one ?\n",
            "INV1 : where's that one going ?\n",
            "CHI : oh yo@u .\n",
            "INV1 : hm: ?\n",
            "CHI : <you find that you never enjoy the bed> [?], read this sentence .\n",
            "CHI : look at this ba@u .\n",
            "CHI : hey, piz@u ɤ@u wilberɨs@u .\n",
            "CHI : <read the book because it pretty expensive> [?] .\n",
            "CHI : wuk@u [/] wuk@u [/] wuk@u at this book .\n",
            "INV1 : look at this book ?\n",
            "CHI : &-uh baba@u .\n",
            "INV1 : what is that sticker ?\n",
            "CHI : a scissors .\n",
            "INV1 : a hm:, can I see ?\n",
            "INV1 : oh a scissors .\n",
            "INV1 : what do you do with a scissors ?\n",
            "CHI : dyou [: do you] cut this .\n",
            "INV1 : you're right, good job .\n",
            "INV1 : so why is the scissors going to school ?\n",
            "CHI : a ba@u [/] a balloon .\n",
            "INV1 : why is the balloon going to school ?\n",
            "INV1 : do you know ?\n",
            "CHI : do you know ?\n",
            "INV1 : there it goes, climbing up the stairs .\n",
            "CHI : now bababawun@u [: balloon] .\n",
            "CHI : in da [: the] bus .\n",
            "CHI : in [/] in [/] in da@u [: the] bus and the scissors and the pen and the clown and dɛn@u [: then] da@u [: the] balloon didja [: did you] see that ?\n",
            "CHI : wow, they all went into the bababababus@u [: bus] .\n",
            "INV1 : and they're going to school (.) Adrianne ?\n",
            "CHI : here's the sailboat .\n",
            "INV1 : the what (.) sailboat ?\n",
            "CHI : the sailboat .\n",
            "INV1 : oh ‡ yeah .\n",
            "INV1 : huh .\n",
            "CHI : it's a sticker .\n",
            "INV1 : &-um .\n",
            "CHI : put the sticker right here under the baclaun@u [=? clown] .\n",
            "INV1 : okay .\n",
            "INV1 : that's good .\n",
            "CHI : it's a train !\n",
            "INV1 : and what do you do on the train ?\n",
            "CHI : ridin(g) under de [: the] batrack@u [= track] .\n",
            "INV1 : uhhuh .\n",
            "CHI : I pʌpʌp@u bʌ@u train under dʌdʌ@u [= the] bʌbʌbʌbʌbʌs@u [= bus] .\n",
            "CHI : bʌburfde [: birthday] cake .\n",
            "INV1 : uhhuh .\n",
            "CHI : I burfde [: birthday] [//] I xxx burfde@u cake under de@u [: the] bababawun@u [= balloon] .\n",
            "INV1 : uhhuh .\n",
            "INV1 : where're you going ?\n",
            "CHI : &=sighs .\n",
            "INV1 : what are you doing over there ?\n",
            "CHI : nuhn [: nothing] .\n",
            "INV1 : huh ?\n",
            "CHI : no::thing !\n",
            "CHI : it's [//] oh, it's the apple !\n",
            "INV1 : mhm .\n",
            "INV1 : where's the apple gonna go ?\n",
            "CHI : into de@u [: the] [//] over de@u [: the] bʌjorg@u [?] .\n",
            "INV1 : hm: .\n",
            "INV1 : what's that one ?\n",
            "CHI : a fwɔg@u [: frog] .\n",
            "INV1 : hm: .\n",
            "INV1 : where are you gonna put the frog ?\n",
            "CHI : ah mamamamama@si .\n",
            "INV1 : huh ?\n",
            "CHI : oh [=! laughing] .\n",
            "CHI : oh ‡ oh, oh, wɤk@u [: look] .\n",
            "CHI : shh shh .\n",
            "CHI : oh no no, shh .\n",
            "CHI : sorry .\n",
            "INV1 : whatcha doing ?\n",
            "INV1 : is that the frog ?\n",
            "CHI : oh ‡ sorry, sorry .\n",
            "INV1 : so all of your stickers are going to school ?\n",
            "INV1 : is that what you said ?\n",
            "CHI : yeah .\n",
            "INV1 : what are they going to do there ?\n",
            "CHI : they're gon(na) stay inside .\n",
            "INV1 : oh ‡ really ?\n",
            "CHI : yeah .\n",
            "INV1 : hm: .\n",
            "INV1 : what are they going to learn about ?\n",
            "CHI : I put the sticker under da@u [: the] bʌbʌbʌbʌcwɔn@u [= clown] .\n",
            "INV1 : hm: .\n",
            "CHI : see ?\n",
            "INV1 : uhhuh, nice .\n",
            "INV1 : bye .\n",
            "INV1 : where are you going ?\n",
            "CHI : to school .\n",
            "INV1 : to school .\n",
            "CHI : &=gasps .\n",
            "INV1 : hm:, you want to see what's in there, don't you ?\n",
            "INV1 : what do you think (i)s in there ?\n",
            "CHI : I think it's in [x 5] da [: the] dere [: there] .\n",
            "INV1 : you think what ?\n",
            "CHI : I [/] I peek .\n",
            "INV1 : hm:, we're gonna close that back up .\n",
            "CHI : I [/] I think it's mommy .\n",
            "INV1 : yes, but don't you want to play some more games ?\n",
            "CHI : no .\n",
            "INV1 : yes, let's play .\n",
            "INV1 : a little more, okay, a little more ?\n",
            "CHI : no .\n",
            "INV1 : yeah .\n",
            "INV1 : do you like these ?\n",
            "CHI : yeah .\n",
            "INV1 : yeah .\n",
            "INV1 : do you want to build something ?\n",
            "CHI : yeah .\n",
            "INV1 : okay .\n",
            "CHI : I [/] I wʌwʌ@u [/] I wʌwʌ@u [: wanna] bilbilbilbilbilbiulbil@u [: build] blocks .\n",
            "INV1 : mhm, here's another one .\n",
            "INV1 : here, here's one .\n",
            "CHI : de@u .\n",
            "INV1 : is that all ?\n",
            "CHI : weizaweizaweizaweiza@u bʌbwɔk@u [: block] .\n",
            "INV1 : what ?\n",
            "CHI : wʌweiz@u [= where's] namanamanama@u bʌbwɔk@u [= block] .\n",
            "CHI : hi, he in a bʌwɤds@u [= woods] hidin(g) under da@u [: the] betwein@u [= train] and da@u [= the] wɤmbaet@u and this, this is my friend Otis .\n",
            "CHI : hi hɔhɔhɔ@u [= laugh] .\n",
            "CHI : I Otis is a big stingeri@u [?] .\n",
            "CHI : a(nd) you too ackshubɔbɔbɔ@u [=? actually] my trip .\n",
            "CHI : awɨgɛber@u [=? all together] and der@u [: they're] very hard and æde@u [: x@n] æsli@u [: x@n] gaes@u [: x@n] .\n",
            "CHI : t o p !\n",
            "CHI : now, let's go and do and see where it's +...\n",
            "CHI : hm:, let's see .\n",
            "CHI : hey, I see team [: steam] boat tug .\n",
            "CHI : uhoh, a meditisis@u [?] .\n",
            "CHI : and it's still good .\n",
            "CHI : what a shame, don't give up .\n",
            "CHI : okay !\n",
            "CHI : that's it [?] .\n",
            "CHI : what [?] ?\n",
            "CHI : let's look him up .\n",
            "CHI : that spells m o p .\n",
            "CHI : wow, tewmi@u [=? tell me] bababa@u tu@u meme@u sem@u wabɨt@u .\n",
            "CHI : haeboɤboɤ@u m haeboɤboɤ@u o and p !\n",
            "CHI : and you æspa@u [=? spell] and put it on the train .\n",
            "CHI : ss@u now ma@u goes on the xxx .\n",
            "CHI : now let's move on .\n",
            "CHI : xxx .\n",
            "CHI : xxx .\n",
            "CHI : so, are you playing by yourself ?\n",
            "CHI : do you understand what to do ?\n",
            "CHI : you gettin(g) hungi@u [=? hungry], <I am here to help you> [?] .\n",
            "CHI : be@u .\n",
            "INV1 : &=laughs .\n",
            "CHI : now, what's balu@u .\n",
            "CHI : hey, where you goin(g) sosaiwa@u .\n",
            "CHI : so, are you playing by yourself ?\n"
          ]
        }
      ]
    },
    {
      "cell_type": "markdown",
      "source": [
        "<font size ='4'>We will save each conversation in file_name.csv file. So, for chat file **1010.cha** we will have **1010.csv**. The csv data columns will be: \n",
        "<ul>\n",
        "<li>participant</li> \n",
        "<li>sentence</li>\n",
        "</ul>\n",
        "</font>"
      ],
      "metadata": {
        "id": "M8hPMQ0YGXqs"
      }
    },
    {
      "cell_type": "code",
      "source": [
        "column_names = ['participant', 'sentence']\n",
        "save_dir = \"drive/My Drive/Omdena/SriLanka/Autism/asd_talkbank/eigsti\"\n",
        "chat_file_index = 0\n",
        "for chat_file in utterrances:\n",
        "  chat_df = pd.DataFrame(columns=column_names)\n",
        "  #print(chat_df)\n",
        "  for utter in chat_file:\n",
        "    participant = utter.participant; participant_line = utter.tiers[participant] #extract participant and chat data info from the utterrance object\n",
        "    chat_df = chat_df.append({'participant':participant, 'sentence':participant_line}, ignore_index=True) #add the sentence and participant info to a df object\n",
        "  file_name = file_names[chat_file_index]; chat_file_index += 1\n",
        "  file_name = file_name + '.csv' #construct the file name of the csv file\n",
        "  chat_df.to_csv(os.path.join(save_dir, file_name), index = False) # save the csv file in the destination folder\n",
        "  print(f'{chat_file_index}: {file_name}')\n",
        "  #break"
      ],
      "metadata": {
        "colab": {
          "base_uri": "https://localhost:8080/"
        },
        "id": "ueP9Fx95GUhq",
        "outputId": "77edbc12-35f1-42a0-992d-8af11e19b39b"
      },
      "execution_count": 12,
      "outputs": [
        {
          "output_type": "stream",
          "name": "stdout",
          "text": [
            "1: 1010.csv\n",
            "2: 1011.csv\n",
            "3: 1012.csv\n",
            "4: 1013.csv\n",
            "5: 1017.csv\n",
            "6: 1020.csv\n",
            "7: 1022.csv\n",
            "8: 1024.csv\n",
            "9: 1025.csv\n",
            "10: 1027.csv\n",
            "11: 1028.csv\n",
            "12: 1030.csv\n",
            "13: 1031.csv\n",
            "14: 1032.csv\n",
            "15: 1035.csv\n",
            "16: 1040.csv\n",
            "17: 1041.csv\n",
            "18: 1042.csv\n",
            "19: 1043.csv\n",
            "20: 1044.csv\n",
            "21: 1045.csv\n",
            "22: 1046.csv\n",
            "23: 1047.csv\n",
            "24: 1048.csv\n",
            "25: 1052.csv\n",
            "26: 1054.csv\n",
            "27: 1055.csv\n",
            "28: 1056.csv\n",
            "29: 1057.csv\n",
            "30: 1058.csv\n",
            "31: 1060.csv\n",
            "32: 1061.csv\n",
            "33: 1062.csv\n",
            "34: 1063.csv\n",
            "35: 1064.csv\n",
            "36: 1068.csv\n",
            "37: 1069.csv\n",
            "38: 1070.csv\n",
            "39: 1072.csv\n",
            "40: 1074.csv\n",
            "41: 1075.csv\n",
            "42: 1076.csv\n",
            "43: 1078.csv\n",
            "44: 1079.csv\n",
            "45: 1080.csv\n",
            "46: 1081.csv\n",
            "47: 1082.csv\n",
            "48: 1085.csv\n"
          ]
        }
      ]
    }
  ]
}