{
  "nbformat": 4,
  "nbformat_minor": 0,
  "metadata": {
    "colab": {
      "provenance": []
    },
    "kernelspec": {
      "name": "python3",
      "display_name": "Python 3"
    },
    "language_info": {
      "name": "python"
    }
  },
  "cells": [
    {
      "cell_type": "markdown",
      "source": [
        "# Importing libraries"
      ],
      "metadata": {
        "id": "HQKDXvArqye6"
      }
    },
    {
      "cell_type": "code",
      "execution_count": null,
      "metadata": {
        "id": "rG8kuWOrosKM"
      },
      "outputs": [],
      "source": [
        "import numpy as np\n",
        "import pandas as pd\n",
        "import matplotlib.pyplot as plt\n",
        "import seaborn as sns\n",
        "from sklearn.model_selection import train_test_split\n",
        "from sklearn.preprocessing import OrdinalEncoder,OneHotEncoder,StandardScaler,MinMaxScaler\n",
        "from collections import Counter\n",
        "from imblearn.over_sampling import RandomOverSampler\n",
        "from imblearn.over_sampling import SMOTE\n",
        "from sklearn.metrics import accuracy_score,make_scorer\n",
        "from sklearn.metrics import precision_score, recall_score, confusion_matrix,classification_report\n",
        "from sklearn.metrics import f1_score, roc_auc_score, roc_curve\n",
        "from sklearn.model_selection import cross_val_score\n",
        "from sklearn.model_selection import KFold"
      ]
    },
    {
      "cell_type": "markdown",
      "source": [
        "# Upload dataset"
      ],
      "metadata": {
        "id": "38II1GeKq_R-"
      }
    },
    {
      "cell_type": "code",
      "source": [
        "from google.colab import files\n",
        "uploaded=files.upload()"
      ],
      "metadata": {
        "colab": {
          "base_uri": "https://localhost:8080/",
          "height": 73
        },
        "id": "qWvPcQvBxqxR",
        "outputId": "e1aeb025-7418-4920-f446-8fa1f8b954a7"
      },
      "execution_count": null,
      "outputs": [
        {
          "output_type": "display_data",
          "data": {
            "text/plain": [
              "<IPython.core.display.HTML object>"
            ],
            "text/html": [
              "\n",
              "     <input type=\"file\" id=\"files-bf974912-5e00-492d-ac4c-03808fa42612\" name=\"files[]\" multiple disabled\n",
              "        style=\"border:none\" />\n",
              "     <output id=\"result-bf974912-5e00-492d-ac4c-03808fa42612\">\n",
              "      Upload widget is only available when the cell has been executed in the\n",
              "      current browser session. Please rerun this cell to enable.\n",
              "      </output>\n",
              "      <script>// Copyright 2017 Google LLC\n",
              "//\n",
              "// Licensed under the Apache License, Version 2.0 (the \"License\");\n",
              "// you may not use this file except in compliance with the License.\n",
              "// You may obtain a copy of the License at\n",
              "//\n",
              "//      http://www.apache.org/licenses/LICENSE-2.0\n",
              "//\n",
              "// Unless required by applicable law or agreed to in writing, software\n",
              "// distributed under the License is distributed on an \"AS IS\" BASIS,\n",
              "// WITHOUT WARRANTIES OR CONDITIONS OF ANY KIND, either express or implied.\n",
              "// See the License for the specific language governing permissions and\n",
              "// limitations under the License.\n",
              "\n",
              "/**\n",
              " * @fileoverview Helpers for google.colab Python module.\n",
              " */\n",
              "(function(scope) {\n",
              "function span(text, styleAttributes = {}) {\n",
              "  const element = document.createElement('span');\n",
              "  element.textContent = text;\n",
              "  for (const key of Object.keys(styleAttributes)) {\n",
              "    element.style[key] = styleAttributes[key];\n",
              "  }\n",
              "  return element;\n",
              "}\n",
              "\n",
              "// Max number of bytes which will be uploaded at a time.\n",
              "const MAX_PAYLOAD_SIZE = 100 * 1024;\n",
              "\n",
              "function _uploadFiles(inputId, outputId) {\n",
              "  const steps = uploadFilesStep(inputId, outputId);\n",
              "  const outputElement = document.getElementById(outputId);\n",
              "  // Cache steps on the outputElement to make it available for the next call\n",
              "  // to uploadFilesContinue from Python.\n",
              "  outputElement.steps = steps;\n",
              "\n",
              "  return _uploadFilesContinue(outputId);\n",
              "}\n",
              "\n",
              "// This is roughly an async generator (not supported in the browser yet),\n",
              "// where there are multiple asynchronous steps and the Python side is going\n",
              "// to poll for completion of each step.\n",
              "// This uses a Promise to block the python side on completion of each step,\n",
              "// then passes the result of the previous step as the input to the next step.\n",
              "function _uploadFilesContinue(outputId) {\n",
              "  const outputElement = document.getElementById(outputId);\n",
              "  const steps = outputElement.steps;\n",
              "\n",
              "  const next = steps.next(outputElement.lastPromiseValue);\n",
              "  return Promise.resolve(next.value.promise).then((value) => {\n",
              "    // Cache the last promise value to make it available to the next\n",
              "    // step of the generator.\n",
              "    outputElement.lastPromiseValue = value;\n",
              "    return next.value.response;\n",
              "  });\n",
              "}\n",
              "\n",
              "/**\n",
              " * Generator function which is called between each async step of the upload\n",
              " * process.\n",
              " * @param {string} inputId Element ID of the input file picker element.\n",
              " * @param {string} outputId Element ID of the output display.\n",
              " * @return {!Iterable<!Object>} Iterable of next steps.\n",
              " */\n",
              "function* uploadFilesStep(inputId, outputId) {\n",
              "  const inputElement = document.getElementById(inputId);\n",
              "  inputElement.disabled = false;\n",
              "\n",
              "  const outputElement = document.getElementById(outputId);\n",
              "  outputElement.innerHTML = '';\n",
              "\n",
              "  const pickedPromise = new Promise((resolve) => {\n",
              "    inputElement.addEventListener('change', (e) => {\n",
              "      resolve(e.target.files);\n",
              "    });\n",
              "  });\n",
              "\n",
              "  const cancel = document.createElement('button');\n",
              "  inputElement.parentElement.appendChild(cancel);\n",
              "  cancel.textContent = 'Cancel upload';\n",
              "  const cancelPromise = new Promise((resolve) => {\n",
              "    cancel.onclick = () => {\n",
              "      resolve(null);\n",
              "    };\n",
              "  });\n",
              "\n",
              "  // Wait for the user to pick the files.\n",
              "  const files = yield {\n",
              "    promise: Promise.race([pickedPromise, cancelPromise]),\n",
              "    response: {\n",
              "      action: 'starting',\n",
              "    }\n",
              "  };\n",
              "\n",
              "  cancel.remove();\n",
              "\n",
              "  // Disable the input element since further picks are not allowed.\n",
              "  inputElement.disabled = true;\n",
              "\n",
              "  if (!files) {\n",
              "    return {\n",
              "      response: {\n",
              "        action: 'complete',\n",
              "      }\n",
              "    };\n",
              "  }\n",
              "\n",
              "  for (const file of files) {\n",
              "    const li = document.createElement('li');\n",
              "    li.append(span(file.name, {fontWeight: 'bold'}));\n",
              "    li.append(span(\n",
              "        `(${file.type || 'n/a'}) - ${file.size} bytes, ` +\n",
              "        `last modified: ${\n",
              "            file.lastModifiedDate ? file.lastModifiedDate.toLocaleDateString() :\n",
              "                                    'n/a'} - `));\n",
              "    const percent = span('0% done');\n",
              "    li.appendChild(percent);\n",
              "\n",
              "    outputElement.appendChild(li);\n",
              "\n",
              "    const fileDataPromise = new Promise((resolve) => {\n",
              "      const reader = new FileReader();\n",
              "      reader.onload = (e) => {\n",
              "        resolve(e.target.result);\n",
              "      };\n",
              "      reader.readAsArrayBuffer(file);\n",
              "    });\n",
              "    // Wait for the data to be ready.\n",
              "    let fileData = yield {\n",
              "      promise: fileDataPromise,\n",
              "      response: {\n",
              "        action: 'continue',\n",
              "      }\n",
              "    };\n",
              "\n",
              "    // Use a chunked sending to avoid message size limits. See b/62115660.\n",
              "    let position = 0;\n",
              "    do {\n",
              "      const length = Math.min(fileData.byteLength - position, MAX_PAYLOAD_SIZE);\n",
              "      const chunk = new Uint8Array(fileData, position, length);\n",
              "      position += length;\n",
              "\n",
              "      const base64 = btoa(String.fromCharCode.apply(null, chunk));\n",
              "      yield {\n",
              "        response: {\n",
              "          action: 'append',\n",
              "          file: file.name,\n",
              "          data: base64,\n",
              "        },\n",
              "      };\n",
              "\n",
              "      let percentDone = fileData.byteLength === 0 ?\n",
              "          100 :\n",
              "          Math.round((position / fileData.byteLength) * 100);\n",
              "      percent.textContent = `${percentDone}% done`;\n",
              "\n",
              "    } while (position < fileData.byteLength);\n",
              "  }\n",
              "\n",
              "  // All done.\n",
              "  yield {\n",
              "    response: {\n",
              "      action: 'complete',\n",
              "    }\n",
              "  };\n",
              "}\n",
              "\n",
              "scope.google = scope.google || {};\n",
              "scope.google.colab = scope.google.colab || {};\n",
              "scope.google.colab._files = {\n",
              "  _uploadFiles,\n",
              "  _uploadFilesContinue,\n",
              "};\n",
              "})(self);\n",
              "</script> "
            ]
          },
          "metadata": {}
        },
        {
          "output_type": "stream",
          "name": "stdout",
          "text": [
            "Saving Toddler Autism dataset July 2018.csv to Toddler Autism dataset July 2018.csv\n"
          ]
        }
      ]
    },
    {
      "cell_type": "markdown",
      "source": [
        "# Take a look "
      ],
      "metadata": {
        "id": "HhQUghV4DAUz"
      }
    },
    {
      "cell_type": "code",
      "source": [
        "df=pd.read_csv(\"Toddler Autism dataset July 2018.csv\")\n",
        "df.head()"
      ],
      "metadata": {
        "id": "9ic87D0JuRLi",
        "colab": {
          "base_uri": "https://localhost:8080/",
          "height": 302
        },
        "outputId": "9e600150-a909-4758-cb27-8ac773819b88"
      },
      "execution_count": null,
      "outputs": [
        {
          "output_type": "execute_result",
          "data": {
            "text/plain": [
              "   Case_No  A1  A2  A3  A4  A5  A6  A7  A8  A9  A10  Age_Mons  Qchat-10-Score  \\\n",
              "0        1   0   0   0   0   0   0   1   1   0    1        28               3   \n",
              "1        2   1   1   0   0   0   1   1   0   0    0        36               4   \n",
              "2        3   1   0   0   0   0   0   1   1   0    1        36               4   \n",
              "3        4   1   1   1   1   1   1   1   1   1    1        24              10   \n",
              "4        5   1   1   0   1   1   1   1   1   1    1        20               9   \n",
              "\n",
              "  Sex       Ethnicity Jaundice Family_mem_with_ASD Who completed the test  \\\n",
              "0   f  middle eastern      yes                  no          family member   \n",
              "1   m  White European      yes                  no          family member   \n",
              "2   m  middle eastern      yes                  no          family member   \n",
              "3   m        Hispanic       no                  no          family member   \n",
              "4   f  White European       no                 yes          family member   \n",
              "\n",
              "  Class/ASD Traits   \n",
              "0                No  \n",
              "1               Yes  \n",
              "2               Yes  \n",
              "3               Yes  \n",
              "4               Yes  "
            ],
            "text/html": [
              "\n",
              "  <div id=\"df-84eee9e4-f11f-4979-a097-c1fd1d3988d3\">\n",
              "    <div class=\"colab-df-container\">\n",
              "      <div>\n",
              "<style scoped>\n",
              "    .dataframe tbody tr th:only-of-type {\n",
              "        vertical-align: middle;\n",
              "    }\n",
              "\n",
              "    .dataframe tbody tr th {\n",
              "        vertical-align: top;\n",
              "    }\n",
              "\n",
              "    .dataframe thead th {\n",
              "        text-align: right;\n",
              "    }\n",
              "</style>\n",
              "<table border=\"1\" class=\"dataframe\">\n",
              "  <thead>\n",
              "    <tr style=\"text-align: right;\">\n",
              "      <th></th>\n",
              "      <th>Case_No</th>\n",
              "      <th>A1</th>\n",
              "      <th>A2</th>\n",
              "      <th>A3</th>\n",
              "      <th>A4</th>\n",
              "      <th>A5</th>\n",
              "      <th>A6</th>\n",
              "      <th>A7</th>\n",
              "      <th>A8</th>\n",
              "      <th>A9</th>\n",
              "      <th>A10</th>\n",
              "      <th>Age_Mons</th>\n",
              "      <th>Qchat-10-Score</th>\n",
              "      <th>Sex</th>\n",
              "      <th>Ethnicity</th>\n",
              "      <th>Jaundice</th>\n",
              "      <th>Family_mem_with_ASD</th>\n",
              "      <th>Who completed the test</th>\n",
              "      <th>Class/ASD Traits</th>\n",
              "    </tr>\n",
              "  </thead>\n",
              "  <tbody>\n",
              "    <tr>\n",
              "      <th>0</th>\n",
              "      <td>1</td>\n",
              "      <td>0</td>\n",
              "      <td>0</td>\n",
              "      <td>0</td>\n",
              "      <td>0</td>\n",
              "      <td>0</td>\n",
              "      <td>0</td>\n",
              "      <td>1</td>\n",
              "      <td>1</td>\n",
              "      <td>0</td>\n",
              "      <td>1</td>\n",
              "      <td>28</td>\n",
              "      <td>3</td>\n",
              "      <td>f</td>\n",
              "      <td>middle eastern</td>\n",
              "      <td>yes</td>\n",
              "      <td>no</td>\n",
              "      <td>family member</td>\n",
              "      <td>No</td>\n",
              "    </tr>\n",
              "    <tr>\n",
              "      <th>1</th>\n",
              "      <td>2</td>\n",
              "      <td>1</td>\n",
              "      <td>1</td>\n",
              "      <td>0</td>\n",
              "      <td>0</td>\n",
              "      <td>0</td>\n",
              "      <td>1</td>\n",
              "      <td>1</td>\n",
              "      <td>0</td>\n",
              "      <td>0</td>\n",
              "      <td>0</td>\n",
              "      <td>36</td>\n",
              "      <td>4</td>\n",
              "      <td>m</td>\n",
              "      <td>White European</td>\n",
              "      <td>yes</td>\n",
              "      <td>no</td>\n",
              "      <td>family member</td>\n",
              "      <td>Yes</td>\n",
              "    </tr>\n",
              "    <tr>\n",
              "      <th>2</th>\n",
              "      <td>3</td>\n",
              "      <td>1</td>\n",
              "      <td>0</td>\n",
              "      <td>0</td>\n",
              "      <td>0</td>\n",
              "      <td>0</td>\n",
              "      <td>0</td>\n",
              "      <td>1</td>\n",
              "      <td>1</td>\n",
              "      <td>0</td>\n",
              "      <td>1</td>\n",
              "      <td>36</td>\n",
              "      <td>4</td>\n",
              "      <td>m</td>\n",
              "      <td>middle eastern</td>\n",
              "      <td>yes</td>\n",
              "      <td>no</td>\n",
              "      <td>family member</td>\n",
              "      <td>Yes</td>\n",
              "    </tr>\n",
              "    <tr>\n",
              "      <th>3</th>\n",
              "      <td>4</td>\n",
              "      <td>1</td>\n",
              "      <td>1</td>\n",
              "      <td>1</td>\n",
              "      <td>1</td>\n",
              "      <td>1</td>\n",
              "      <td>1</td>\n",
              "      <td>1</td>\n",
              "      <td>1</td>\n",
              "      <td>1</td>\n",
              "      <td>1</td>\n",
              "      <td>24</td>\n",
              "      <td>10</td>\n",
              "      <td>m</td>\n",
              "      <td>Hispanic</td>\n",
              "      <td>no</td>\n",
              "      <td>no</td>\n",
              "      <td>family member</td>\n",
              "      <td>Yes</td>\n",
              "    </tr>\n",
              "    <tr>\n",
              "      <th>4</th>\n",
              "      <td>5</td>\n",
              "      <td>1</td>\n",
              "      <td>1</td>\n",
              "      <td>0</td>\n",
              "      <td>1</td>\n",
              "      <td>1</td>\n",
              "      <td>1</td>\n",
              "      <td>1</td>\n",
              "      <td>1</td>\n",
              "      <td>1</td>\n",
              "      <td>1</td>\n",
              "      <td>20</td>\n",
              "      <td>9</td>\n",
              "      <td>f</td>\n",
              "      <td>White European</td>\n",
              "      <td>no</td>\n",
              "      <td>yes</td>\n",
              "      <td>family member</td>\n",
              "      <td>Yes</td>\n",
              "    </tr>\n",
              "  </tbody>\n",
              "</table>\n",
              "</div>\n",
              "      <button class=\"colab-df-convert\" onclick=\"convertToInteractive('df-84eee9e4-f11f-4979-a097-c1fd1d3988d3')\"\n",
              "              title=\"Convert this dataframe to an interactive table.\"\n",
              "              style=\"display:none;\">\n",
              "        \n",
              "  <svg xmlns=\"http://www.w3.org/2000/svg\" height=\"24px\"viewBox=\"0 0 24 24\"\n",
              "       width=\"24px\">\n",
              "    <path d=\"M0 0h24v24H0V0z\" fill=\"none\"/>\n",
              "    <path d=\"M18.56 5.44l.94 2.06.94-2.06 2.06-.94-2.06-.94-.94-2.06-.94 2.06-2.06.94zm-11 1L8.5 8.5l.94-2.06 2.06-.94-2.06-.94L8.5 2.5l-.94 2.06-2.06.94zm10 10l.94 2.06.94-2.06 2.06-.94-2.06-.94-.94-2.06-.94 2.06-2.06.94z\"/><path d=\"M17.41 7.96l-1.37-1.37c-.4-.4-.92-.59-1.43-.59-.52 0-1.04.2-1.43.59L10.3 9.45l-7.72 7.72c-.78.78-.78 2.05 0 2.83L4 21.41c.39.39.9.59 1.41.59.51 0 1.02-.2 1.41-.59l7.78-7.78 2.81-2.81c.8-.78.8-2.07 0-2.86zM5.41 20L4 18.59l7.72-7.72 1.47 1.35L5.41 20z\"/>\n",
              "  </svg>\n",
              "      </button>\n",
              "      \n",
              "  <style>\n",
              "    .colab-df-container {\n",
              "      display:flex;\n",
              "      flex-wrap:wrap;\n",
              "      gap: 12px;\n",
              "    }\n",
              "\n",
              "    .colab-df-convert {\n",
              "      background-color: #E8F0FE;\n",
              "      border: none;\n",
              "      border-radius: 50%;\n",
              "      cursor: pointer;\n",
              "      display: none;\n",
              "      fill: #1967D2;\n",
              "      height: 32px;\n",
              "      padding: 0 0 0 0;\n",
              "      width: 32px;\n",
              "    }\n",
              "\n",
              "    .colab-df-convert:hover {\n",
              "      background-color: #E2EBFA;\n",
              "      box-shadow: 0px 1px 2px rgba(60, 64, 67, 0.3), 0px 1px 3px 1px rgba(60, 64, 67, 0.15);\n",
              "      fill: #174EA6;\n",
              "    }\n",
              "\n",
              "    [theme=dark] .colab-df-convert {\n",
              "      background-color: #3B4455;\n",
              "      fill: #D2E3FC;\n",
              "    }\n",
              "\n",
              "    [theme=dark] .colab-df-convert:hover {\n",
              "      background-color: #434B5C;\n",
              "      box-shadow: 0px 1px 3px 1px rgba(0, 0, 0, 0.15);\n",
              "      filter: drop-shadow(0px 1px 2px rgba(0, 0, 0, 0.3));\n",
              "      fill: #FFFFFF;\n",
              "    }\n",
              "  </style>\n",
              "\n",
              "      <script>\n",
              "        const buttonEl =\n",
              "          document.querySelector('#df-84eee9e4-f11f-4979-a097-c1fd1d3988d3 button.colab-df-convert');\n",
              "        buttonEl.style.display =\n",
              "          google.colab.kernel.accessAllowed ? 'block' : 'none';\n",
              "\n",
              "        async function convertToInteractive(key) {\n",
              "          const element = document.querySelector('#df-84eee9e4-f11f-4979-a097-c1fd1d3988d3');\n",
              "          const dataTable =\n",
              "            await google.colab.kernel.invokeFunction('convertToInteractive',\n",
              "                                                     [key], {});\n",
              "          if (!dataTable) return;\n",
              "\n",
              "          const docLinkHtml = 'Like what you see? Visit the ' +\n",
              "            '<a target=\"_blank\" href=https://colab.research.google.com/notebooks/data_table.ipynb>data table notebook</a>'\n",
              "            + ' to learn more about interactive tables.';\n",
              "          element.innerHTML = '';\n",
              "          dataTable['output_type'] = 'display_data';\n",
              "          await google.colab.output.renderOutput(dataTable, element);\n",
              "          const docLink = document.createElement('div');\n",
              "          docLink.innerHTML = docLinkHtml;\n",
              "          element.appendChild(docLink);\n",
              "        }\n",
              "      </script>\n",
              "    </div>\n",
              "  </div>\n",
              "  "
            ]
          },
          "metadata": {},
          "execution_count": 4
        }
      ]
    },
    {
      "cell_type": "code",
      "source": [
        "df.info()"
      ],
      "metadata": {
        "colab": {
          "base_uri": "https://localhost:8080/"
        },
        "id": "YfYYZnjhGxpR",
        "outputId": "1d2b0713-3db3-4316-f42b-e0818054e1b6"
      },
      "execution_count": null,
      "outputs": [
        {
          "output_type": "stream",
          "name": "stdout",
          "text": [
            "<class 'pandas.core.frame.DataFrame'>\n",
            "RangeIndex: 1054 entries, 0 to 1053\n",
            "Data columns (total 19 columns):\n",
            " #   Column                  Non-Null Count  Dtype \n",
            "---  ------                  --------------  ----- \n",
            " 0   Case_No                 1054 non-null   int64 \n",
            " 1   A1                      1054 non-null   int64 \n",
            " 2   A2                      1054 non-null   int64 \n",
            " 3   A3                      1054 non-null   int64 \n",
            " 4   A4                      1054 non-null   int64 \n",
            " 5   A5                      1054 non-null   int64 \n",
            " 6   A6                      1054 non-null   int64 \n",
            " 7   A7                      1054 non-null   int64 \n",
            " 8   A8                      1054 non-null   int64 \n",
            " 9   A9                      1054 non-null   int64 \n",
            " 10  A10                     1054 non-null   int64 \n",
            " 11  Age_Mons                1054 non-null   int64 \n",
            " 12  Qchat-10-Score          1054 non-null   int64 \n",
            " 13  Sex                     1054 non-null   object\n",
            " 14  Ethnicity               1054 non-null   object\n",
            " 15  Jaundice                1054 non-null   object\n",
            " 16  Family_mem_with_ASD     1054 non-null   object\n",
            " 17  Who completed the test  1054 non-null   object\n",
            " 18  Class/ASD Traits        1054 non-null   object\n",
            "dtypes: int64(13), object(6)\n",
            "memory usage: 156.6+ KB\n"
          ]
        }
      ]
    },
    {
      "cell_type": "code",
      "source": [
        "df.describe()"
      ],
      "metadata": {
        "colab": {
          "base_uri": "https://localhost:8080/",
          "height": 300
        },
        "id": "vtkGXOBAzVXI",
        "outputId": "32ad3542-fa7c-4220-ba33-6d0d9a12ce4a"
      },
      "execution_count": null,
      "outputs": [
        {
          "output_type": "execute_result",
          "data": {
            "text/plain": [
              "                A1           A2           A3           A4           A5  \\\n",
              "count  1054.000000  1054.000000  1054.000000  1054.000000  1054.000000   \n",
              "mean      0.563567     0.448767     0.401328     0.512334     0.524668   \n",
              "std       0.496178     0.497604     0.490400     0.500085     0.499628   \n",
              "min       0.000000     0.000000     0.000000     0.000000     0.000000   \n",
              "25%       0.000000     0.000000     0.000000     0.000000     0.000000   \n",
              "50%       1.000000     0.000000     0.000000     1.000000     1.000000   \n",
              "75%       1.000000     1.000000     1.000000     1.000000     1.000000   \n",
              "max       1.000000     1.000000     1.000000     1.000000     1.000000   \n",
              "\n",
              "                A6           A7           A8           A9          A10  \\\n",
              "count  1054.000000  1054.000000  1054.000000  1054.000000  1054.000000   \n",
              "mean      0.576850     0.649905     0.459203     0.489564     0.586338   \n",
              "std       0.494293     0.477226     0.498569     0.500128     0.492723   \n",
              "min       0.000000     0.000000     0.000000     0.000000     0.000000   \n",
              "25%       0.000000     0.000000     0.000000     0.000000     0.000000   \n",
              "50%       1.000000     1.000000     0.000000     0.000000     1.000000   \n",
              "75%       1.000000     1.000000     1.000000     1.000000     1.000000   \n",
              "max       1.000000     1.000000     1.000000     1.000000     1.000000   \n",
              "\n",
              "          Age_Mons  \n",
              "count  1054.000000  \n",
              "mean     27.867173  \n",
              "std       7.980354  \n",
              "min      12.000000  \n",
              "25%      23.000000  \n",
              "50%      30.000000  \n",
              "75%      36.000000  \n",
              "max      36.000000  "
            ],
            "text/html": [
              "\n",
              "  <div id=\"df-2ea79f99-42fa-44b9-a7fc-4c5b245e848f\">\n",
              "    <div class=\"colab-df-container\">\n",
              "      <div>\n",
              "<style scoped>\n",
              "    .dataframe tbody tr th:only-of-type {\n",
              "        vertical-align: middle;\n",
              "    }\n",
              "\n",
              "    .dataframe tbody tr th {\n",
              "        vertical-align: top;\n",
              "    }\n",
              "\n",
              "    .dataframe thead th {\n",
              "        text-align: right;\n",
              "    }\n",
              "</style>\n",
              "<table border=\"1\" class=\"dataframe\">\n",
              "  <thead>\n",
              "    <tr style=\"text-align: right;\">\n",
              "      <th></th>\n",
              "      <th>A1</th>\n",
              "      <th>A2</th>\n",
              "      <th>A3</th>\n",
              "      <th>A4</th>\n",
              "      <th>A5</th>\n",
              "      <th>A6</th>\n",
              "      <th>A7</th>\n",
              "      <th>A8</th>\n",
              "      <th>A9</th>\n",
              "      <th>A10</th>\n",
              "      <th>Age_Mons</th>\n",
              "    </tr>\n",
              "  </thead>\n",
              "  <tbody>\n",
              "    <tr>\n",
              "      <th>count</th>\n",
              "      <td>1054.000000</td>\n",
              "      <td>1054.000000</td>\n",
              "      <td>1054.000000</td>\n",
              "      <td>1054.000000</td>\n",
              "      <td>1054.000000</td>\n",
              "      <td>1054.000000</td>\n",
              "      <td>1054.000000</td>\n",
              "      <td>1054.000000</td>\n",
              "      <td>1054.000000</td>\n",
              "      <td>1054.000000</td>\n",
              "      <td>1054.000000</td>\n",
              "    </tr>\n",
              "    <tr>\n",
              "      <th>mean</th>\n",
              "      <td>0.563567</td>\n",
              "      <td>0.448767</td>\n",
              "      <td>0.401328</td>\n",
              "      <td>0.512334</td>\n",
              "      <td>0.524668</td>\n",
              "      <td>0.576850</td>\n",
              "      <td>0.649905</td>\n",
              "      <td>0.459203</td>\n",
              "      <td>0.489564</td>\n",
              "      <td>0.586338</td>\n",
              "      <td>27.867173</td>\n",
              "    </tr>\n",
              "    <tr>\n",
              "      <th>std</th>\n",
              "      <td>0.496178</td>\n",
              "      <td>0.497604</td>\n",
              "      <td>0.490400</td>\n",
              "      <td>0.500085</td>\n",
              "      <td>0.499628</td>\n",
              "      <td>0.494293</td>\n",
              "      <td>0.477226</td>\n",
              "      <td>0.498569</td>\n",
              "      <td>0.500128</td>\n",
              "      <td>0.492723</td>\n",
              "      <td>7.980354</td>\n",
              "    </tr>\n",
              "    <tr>\n",
              "      <th>min</th>\n",
              "      <td>0.000000</td>\n",
              "      <td>0.000000</td>\n",
              "      <td>0.000000</td>\n",
              "      <td>0.000000</td>\n",
              "      <td>0.000000</td>\n",
              "      <td>0.000000</td>\n",
              "      <td>0.000000</td>\n",
              "      <td>0.000000</td>\n",
              "      <td>0.000000</td>\n",
              "      <td>0.000000</td>\n",
              "      <td>12.000000</td>\n",
              "    </tr>\n",
              "    <tr>\n",
              "      <th>25%</th>\n",
              "      <td>0.000000</td>\n",
              "      <td>0.000000</td>\n",
              "      <td>0.000000</td>\n",
              "      <td>0.000000</td>\n",
              "      <td>0.000000</td>\n",
              "      <td>0.000000</td>\n",
              "      <td>0.000000</td>\n",
              "      <td>0.000000</td>\n",
              "      <td>0.000000</td>\n",
              "      <td>0.000000</td>\n",
              "      <td>23.000000</td>\n",
              "    </tr>\n",
              "    <tr>\n",
              "      <th>50%</th>\n",
              "      <td>1.000000</td>\n",
              "      <td>0.000000</td>\n",
              "      <td>0.000000</td>\n",
              "      <td>1.000000</td>\n",
              "      <td>1.000000</td>\n",
              "      <td>1.000000</td>\n",
              "      <td>1.000000</td>\n",
              "      <td>0.000000</td>\n",
              "      <td>0.000000</td>\n",
              "      <td>1.000000</td>\n",
              "      <td>30.000000</td>\n",
              "    </tr>\n",
              "    <tr>\n",
              "      <th>75%</th>\n",
              "      <td>1.000000</td>\n",
              "      <td>1.000000</td>\n",
              "      <td>1.000000</td>\n",
              "      <td>1.000000</td>\n",
              "      <td>1.000000</td>\n",
              "      <td>1.000000</td>\n",
              "      <td>1.000000</td>\n",
              "      <td>1.000000</td>\n",
              "      <td>1.000000</td>\n",
              "      <td>1.000000</td>\n",
              "      <td>36.000000</td>\n",
              "    </tr>\n",
              "    <tr>\n",
              "      <th>max</th>\n",
              "      <td>1.000000</td>\n",
              "      <td>1.000000</td>\n",
              "      <td>1.000000</td>\n",
              "      <td>1.000000</td>\n",
              "      <td>1.000000</td>\n",
              "      <td>1.000000</td>\n",
              "      <td>1.000000</td>\n",
              "      <td>1.000000</td>\n",
              "      <td>1.000000</td>\n",
              "      <td>1.000000</td>\n",
              "      <td>36.000000</td>\n",
              "    </tr>\n",
              "  </tbody>\n",
              "</table>\n",
              "</div>\n",
              "      <button class=\"colab-df-convert\" onclick=\"convertToInteractive('df-2ea79f99-42fa-44b9-a7fc-4c5b245e848f')\"\n",
              "              title=\"Convert this dataframe to an interactive table.\"\n",
              "              style=\"display:none;\">\n",
              "        \n",
              "  <svg xmlns=\"http://www.w3.org/2000/svg\" height=\"24px\"viewBox=\"0 0 24 24\"\n",
              "       width=\"24px\">\n",
              "    <path d=\"M0 0h24v24H0V0z\" fill=\"none\"/>\n",
              "    <path d=\"M18.56 5.44l.94 2.06.94-2.06 2.06-.94-2.06-.94-.94-2.06-.94 2.06-2.06.94zm-11 1L8.5 8.5l.94-2.06 2.06-.94-2.06-.94L8.5 2.5l-.94 2.06-2.06.94zm10 10l.94 2.06.94-2.06 2.06-.94-2.06-.94-.94-2.06-.94 2.06-2.06.94z\"/><path d=\"M17.41 7.96l-1.37-1.37c-.4-.4-.92-.59-1.43-.59-.52 0-1.04.2-1.43.59L10.3 9.45l-7.72 7.72c-.78.78-.78 2.05 0 2.83L4 21.41c.39.39.9.59 1.41.59.51 0 1.02-.2 1.41-.59l7.78-7.78 2.81-2.81c.8-.78.8-2.07 0-2.86zM5.41 20L4 18.59l7.72-7.72 1.47 1.35L5.41 20z\"/>\n",
              "  </svg>\n",
              "      </button>\n",
              "      \n",
              "  <style>\n",
              "    .colab-df-container {\n",
              "      display:flex;\n",
              "      flex-wrap:wrap;\n",
              "      gap: 12px;\n",
              "    }\n",
              "\n",
              "    .colab-df-convert {\n",
              "      background-color: #E8F0FE;\n",
              "      border: none;\n",
              "      border-radius: 50%;\n",
              "      cursor: pointer;\n",
              "      display: none;\n",
              "      fill: #1967D2;\n",
              "      height: 32px;\n",
              "      padding: 0 0 0 0;\n",
              "      width: 32px;\n",
              "    }\n",
              "\n",
              "    .colab-df-convert:hover {\n",
              "      background-color: #E2EBFA;\n",
              "      box-shadow: 0px 1px 2px rgba(60, 64, 67, 0.3), 0px 1px 3px 1px rgba(60, 64, 67, 0.15);\n",
              "      fill: #174EA6;\n",
              "    }\n",
              "\n",
              "    [theme=dark] .colab-df-convert {\n",
              "      background-color: #3B4455;\n",
              "      fill: #D2E3FC;\n",
              "    }\n",
              "\n",
              "    [theme=dark] .colab-df-convert:hover {\n",
              "      background-color: #434B5C;\n",
              "      box-shadow: 0px 1px 3px 1px rgba(0, 0, 0, 0.15);\n",
              "      filter: drop-shadow(0px 1px 2px rgba(0, 0, 0, 0.3));\n",
              "      fill: #FFFFFF;\n",
              "    }\n",
              "  </style>\n",
              "\n",
              "      <script>\n",
              "        const buttonEl =\n",
              "          document.querySelector('#df-2ea79f99-42fa-44b9-a7fc-4c5b245e848f button.colab-df-convert');\n",
              "        buttonEl.style.display =\n",
              "          google.colab.kernel.accessAllowed ? 'block' : 'none';\n",
              "\n",
              "        async function convertToInteractive(key) {\n",
              "          const element = document.querySelector('#df-2ea79f99-42fa-44b9-a7fc-4c5b245e848f');\n",
              "          const dataTable =\n",
              "            await google.colab.kernel.invokeFunction('convertToInteractive',\n",
              "                                                     [key], {});\n",
              "          if (!dataTable) return;\n",
              "\n",
              "          const docLinkHtml = 'Like what you see? Visit the ' +\n",
              "            '<a target=\"_blank\" href=https://colab.research.google.com/notebooks/data_table.ipynb>data table notebook</a>'\n",
              "            + ' to learn more about interactive tables.';\n",
              "          element.innerHTML = '';\n",
              "          dataTable['output_type'] = 'display_data';\n",
              "          await google.colab.output.renderOutput(dataTable, element);\n",
              "          const docLink = document.createElement('div');\n",
              "          docLink.innerHTML = docLinkHtml;\n",
              "          element.appendChild(docLink);\n",
              "        }\n",
              "      </script>\n",
              "    </div>\n",
              "  </div>\n",
              "  "
            ]
          },
          "metadata": {},
          "execution_count": 57
        }
      ]
    },
    {
      "cell_type": "code",
      "source": [
        "sns.countplot(data=df,x='Class/ASD Traits ')\n"
      ],
      "metadata": {
        "colab": {
          "base_uri": "https://localhost:8080/",
          "height": 296
        },
        "id": "AtwBjCwh10I7",
        "outputId": "1b572256-85e3-4b25-e3ac-94eec8d74bb1"
      },
      "execution_count": null,
      "outputs": [
        {
          "output_type": "execute_result",
          "data": {
            "text/plain": [
              "<matplotlib.axes._subplots.AxesSubplot at 0x7f230040efd0>"
            ]
          },
          "metadata": {},
          "execution_count": 59
        },
        {
          "output_type": "display_data",
          "data": {
            "text/plain": [
              "<Figure size 432x288 with 1 Axes>"
            ],
            "image/png": "[encoded data removed]"
          },
          "metadata": {
            "needs_background": "light"
          }
        }
      ]
    },
    {
      "cell_type": "code",
      "source": [
        "sns.countplot(data=df,x=\"A1\",hue='Class/ASD Traits ')"
      ],
      "metadata": {
        "colab": {
          "base_uri": "https://localhost:8080/",
          "height": 296
        },
        "id": "62wfz85lzsPx",
        "outputId": "cb401233-212f-4c84-c915-10184fd6c38c"
      },
      "execution_count": null,
      "outputs": [
        {
          "output_type": "execute_result",
          "data": {
            "text/plain": [
              "<matplotlib.axes._subplots.AxesSubplot at 0x7f9167ba6af0>"
            ]
          },
          "metadata": {},
          "execution_count": 7
        },
        {
          "output_type": "display_data",
          "data": {
            "text/plain": [
              "<Figure size 432x288 with 1 Axes>"
            ],
            "image/png": "[encoded data removed]"
          },
          "metadata": {
            "needs_background": "light"
          }
        }
      ]
    },
    {
      "cell_type": "code",
      "source": [
        "sns.boxplot(data=df,y='Age_Mons',x='Class/ASD Traits ')"
      ],
      "metadata": {
        "colab": {
          "base_uri": "https://localhost:8080/",
          "height": 296
        },
        "id": "w4rf5oyqlcof",
        "outputId": "18828f18-308e-4ead-f96c-ba5546f2f070"
      },
      "execution_count": null,
      "outputs": [
        {
          "output_type": "execute_result",
          "data": {
            "text/plain": [
              "<matplotlib.axes._subplots.AxesSubplot at 0x7f23156039d0>"
            ]
          },
          "metadata": {},
          "execution_count": 76
        },
        {
          "output_type": "display_data",
          "data": {
            "text/plain": [
              "<Figure size 432x288 with 1 Axes>"
            ],
            "image/png": "[encoded data removed]"
          },
          "metadata": {
            "needs_background": "light"
          }
        }
      ]
    },
    {
      "cell_type": "code",
      "source": [
        "sns.countplot(data=df,x=\"Sex\",hue='Class/ASD Traits ')"
      ],
      "metadata": {
        "colab": {
          "base_uri": "https://localhost:8080/",
          "height": 296
        },
        "id": "JJeMfw64u58T",
        "outputId": "739b0c66-0054-4756-af5f-332737ff2f3d"
      },
      "execution_count": null,
      "outputs": [
        {
          "output_type": "execute_result",
          "data": {
            "text/plain": [
              "<matplotlib.axes._subplots.AxesSubplot at 0x7f9166931cd0>"
            ]
          },
          "metadata": {},
          "execution_count": 9
        },
        {
          "output_type": "display_data",
          "data": {
            "text/plain": [
              "<Figure size 432x288 with 1 Axes>"
            ],
            "image/png": "[encoded data removed]"
          },
          "metadata": {
            "needs_background": "light"
          }
        }
      ]
    },
    {
      "cell_type": "code",
      "source": [
        "sns.countplot(data=df,x=\"Ethnicity\",hue='Class/ASD Traits ')"
      ],
      "metadata": {
        "colab": {
          "base_uri": "https://localhost:8080/",
          "height": 296
        },
        "id": "gfbtlB6TvmmT",
        "outputId": "fc828563-0e86-4131-cbdb-7b6b159846c5"
      },
      "execution_count": null,
      "outputs": [
        {
          "output_type": "execute_result",
          "data": {
            "text/plain": [
              "<matplotlib.axes._subplots.AxesSubplot at 0x7f91667c8400>"
            ]
          },
          "metadata": {},
          "execution_count": 11
        },
        {
          "output_type": "display_data",
          "data": {
            "text/plain": [
              "<Figure size 432x288 with 1 Axes>"
            ],
            "image/png": "[encoded data removed]"
          },
          "metadata": {
            "needs_background": "light"
          }
        }
      ]
    },
    {
      "cell_type": "code",
      "source": [
        "sns.countplot(data=df,x=\"Who completed the test\",hue='Class/ASD Traits ')"
      ],
      "metadata": {
        "colab": {
          "base_uri": "https://localhost:8080/",
          "height": 296
        },
        "id": "RB8qqkjy8Nlc",
        "outputId": "9b944cb2-c860-49a0-a37a-4d2850ac423c"
      },
      "execution_count": null,
      "outputs": [
        {
          "output_type": "execute_result",
          "data": {
            "text/plain": [
              "<matplotlib.axes._subplots.AxesSubplot at 0x7f916674f8e0>"
            ]
          },
          "metadata": {},
          "execution_count": 12
        },
        {
          "output_type": "display_data",
          "data": {
            "text/plain": [
              "<Figure size 432x288 with 1 Axes>"
            ],
            "image/png": "[encoded data removed]"
          },
          "metadata": {
            "needs_background": "light"
          }
        }
      ]
    },
    {
      "cell_type": "code",
      "source": [
        "sns.countplot(data=df,x=\"Family_mem_with_ASD\",hue='Class/ASD Traits ')"
      ],
      "metadata": {
        "colab": {
          "base_uri": "https://localhost:8080/",
          "height": 297
        },
        "id": "IFwcMkmJ8mU3",
        "outputId": "5d99892e-28fe-435a-bbec-96414cda0b38"
      },
      "execution_count": null,
      "outputs": [
        {
          "output_type": "execute_result",
          "data": {
            "text/plain": [
              "<matplotlib.axes._subplots.AxesSubplot at 0x7f91666c4700>"
            ]
          },
          "metadata": {},
          "execution_count": 13
        },
        {
          "output_type": "display_data",
          "data": {
            "text/plain": [
              "<Figure size 432x288 with 1 Axes>"
            ],
            "image/png": "[encoded data removed]"
          },
          "metadata": {
            "needs_background": "light"
          }
        }
      ]
    },
    {
      "cell_type": "code",
      "source": [
        "sns.countplot(data=df,x=\"Jaundice\",hue='Class/ASD Traits ')"
      ],
      "metadata": {
        "colab": {
          "base_uri": "https://localhost:8080/",
          "height": 296
        },
        "id": "mQjXc86T85p6",
        "outputId": "38366819-e255-4718-b7ad-e983c7c73937"
      },
      "execution_count": null,
      "outputs": [
        {
          "output_type": "execute_result",
          "data": {
            "text/plain": [
              "<matplotlib.axes._subplots.AxesSubplot at 0x7f91666a0d90>"
            ]
          },
          "metadata": {},
          "execution_count": 14
        },
        {
          "output_type": "display_data",
          "data": {
            "text/plain": [
              "<Figure size 432x288 with 1 Axes>"
            ],
            "image/png": "[encoded data removed]"
          },
          "metadata": {
            "needs_background": "light"
          }
        }
      ]
    },
    {
      "cell_type": "markdown",
      "source": [
        "# Preprocessing"
      ],
      "metadata": {
        "id": "CoWO6FgqDU4X"
      }
    },
    {
      "cell_type": "code",
      "source": [
        "df.drop(columns=['Qchat-10-Score','Case_No'],axis=0,inplace=True)"
      ],
      "metadata": {
        "id": "Yu_AEwY7G2zt"
      },
      "execution_count": null,
      "outputs": []
    },
    {
      "cell_type": "code",
      "source": [
        "df['Class/ASD Traits ']=df['Class/ASD Traits '].replace({'Yes':1,'No':0})"
      ],
      "metadata": {
        "id": "JzTAONsFP2L0"
      },
      "execution_count": null,
      "outputs": []
    },
    {
      "cell_type": "code",
      "source": [
        "df=pd.get_dummies(df,drop_first=True)"
      ],
      "metadata": {
        "id": "PCmhC2XjPJpo"
      },
      "execution_count": null,
      "outputs": []
    },
    {
      "cell_type": "code",
      "source": [
        "data=df.copy()"
      ],
      "metadata": {
        "id": "W2-h_9GtTYeI"
      },
      "execution_count": null,
      "outputs": []
    },
    {
      "cell_type": "code",
      "source": [
        "X = data.loc[:,:'Class/ASD Traits ']\n",
        "y = data.loc[:,'Class/ASD Traits ']"
      ],
      "metadata": {
        "id": "Isg4rbmDTws_"
      },
      "execution_count": null,
      "outputs": []
    },
    {
      "cell_type": "code",
      "source": [
        "X_train, X_test, y_train, y_test = train_test_split(X,y,test_size=0.20,shuffle=True)\n"
      ],
      "metadata": {
        "id": "ifn9K34-fCNX"
      },
      "execution_count": null,
      "outputs": []
    },
    {
      "cell_type": "markdown",
      "source": [
        "# Modeling "
      ],
      "metadata": {
        "id": "TYbFRjnuryCM"
      }
    },
    {
      "cell_type": "code",
      "source": [
        "!pip install catboost"
      ],
      "metadata": {
        "colab": {
          "base_uri": "https://localhost:8080/"
        },
        "id": "aNlp_zXB2aOe",
        "outputId": "56c2764a-977c-4745-d4cf-e990bd3449e4"
      },
      "execution_count": null,
      "outputs": [
        {
          "output_type": "stream",
          "name": "stdout",
          "text": [
            "Looking in indexes: https://pypi.org/simple, https://us-python.pkg.dev/colab-wheels/public/simple/\n",
            "Requirement already satisfied: catboost in /usr/local/lib/python3.8/dist-packages (1.1.1)\n",
            "Requirement already satisfied: plotly in /usr/local/lib/python3.8/dist-packages (from catboost) (5.5.0)\n",
            "Requirement already satisfied: numpy>=1.16.0 in /usr/local/lib/python3.8/dist-packages (from catboost) (1.21.6)\n",
            "Requirement already satisfied: scipy in /usr/local/lib/python3.8/dist-packages (from catboost) (1.7.3)\n",
            "Requirement already satisfied: matplotlib in /usr/local/lib/python3.8/dist-packages (from catboost) (3.2.2)\n",
            "Requirement already satisfied: pandas>=0.24.0 in /usr/local/lib/python3.8/dist-packages (from catboost) (1.3.5)\n",
            "Requirement already satisfied: graphviz in /usr/local/lib/python3.8/dist-packages (from catboost) (0.10.1)\n",
            "Requirement already satisfied: six in /usr/local/lib/python3.8/dist-packages (from catboost) (1.15.0)\n",
            "Requirement already satisfied: python-dateutil>=2.7.3 in /usr/local/lib/python3.8/dist-packages (from pandas>=0.24.0->catboost) (2.8.2)\n",
            "Requirement already satisfied: pytz>=2017.3 in /usr/local/lib/python3.8/dist-packages (from pandas>=0.24.0->catboost) (2022.7)\n",
            "Requirement already satisfied: pyparsing!=2.0.4,!=2.1.2,!=2.1.6,>=2.0.1 in /usr/local/lib/python3.8/dist-packages (from matplotlib->catboost) (3.0.9)\n",
            "Requirement already satisfied: cycler>=0.10 in /usr/local/lib/python3.8/dist-packages (from matplotlib->catboost) (0.11.0)\n",
            "Requirement already satisfied: kiwisolver>=1.0.1 in /usr/local/lib/python3.8/dist-packages (from matplotlib->catboost) (1.4.4)\n",
            "Requirement already satisfied: tenacity>=6.2.0 in /usr/local/lib/python3.8/dist-packages (from plotly->catboost) (8.1.0)\n"
          ]
        }
      ]
    },
    {
      "cell_type": "markdown",
      "source": [
        "# StratifiedKFold/catbost"
      ],
      "metadata": {
        "id": "3-ERaEYCr9xe"
      }
    },
    {
      "cell_type": "code",
      "source": [
        "from catboost import CatBoostClassifier\n",
        "from sklearn.model_selection import StratifiedKFold\n",
        "categorical_features_indices=[0]\n",
        "clf = CatBoostClassifier(learning_rate=0.055, \n",
        "                          n_estimators=1000, \n",
        "                          subsample=0.075, \n",
        "                          max_depth=3, \n",
        "                          verbose=100,\n",
        "                          l2_leaf_reg = 7,\n",
        "                          eval_metric='F1')\n",
        "\n",
        "kf = StratifiedKFold(n_splits=7,shuffle=True,random_state=12345)\n",
        "f1 = []\n",
        "\n",
        "for fold,(t_id,v_id) in enumerate(kf.split(X_train,y_train)):\n",
        "    tx = X_train.iloc[t_id]; ty = y_train.iloc[t_id]\n",
        "    vx = X_train.iloc[v_id]; vy = y_train.iloc[v_id]\n",
        "    clf.fit(tx,ty)        \n",
        "    val_y = clf.predict(vx)\n",
        "    \n",
        "    F1_score = f1_score(vy, val_y)\n",
        "    f1.append(F1_score)\n",
        "    print(f\"fold {fold} f1 {F1_score}\")\n",
        "    print(confusion_matrix(val_y, vy))\n",
        "\n",
        "print(f\"Mean f1 score {np.mean(f1)}\")"
      ],
      "metadata": {
        "colab": {
          "base_uri": "https://localhost:8080/"
        },
        "id": "jqGU86jwbUpK",
        "outputId": "aaf62629-be9e-4626-fc2d-e02aaaeb5d9c"
      },
      "execution_count": null,
      "outputs": [
        {
          "output_type": "stream",
          "name": "stdout",
          "text": [
            "0:\tlearn: 1.0000000\ttotal: 739us\tremaining: 739ms\n",
            "100:\tlearn: 1.0000000\ttotal: 53.6ms\tremaining: 477ms\n",
            "200:\tlearn: 1.0000000\ttotal: 103ms\tremaining: 408ms\n",
            "300:\tlearn: 1.0000000\ttotal: 152ms\tremaining: 352ms\n",
            "400:\tlearn: 1.0000000\ttotal: 205ms\tremaining: 306ms\n",
            "500:\tlearn: 1.0000000\ttotal: 259ms\tremaining: 258ms\n",
            "600:\tlearn: 1.0000000\ttotal: 305ms\tremaining: 203ms\n",
            "700:\tlearn: 1.0000000\ttotal: 353ms\tremaining: 150ms\n",
            "800:\tlearn: 1.0000000\ttotal: 404ms\tremaining: 100ms\n",
            "900:\tlearn: 1.0000000\ttotal: 452ms\tremaining: 49.6ms\n",
            "999:\tlearn: 1.0000000\ttotal: 501ms\tremaining: 0us\n",
            "fold 0 f1 1.0\n",
            "[[57  0]\n",
            " [ 0 57]]\n",
            "0:\tlearn: 1.0000000\ttotal: 884us\tremaining: 884ms\n",
            "100:\tlearn: 1.0000000\ttotal: 58.1ms\tremaining: 517ms\n",
            "200:\tlearn: 1.0000000\ttotal: 110ms\tremaining: 436ms\n",
            "300:\tlearn: 1.0000000\ttotal: 163ms\tremaining: 377ms\n",
            "400:\tlearn: 1.0000000\ttotal: 212ms\tremaining: 317ms\n",
            "500:\tlearn: 1.0000000\ttotal: 263ms\tremaining: 262ms\n",
            "600:\tlearn: 1.0000000\ttotal: 311ms\tremaining: 207ms\n",
            "700:\tlearn: 1.0000000\ttotal: 359ms\tremaining: 153ms\n",
            "800:\tlearn: 1.0000000\ttotal: 409ms\tremaining: 102ms\n",
            "900:\tlearn: 1.0000000\ttotal: 466ms\tremaining: 51.2ms\n",
            "999:\tlearn: 1.0000000\ttotal: 514ms\tremaining: 0us\n",
            "fold 1 f1 1.0\n",
            "[[57  0]\n",
            " [ 0 57]]\n",
            "0:\tlearn: 1.0000000\ttotal: 843us\tremaining: 843ms\n",
            "100:\tlearn: 1.0000000\ttotal: 74.9ms\tremaining: 666ms\n",
            "200:\tlearn: 1.0000000\ttotal: 127ms\tremaining: 506ms\n",
            "300:\tlearn: 1.0000000\ttotal: 176ms\tremaining: 408ms\n",
            "400:\tlearn: 1.0000000\ttotal: 230ms\tremaining: 344ms\n",
            "500:\tlearn: 1.0000000\ttotal: 281ms\tremaining: 280ms\n",
            "600:\tlearn: 1.0000000\ttotal: 335ms\tremaining: 223ms\n",
            "700:\tlearn: 1.0000000\ttotal: 385ms\tremaining: 164ms\n",
            "800:\tlearn: 1.0000000\ttotal: 432ms\tremaining: 107ms\n",
            "900:\tlearn: 1.0000000\ttotal: 482ms\tremaining: 53ms\n",
            "999:\tlearn: 1.0000000\ttotal: 538ms\tremaining: 0us\n",
            "fold 2 f1 1.0\n",
            "[[57  0]\n",
            " [ 0 57]]\n",
            "0:\tlearn: 1.0000000\ttotal: 735us\tremaining: 735ms\n",
            "100:\tlearn: 1.0000000\ttotal: 57.2ms\tremaining: 509ms\n",
            "200:\tlearn: 1.0000000\ttotal: 108ms\tremaining: 428ms\n",
            "300:\tlearn: 1.0000000\ttotal: 161ms\tremaining: 374ms\n",
            "400:\tlearn: 1.0000000\ttotal: 220ms\tremaining: 328ms\n",
            "500:\tlearn: 1.0000000\ttotal: 270ms\tremaining: 269ms\n",
            "600:\tlearn: 1.0000000\ttotal: 321ms\tremaining: 213ms\n",
            "700:\tlearn: 1.0000000\ttotal: 377ms\tremaining: 161ms\n",
            "800:\tlearn: 1.0000000\ttotal: 442ms\tremaining: 110ms\n",
            "900:\tlearn: 1.0000000\ttotal: 499ms\tremaining: 54.8ms\n",
            "999:\tlearn: 1.0000000\ttotal: 547ms\tremaining: 0us\n",
            "fold 3 f1 1.0\n",
            "[[57  0]\n",
            " [ 0 57]]\n",
            "0:\tlearn: 1.0000000\ttotal: 736us\tremaining: 736ms\n",
            "100:\tlearn: 1.0000000\ttotal: 51.6ms\tremaining: 459ms\n",
            "200:\tlearn: 1.0000000\ttotal: 107ms\tremaining: 425ms\n",
            "300:\tlearn: 1.0000000\ttotal: 157ms\tremaining: 364ms\n",
            "400:\tlearn: 1.0000000\ttotal: 208ms\tremaining: 311ms\n",
            "500:\tlearn: 1.0000000\ttotal: 255ms\tremaining: 254ms\n",
            "600:\tlearn: 1.0000000\ttotal: 302ms\tremaining: 201ms\n",
            "700:\tlearn: 1.0000000\ttotal: 350ms\tremaining: 149ms\n",
            "800:\tlearn: 1.0000000\ttotal: 403ms\tremaining: 100ms\n",
            "900:\tlearn: 1.0000000\ttotal: 453ms\tremaining: 49.8ms\n",
            "999:\tlearn: 1.0000000\ttotal: 503ms\tremaining: 0us\n",
            "fold 4 f1 1.0\n",
            "[[57  0]\n",
            " [ 0 56]]\n",
            "0:\tlearn: 1.0000000\ttotal: 923us\tremaining: 923ms\n",
            "100:\tlearn: 1.0000000\ttotal: 57.1ms\tremaining: 508ms\n",
            "200:\tlearn: 1.0000000\ttotal: 108ms\tremaining: 427ms\n",
            "300:\tlearn: 1.0000000\ttotal: 156ms\tremaining: 363ms\n",
            "400:\tlearn: 1.0000000\ttotal: 213ms\tremaining: 319ms\n",
            "500:\tlearn: 1.0000000\ttotal: 264ms\tremaining: 263ms\n",
            "600:\tlearn: 1.0000000\ttotal: 312ms\tremaining: 207ms\n",
            "700:\tlearn: 1.0000000\ttotal: 359ms\tremaining: 153ms\n",
            "800:\tlearn: 1.0000000\ttotal: 406ms\tremaining: 101ms\n",
            "900:\tlearn: 1.0000000\ttotal: 463ms\tremaining: 50.8ms\n",
            "999:\tlearn: 1.0000000\ttotal: 510ms\tremaining: 0us\n",
            "fold 5 f1 1.0\n",
            "[[57  0]\n",
            " [ 0 56]]\n",
            "0:\tlearn: 1.0000000\ttotal: 771us\tremaining: 771ms\n",
            "100:\tlearn: 1.0000000\ttotal: 57.1ms\tremaining: 509ms\n",
            "200:\tlearn: 1.0000000\ttotal: 111ms\tremaining: 441ms\n",
            "300:\tlearn: 1.0000000\ttotal: 159ms\tremaining: 370ms\n",
            "400:\tlearn: 1.0000000\ttotal: 210ms\tremaining: 314ms\n",
            "500:\tlearn: 1.0000000\ttotal: 260ms\tremaining: 259ms\n",
            "600:\tlearn: 1.0000000\ttotal: 320ms\tremaining: 212ms\n",
            "700:\tlearn: 1.0000000\ttotal: 368ms\tremaining: 157ms\n",
            "800:\tlearn: 1.0000000\ttotal: 417ms\tremaining: 104ms\n",
            "900:\tlearn: 1.0000000\ttotal: 464ms\tremaining: 51ms\n",
            "999:\tlearn: 1.0000000\ttotal: 514ms\tremaining: 0us\n",
            "fold 6 f1 1.0\n",
            "[[57  0]\n",
            " [ 0 56]]\n",
            "Mean f1 score 1.0\n"
          ]
        }
      ]
    },
    {
      "cell_type": "markdown",
      "source": [
        "# Randomoversamplig"
      ],
      "metadata": {
        "id": "t4ua929OsLJa"
      }
    },
    {
      "cell_type": "code",
      "source": [
        "X_train, X_test, y_train, y_test = train_test_split(X,y,test_size=0.30,shuffle=True)\n",
        "\n",
        "# summarize class distribution\n",
        "print(\"Before OVERsampling: \", Counter(y_train))\n",
        "\n",
        "# define oversampling strategy\n",
        "oversample = RandomOverSampler(sampling_strategy='minority')\n",
        "\n",
        "# fit and apply the transform\n",
        "X_train_over, y_train_over = oversample.fit_resample(X_train, y_train)\n",
        "\n",
        "# summarize class distribution\n",
        "print(\"After OVERsampling: \", Counter(y_train_over))"
      ],
      "metadata": {
        "colab": {
          "base_uri": "https://localhost:8080/"
        },
        "id": "NegL_4h3X7Oz",
        "outputId": "91f09df9-1b63-4927-b5a3-bb39f72f6578"
      },
      "execution_count": null,
      "outputs": [
        {
          "output_type": "stream",
          "name": "stdout",
          "text": [
            "Before OVERsampling:  Counter({1: 497, 0: 240})\n",
            "After OVERsampling:  Counter({0: 497, 1: 497})\n"
          ]
        }
      ]
    },
    {
      "cell_type": "markdown",
      "source": [
        "# Somte"
      ],
      "metadata": {
        "id": "Dy2OGfMjsVB1"
      }
    },
    {
      "cell_type": "code",
      "source": [
        "SMOTE = SMOTE()\n",
        "\n",
        "# fit and apply the transform\n",
        "X_train_SMOTE, y_train_SMOTE = SMOTE.fit_resample(X_train, y_train)\n",
        "\n",
        "# summarize class distribution\n",
        "print(\"After oversampling: \",Counter(y_train_SMOTE))"
      ],
      "metadata": {
        "colab": {
          "base_uri": "https://localhost:8080/"
        },
        "id": "XqpIIIFmaZgF",
        "outputId": "1fc3537f-1f8e-4eb6-83fb-9d7a9fa8b865"
      },
      "execution_count": null,
      "outputs": [
        {
          "output_type": "stream",
          "name": "stdout",
          "text": [
            "After oversampling:  Counter({0: 497, 1: 497})\n"
          ]
        }
      ]
    },
    {
      "cell_type": "code",
      "source": [
        "from catboost import CatBoostClassifier\n",
        "from sklearn.model_selection import StratifiedKFold\n",
        "categorical_features_indices=[0]\n",
        "clf = CatBoostClassifier(learning_rate=0.055, \n",
        "                          n_estimators=1000, \n",
        "                          subsample=0.075, \n",
        "                          max_depth=3, \n",
        "                          verbose=100,\n",
        "                          l2_leaf_reg = 7,\n",
        "                          eval_metric='F1')\n",
        "\n",
        "kf = StratifiedKFold(n_splits=7,shuffle=True,random_state=12345)\n",
        "f1 = []\n",
        "\n",
        "for fold,(t_id,v_id) in enumerate(kf.split(X_train,y_train)):\n",
        "    tx = X_train_SMOTE.iloc[t_id]; ty = y_train_SMOTE.iloc[t_id]\n",
        "    vx = X_train_SMOTE.iloc[v_id]; vy = y_train_SMOTE.iloc[v_id]\n",
        "    clf.fit(tx,ty)        \n",
        "    val_y = clf.predict(vx)\n",
        "    \n",
        "    F1_score = f1_score(vy, val_y)\n",
        "    f1.append(F1_score)\n",
        "    print(f\"fold {fold} f1 {F1_score}\")\n",
        "    print(confusion_matrix(val_y, vy))\n",
        "\n",
        "print(f\"Mean f1 score {np.mean(f1)}\")\n",
        "   "
      ],
      "metadata": {
        "colab": {
          "base_uri": "https://localhost:8080/"
        },
        "id": "HfbOwjZ93i3X",
        "outputId": "3b79395a-76aa-430e-fcfe-87c83f6b3541"
      },
      "execution_count": null,
      "outputs": [
        {
          "output_type": "stream",
          "name": "stdout",
          "text": [
            "0:\tlearn: 1.0000000\ttotal: 742us\tremaining: 741ms\n",
            "100:\tlearn: 1.0000000\ttotal: 62.5ms\tremaining: 556ms\n",
            "200:\tlearn: 1.0000000\ttotal: 113ms\tremaining: 449ms\n",
            "300:\tlearn: 1.0000000\ttotal: 163ms\tremaining: 380ms\n",
            "400:\tlearn: 1.0000000\ttotal: 216ms\tremaining: 323ms\n",
            "500:\tlearn: 1.0000000\ttotal: 266ms\tremaining: 265ms\n",
            "600:\tlearn: 1.0000000\ttotal: 319ms\tremaining: 211ms\n",
            "700:\tlearn: 1.0000000\ttotal: 367ms\tremaining: 157ms\n",
            "800:\tlearn: 1.0000000\ttotal: 419ms\tremaining: 104ms\n",
            "900:\tlearn: 1.0000000\ttotal: 467ms\tremaining: 51.3ms\n",
            "999:\tlearn: 1.0000000\ttotal: 517ms\tremaining: 0us\n",
            "fold 0 f1 1.0\n",
            "[[46  0]\n",
            " [ 0 68]]\n",
            "0:\tlearn: 1.0000000\ttotal: 749us\tremaining: 749ms\n",
            "100:\tlearn: 1.0000000\ttotal: 55.5ms\tremaining: 494ms\n",
            "200:\tlearn: 1.0000000\ttotal: 104ms\tremaining: 412ms\n",
            "300:\tlearn: 1.0000000\ttotal: 151ms\tremaining: 351ms\n",
            "400:\tlearn: 1.0000000\ttotal: 204ms\tremaining: 305ms\n",
            "500:\tlearn: 1.0000000\ttotal: 256ms\tremaining: 255ms\n",
            "600:\tlearn: 1.0000000\ttotal: 308ms\tremaining: 204ms\n",
            "700:\tlearn: 1.0000000\ttotal: 357ms\tremaining: 152ms\n",
            "800:\tlearn: 1.0000000\ttotal: 421ms\tremaining: 105ms\n",
            "900:\tlearn: 1.0000000\ttotal: 485ms\tremaining: 53.3ms\n",
            "999:\tlearn: 1.0000000\ttotal: 534ms\tremaining: 0us\n",
            "fold 1 f1 1.0\n",
            "[[43  0]\n",
            " [ 0 71]]\n",
            "0:\tlearn: 1.0000000\ttotal: 770us\tremaining: 769ms\n",
            "100:\tlearn: 1.0000000\ttotal: 59ms\tremaining: 525ms\n",
            "200:\tlearn: 1.0000000\ttotal: 112ms\tremaining: 447ms\n",
            "300:\tlearn: 1.0000000\ttotal: 167ms\tremaining: 388ms\n",
            "400:\tlearn: 1.0000000\ttotal: 214ms\tremaining: 320ms\n",
            "500:\tlearn: 1.0000000\ttotal: 262ms\tremaining: 261ms\n",
            "600:\tlearn: 1.0000000\ttotal: 314ms\tremaining: 208ms\n",
            "700:\tlearn: 1.0000000\ttotal: 361ms\tremaining: 154ms\n",
            "800:\tlearn: 1.0000000\ttotal: 408ms\tremaining: 101ms\n",
            "900:\tlearn: 1.0000000\ttotal: 458ms\tremaining: 50.3ms\n",
            "999:\tlearn: 1.0000000\ttotal: 513ms\tremaining: 0us\n",
            "fold 2 f1 1.0\n",
            "[[43  0]\n",
            " [ 0 71]]\n",
            "0:\tlearn: 1.0000000\ttotal: 1.82ms\tremaining: 1.82s\n",
            "100:\tlearn: 1.0000000\ttotal: 55.7ms\tremaining: 496ms\n",
            "200:\tlearn: 1.0000000\ttotal: 105ms\tremaining: 417ms\n",
            "300:\tlearn: 1.0000000\ttotal: 159ms\tremaining: 370ms\n",
            "400:\tlearn: 1.0000000\ttotal: 214ms\tremaining: 319ms\n",
            "500:\tlearn: 1.0000000\ttotal: 263ms\tremaining: 261ms\n",
            "600:\tlearn: 1.0000000\ttotal: 311ms\tremaining: 206ms\n",
            "700:\tlearn: 1.0000000\ttotal: 365ms\tremaining: 156ms\n",
            "800:\tlearn: 1.0000000\ttotal: 419ms\tremaining: 104ms\n",
            "900:\tlearn: 1.0000000\ttotal: 466ms\tremaining: 51.2ms\n",
            "999:\tlearn: 1.0000000\ttotal: 512ms\tremaining: 0us\n",
            "fold 3 f1 1.0\n",
            "[[41  0]\n",
            " [ 0 73]]\n",
            "0:\tlearn: 1.0000000\ttotal: 817us\tremaining: 816ms\n",
            "100:\tlearn: 1.0000000\ttotal: 52ms\tremaining: 463ms\n",
            "200:\tlearn: 1.0000000\ttotal: 103ms\tremaining: 411ms\n",
            "300:\tlearn: 1.0000000\ttotal: 154ms\tremaining: 358ms\n",
            "400:\tlearn: 1.0000000\ttotal: 207ms\tremaining: 308ms\n",
            "500:\tlearn: 1.0000000\ttotal: 254ms\tremaining: 253ms\n",
            "600:\tlearn: 1.0000000\ttotal: 301ms\tremaining: 200ms\n",
            "700:\tlearn: 1.0000000\ttotal: 351ms\tremaining: 150ms\n",
            "800:\tlearn: 1.0000000\ttotal: 418ms\tremaining: 104ms\n",
            "900:\tlearn: 1.0000000\ttotal: 472ms\tremaining: 51.9ms\n",
            "999:\tlearn: 1.0000000\ttotal: 545ms\tremaining: 0us\n",
            "fold 4 f1 1.0\n",
            "[[40  0]\n",
            " [ 0 73]]\n",
            "0:\tlearn: 1.0000000\ttotal: 750us\tremaining: 750ms\n",
            "100:\tlearn: 1.0000000\ttotal: 66.2ms\tremaining: 589ms\n",
            "200:\tlearn: 1.0000000\ttotal: 118ms\tremaining: 469ms\n",
            "300:\tlearn: 1.0000000\ttotal: 169ms\tremaining: 392ms\n",
            "400:\tlearn: 1.0000000\ttotal: 217ms\tremaining: 323ms\n",
            "500:\tlearn: 1.0000000\ttotal: 266ms\tremaining: 265ms\n",
            "600:\tlearn: 1.0000000\ttotal: 315ms\tremaining: 209ms\n",
            "700:\tlearn: 1.0000000\ttotal: 363ms\tremaining: 155ms\n",
            "800:\tlearn: 1.0000000\ttotal: 412ms\tremaining: 102ms\n",
            "900:\tlearn: 1.0000000\ttotal: 463ms\tremaining: 50.9ms\n",
            "999:\tlearn: 1.0000000\ttotal: 511ms\tremaining: 0us\n",
            "fold 5 f1 1.0\n",
            "[[42  0]\n",
            " [ 0 71]]\n",
            "0:\tlearn: 1.0000000\ttotal: 1.38ms\tremaining: 1.38s\n",
            "100:\tlearn: 1.0000000\ttotal: 55ms\tremaining: 490ms\n",
            "200:\tlearn: 1.0000000\ttotal: 109ms\tremaining: 435ms\n",
            "300:\tlearn: 1.0000000\ttotal: 171ms\tremaining: 397ms\n",
            "400:\tlearn: 1.0000000\ttotal: 219ms\tremaining: 327ms\n",
            "500:\tlearn: 1.0000000\ttotal: 267ms\tremaining: 266ms\n",
            "600:\tlearn: 1.0000000\ttotal: 323ms\tremaining: 214ms\n",
            "700:\tlearn: 1.0000000\ttotal: 370ms\tremaining: 158ms\n",
            "800:\tlearn: 1.0000000\ttotal: 418ms\tremaining: 104ms\n",
            "900:\tlearn: 1.0000000\ttotal: 465ms\tremaining: 51.1ms\n",
            "999:\tlearn: 1.0000000\ttotal: 519ms\tremaining: 0us\n",
            "fold 6 f1 1.0\n",
            "[[43  0]\n",
            " [ 0 70]]\n",
            "Mean f1 score 1.0\n"
          ]
        }
      ]
    },
    {
      "cell_type": "markdown",
      "source": [
        "#Testing"
      ],
      "metadata": {
        "id": "JUNe-df2srA-"
      }
    },
    {
      "cell_type": "code",
      "source": [
        "clf_y = clf.predict(X_test)\n",
        "F1_score = f1_score(y_test, clf_y)\n",
        "\n",
        "print(confusion_matrix(clf_y, y_test))\n",
        "print(f1_score(y_test,clf_y))\n",
        "print(precision_score(y_test, clf_y))\n",
        "print(recall_score(y_test, clf_y) )"
      ],
      "metadata": {
        "colab": {
          "base_uri": "https://localhost:8080/"
        },
        "id": "hSGPRFMU-aNW",
        "outputId": "44c74f59-d2ce-4e44-8b10-2c9574986420"
      },
      "execution_count": null,
      "outputs": [
        {
          "output_type": "stream",
          "name": "stdout",
          "text": [
            "[[ 86   0]\n",
            " [  0 231]]\n",
            "1.0\n",
            "1.0\n",
            "1.0\n"
          ]
        }
      ]
    }
  ]
}