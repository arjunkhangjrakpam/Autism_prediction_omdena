{
  "nbformat": 4,
  "nbformat_minor": 0,
  "metadata": {
    "colab": {
      "provenance": []
    },
    "kernelspec": {
      "name": "python3",
      "display_name": "Python 3"
    },
    "language_info": {
      "name": "python"
    }
  },
  "cells": [
    {
      "cell_type": "code",
      "execution_count": null,
      "metadata": {
        "colab": {
          "base_uri": "https://localhost:8080/"
        },
        "id": "yqTIFFFYpswM",
        "outputId": "718c96bc-4659-4113-f5f4-43600f5224f9"
      },
      "outputs": [
        {
          "output_type": "stream",
          "name": "stdout",
          "text": [
            "Drive already mounted at /content/drive; to attempt to forcibly remount, call drive.mount(\"/content/drive\", force_remount=True).\n"
          ]
        }
      ],
      "source": [
        "from google.colab import drive\n",
        "drive.mount('/content/drive')\n",
        "\n",
        "#Optional: move to the desired location:\n",
        "#%cd drive/My Drive/DIRECTORY_IN_YOUR_DRIVE"
      ]
    },
    {
      "cell_type": "code",
      "source": [
        "import pandas as pd\n",
        "import os\n",
        "import matplotlib.pyplot as plt\n",
        "#sns.set_style('whitegrid')\n",
        "\n",
        "from sklearn.model_selection import train_test_split\n",
        "import tensorflow as tf\n",
        "#Convert the text into numeric values.\n",
        "from sklearn.preprocessing import LabelEncoder\n",
        "from tensorflow import keras  \n",
        "from sklearn.svm import SVC\n",
        "from sklearn.metrics import precision_score, \\\n",
        "    recall_score, confusion_matrix, classification_report, \\\n",
        "    accuracy_score, f1_score, ConfusionMatrixDisplay\n",
        "\n",
        "import numpy as np\n",
        "np.seterr(divide='ignore', invalid='ignore')\n",
        "from sklearn.feature_selection import SelectKBest\n",
        "from sklearn.feature_selection import f_classif\n",
        "from sklearn.linear_model import LogisticRegression\n",
        "#first import KNeighborsClassifier Algorithm\n",
        "from sklearn.neighbors import KNeighborsClassifier"
      ],
      "metadata": {
        "id": "1uZxpeG7p5ba"
      },
      "execution_count": null,
      "outputs": []
    },
    {
      "cell_type": "code",
      "source": [
        "data_folder = 'drive/My Drive/Omdena/SriLanka/Autism/data'\n",
        "csv_files = os.listdir(data_folder)\n",
        "print(csv_files)\n"
      ],
      "metadata": {
        "colab": {
          "base_uri": "https://localhost:8080/"
        },
        "id": "oA1hyEBrp6We",
        "outputId": "053a3362-867d-43ca-f40f-7a3b56ee1d8b"
      },
      "execution_count": null,
      "outputs": [
        {
          "output_type": "stream",
          "name": "stdout",
          "text": [
            "['Autism Spectrum Disorder Screening Data for Toddlers in Saudi Arabia Data Set.csv', 'Autism-Child-Data.csv', 'data_csv.csv', 'Toddler Autism dataset July 2018.csv']\n"
          ]
        }
      ]
    },
    {
      "cell_type": "markdown",
      "source": [
        "# Saudi Data"
      ],
      "metadata": {
        "id": "AgJOkxDwqqSj"
      }
    },
    {
      "cell_type": "markdown",
      "source": [
        "## Data Processing"
      ],
      "metadata": {
        "id": "aLwJ1amSvht9"
      }
    },
    {
      "cell_type": "code",
      "source": [
        "saudi_df = pd.read_csv(os.path.join(data_folder,'Autism Spectrum Disorder Screening Data for Toddlers in Saudi Arabia Data Set.csv'))\n"
      ],
      "metadata": {
        "id": "UM0P3vXeqC-v"
      },
      "execution_count": null,
      "outputs": []
    },
    {
      "cell_type": "markdown",
      "source": [
        "convert categorical string data to numeric data through label encoding"
      ],
      "metadata": {
        "id": "F_00M5FMvLqX"
      }
    },
    {
      "cell_type": "code",
      "source": [
        "le_Species = LabelEncoder()\n",
        "saudi_df['Family member with ASD history'] = le_Species.fit_transform(saudi_df['Family member with ASD history'])\n",
        "saudi_df['Gender'] = le_Species.fit_transform(saudi_df['Gender'])\n",
        "saudi_df['Region'] = le_Species.fit_transform(saudi_df['Region'])"
      ],
      "metadata": {
        "id": "SQ9MZUhevIWo"
      },
      "execution_count": null,
      "outputs": []
    },
    {
      "cell_type": "code",
      "source": [
        "#select target and predectors\n",
        "X = saudi_df.drop ([\"Who is completing the test\",\"Screening Score\",\"Class\"],axis = 1)\n",
        "y = saudi_df[\"Class\"].values \n",
        "print(X.shape)"
      ],
      "metadata": {
        "colab": {
          "base_uri": "https://localhost:8080/"
        },
        "id": "JesFbw52tjgG",
        "outputId": "86ca0b6b-a81b-4fa9-fb31-be8382bb6da9"
      },
      "execution_count": null,
      "outputs": [
        {
          "output_type": "stream",
          "name": "stdout",
          "text": [
            "(506, 14)\n"
          ]
        }
      ]
    },
    {
      "cell_type": "markdown",
      "source": [
        "We keep 20% of the data as test data"
      ],
      "metadata": {
        "id": "IP6n-fHkwbly"
      }
    },
    {
      "cell_type": "code",
      "source": [
        "#Split the dataset \n",
        "X_train , X_test , y_train , y_test = train_test_split(X,y,test_size=0.2,random_state =0)"
      ],
      "metadata": {
        "id": "BuhuGRxxvH9I"
      },
      "execution_count": null,
      "outputs": []
    },
    {
      "cell_type": "markdown",
      "source": [
        "## Training"
      ],
      "metadata": {
        "id": "I5Q7yMvnvkSC"
      }
    },
    {
      "cell_type": "markdown",
      "source": [
        "### SVM"
      ],
      "metadata": {
        "id": "1hOIpXFZvm8b"
      }
    },
    {
      "cell_type": "code",
      "source": [
        "svm=SVC(random_state=0)\n",
        "#train model using train set x,y\n",
        "svm.fit(X_train ,y_train)\n",
        "#Printing accuracy scores of training and testing data\n",
        "print(\"train accuracy:\",svm.score(X_train,y_train))\n",
        "#print(\"test accuracy:\",svm.score(X_test,y_test))\n",
        "svm_preds =  svm.predict(X_test)\n",
        "#print(svm_preds)\n",
        "svm_accuracy =  accuracy_score(y_test, svm_preds)\n",
        "svm_cf = confusion_matrix(y_test, svm_preds, labels=svm.classes_)\n",
        "svm_classification_report = classification_report(y_test, svm_preds)"
      ],
      "metadata": {
        "colab": {
          "base_uri": "https://localhost:8080/"
        },
        "id": "5i6hrkf0t5Qd",
        "outputId": "927f2bbb-6e54-4be2-a319-59125885eec2"
      },
      "execution_count": null,
      "outputs": [
        {
          "output_type": "stream",
          "name": "stdout",
          "text": [
            "train accuracy: 0.75\n"
          ]
        }
      ]
    },
    {
      "cell_type": "code",
      "source": [
        "print(f'test acc: {svm_accuracy}')"
      ],
      "metadata": {
        "colab": {
          "base_uri": "https://localhost:8080/"
        },
        "id": "PVZGkuAlwvjn",
        "outputId": "c9c86b89-6353-4870-808b-b633f590e995"
      },
      "execution_count": null,
      "outputs": [
        {
          "output_type": "stream",
          "name": "stdout",
          "text": [
            "test acc: 0.6764705882352942\n"
          ]
        }
      ]
    },
    {
      "cell_type": "code",
      "source": [
        "disp = ConfusionMatrixDisplay(confusion_matrix=svm_cf, display_labels=svm.classes_)\n",
        "disp.plot()\n",
        "plt.show()"
      ],
      "metadata": {
        "colab": {
          "base_uri": "https://localhost:8080/",
          "height": 279
        },
        "id": "mRIp0mFMxac0",
        "outputId": "f2cc2632-ac78-4ae2-f60c-a203de0a8d52"
      },
      "execution_count": null,
      "outputs": [
        {
          "output_type": "display_data",
          "data": {
            "text/plain": [
              "<Figure size 432x288 with 2 Axes>"
            ],
            "image/png": "[encoded data removed]"
          },
          "metadata": {}
        }
      ]
    },
    {
      "cell_type": "code",
      "source": [
        "print(svm_classification_report)"
      ],
      "metadata": {
        "colab": {
          "base_uri": "https://localhost:8080/"
        },
        "id": "LfyHgus6xgx8",
        "outputId": "e41faa26-2ff3-445e-9fa2-7fb90c6633a7"
      },
      "execution_count": null,
      "outputs": [
        {
          "output_type": "stream",
          "name": "stdout",
          "text": [
            "              precision    recall  f1-score   support\n",
            "\n",
            "           0       1.00      0.13      0.23        38\n",
            "           1       0.66      1.00      0.80        64\n",
            "\n",
            "    accuracy                           0.68       102\n",
            "   macro avg       0.83      0.57      0.51       102\n",
            "weighted avg       0.79      0.68      0.59       102\n",
            "\n"
          ]
        }
      ]
    },
    {
      "cell_type": "markdown",
      "source": [
        "The model performs poorly with very low f1 score and accuracy. "
      ],
      "metadata": {
        "id": "nV2S6BD10Gir"
      }
    },
    {
      "cell_type": "markdown",
      "source": [
        "### SVM: Optimize Feature Selection"
      ],
      "metadata": {
        "id": "-4cIFH6D0Zu8"
      }
    },
    {
      "cell_type": "markdown",
      "source": [
        "Previously, we've seen taking all features causes accuracy to drop. So, we experiment by taking particular features and observe the train/test accuracies."
      ],
      "metadata": {
        "id": "uxfIVBmw3jEB"
      }
    },
    {
      "cell_type": "code",
      "source": [
        "accuracy_list_train = [] #save the train accuracy for every set of features chosen\n",
        "accuracy_list_test = [] #save the test accuracy for every set of features chosen\n",
        "k=np.arange(1,14,1) #there are 14 features\n",
        "for each in k:\n",
        "    selector = SelectKBest(f_classif, k=each)\n",
        "    X_new = selector.fit_transform(X_train, y_train) #Choose the best k features \n",
        "    X_new_test = selector.fit_transform(X_test, y_test) \n",
        "    svm.fit(X_new,y_train) #Fit SVM model based on the chosen features \n",
        "    accuracy_list_train.append(svm.score(X_new,y_train))   #determine train accuracy for that set of k features and save the accuracies for later analysis\n",
        "    accuracy_list_test.append(svm.score(X_new_test,y_test))   #determine train accuracy for that set of k features and save the accuracies for later analysis  \n",
        "    \n",
        "plt.plot(k,accuracy_list_train,color=\"green\",label=\"train\", marker = '.')\n",
        "plt.plot(k,accuracy_list_test,color=\"red\",label=\"test\", marker = '.')\n",
        "plt.xlabel(\"k values\")\n",
        "plt.ylabel(\"train/test accuracy\")\n",
        "plt.legend()\n",
        "plt.show()"
      ],
      "metadata": {
        "colab": {
          "base_uri": "https://localhost:8080/",
          "height": 279
        },
        "id": "vbnXEP_pt_Ge",
        "outputId": "1d2f3d01-70fe-4fa5-ab3d-77ac4e11b608"
      },
      "execution_count": null,
      "outputs": [
        {
          "output_type": "display_data",
          "data": {
            "text/plain": [
              "<Figure size 432x288 with 1 Axes>"
            ],
            "image/png": "[encoded data removed]"
          },
          "metadata": {}
        }
      ]
    },
    {
      "cell_type": "code",
      "source": [
        "d = {'best features number': k, 'train_score': accuracy_list_train}\n",
        "feature_acc_train_df = pd.DataFrame(data=d)\n",
        "d = {'best features number': k, 'test_score': accuracy_list_test}\n",
        "feature_acc_test_df = pd.DataFrame(data=d)\n",
        "\n",
        "print('From the training data: ')\n",
        "print(feature_acc_train_df.loc[feature_acc_train_df[\"train_score\"].idxmax()])\n",
        "\n",
        "print('From the testing data: ')\n",
        "print(feature_acc_test_df.loc[feature_acc_test_df[\"test_score\"].idxmax()])"
      ],
      "metadata": {
        "colab": {
          "base_uri": "https://localhost:8080/"
        },
        "id": "iKHCI45v1lWP",
        "outputId": "c1c7e4e5-fdba-4d14-e7c4-e6f985214d85"
      },
      "execution_count": null,
      "outputs": [
        {
          "output_type": "stream",
          "name": "stdout",
          "text": [
            "From the training data: \n",
            "best features number    11.00000\n",
            "train_score              0.99505\n",
            "Name: 10, dtype: float64\n",
            "From the testing data: \n",
            "best features number    9.000000\n",
            "test_score              0.970588\n",
            "Name: 8, dtype: float64\n"
          ]
        }
      ]
    },
    {
      "cell_type": "markdown",
      "source": [
        "From observing the accuracy vs feature graph and maximum train/test accuracies , we can opine choosing above 10 features causes overfitting."
      ],
      "metadata": {
        "id": "TDsCb25b4-0f"
      }
    },
    {
      "cell_type": "code",
      "source": [
        "number_of_features = 11\n",
        "selector = SelectKBest(f_classif, k =number_of_features) #index 10 = 0.995050 highest train score\n",
        "X_new = selector.fit_transform(X_train, y_train)\n",
        "X_new_test=selector.fit_transform(X_test,y_test)\n",
        "names_train = X_train.columns.values[selector.get_support()]\n",
        "names_test = X_test.columns.values[selector.get_support()]\n",
        "print(f'Top {number_of_features} features' )\n",
        "print(\"x train features:\",names_train)\n",
        "print(\"x test features:\",names_test)\n",
        "print()\n",
        "\n",
        "number_of_features = 10\n",
        "selector = SelectKBest(f_classif, k =number_of_features) #index 10 = 0.995050 highest train score\n",
        "X_new = selector.fit_transform(X_train, y_train)\n",
        "X_new_test=selector.fit_transform(X_test,y_test)\n",
        "names_train = X_train.columns.values[selector.get_support()]\n",
        "names_test = X_test.columns.values[selector.get_support()]\n",
        "print(f'Top {number_of_features} features' )\n",
        "print(\"x train features:\",names_train)\n",
        "print(\"x test features:\",names_test)"
      ],
      "metadata": {
        "colab": {
          "base_uri": "https://localhost:8080/"
        },
        "id": "r5ihOiWL35kx",
        "outputId": "c28a627f-3cf8-48ef-dcf5-cbf2f93016cc"
      },
      "execution_count": null,
      "outputs": [
        {
          "output_type": "stream",
          "name": "stdout",
          "text": [
            "Top 11 features\n",
            "x train features: ['A10' 'A9' 'A8' 'A7' 'A6' 'A5' 'A4' 'A3' 'A2' 'A1'\n",
            " 'Family member with ASD history']\n",
            "x test features: ['A10' 'A9' 'A8' 'A7' 'A6' 'A5' 'A4' 'A3' 'A2' 'A1'\n",
            " 'Family member with ASD history']\n",
            "\n",
            "Top 10 features\n",
            "x train features: ['A10' 'A9' 'A8' 'A7' 'A6' 'A5' 'A4' 'A3' 'A2' 'A1']\n",
            "x test features: ['A10' 'A9' 'A8' 'A7' 'A6' 'A5' 'A4' 'A3' 'A2' 'A1']\n"
          ]
        }
      ]
    },
    {
      "cell_type": "markdown",
      "source": [
        "So, the top 10 features are A1 to A10. The 11th important feature is family ASD history. In my previous [EDA notebook](https://www.kaggle.com/code/mdruksharalam/saudi-asd-toddlers-eda), I mentioned how family history may have some relation with ASD. However, picking above the 10 most important features may cause unnecessary overfitting and so we'll limit our experiments with 10 features."
      ],
      "metadata": {
        "id": "RAFsIBda8Shq"
      }
    },
    {
      "cell_type": "code",
      "source": [
        "svm=SVC(random_state=0)\n",
        "svm.fit(X_new ,y_train)\n",
        "print(\"train accuracy:\",svm.score(X_new,y_train))\n",
        "print(\"test accuracy:\",svm.score(X_new_test,y_test))"
      ],
      "metadata": {
        "colab": {
          "base_uri": "https://localhost:8080/"
        },
        "id": "9LqlNFLZ9q90",
        "outputId": "0b718e29-4d50-451a-8483-f173ebf38dc4"
      },
      "execution_count": null,
      "outputs": [
        {
          "output_type": "stream",
          "name": "stdout",
          "text": [
            "train accuracy: 0.9851485148514851\n",
            "test accuracy: 0.9411764705882353\n"
          ]
        }
      ]
    },
    {
      "cell_type": "code",
      "source": [
        "svm_preds =  svm.predict(X_new_test)\n",
        "#print(svm_preds)\n",
        "svm_accuracy =  accuracy_score(y_test, svm_preds)\n",
        "svm_cf = confusion_matrix(y_test, svm_preds, labels=svm.classes_)\n",
        "svm_classification_report = classification_report(y_test, svm_preds)"
      ],
      "metadata": {
        "id": "t6oegvta9-o-"
      },
      "execution_count": null,
      "outputs": []
    },
    {
      "cell_type": "code",
      "source": [
        "disp = ConfusionMatrixDisplay(confusion_matrix=svm_cf, display_labels=svm.classes_)\n",
        "disp.plot()\n",
        "plt.show()"
      ],
      "metadata": {
        "colab": {
          "base_uri": "https://localhost:8080/",
          "height": 279
        },
        "id": "jtcdyQI0-DyT",
        "outputId": "6785279f-e31a-49df-e8ab-074d65899bb4"
      },
      "execution_count": null,
      "outputs": [
        {
          "output_type": "display_data",
          "data": {
            "text/plain": [
              "<Figure size 432x288 with 2 Axes>"
            ],
            "image/png": "[encoded data removed]"
          },
          "metadata": {}
        }
      ]
    },
    {
      "cell_type": "code",
      "source": [
        "print(svm_classification_report)"
      ],
      "metadata": {
        "colab": {
          "base_uri": "https://localhost:8080/"
        },
        "id": "hpOvx7N8-F_X",
        "outputId": "1afac33a-933a-43cf-dd46-3894193af3f7"
      },
      "execution_count": null,
      "outputs": [
        {
          "output_type": "stream",
          "name": "stdout",
          "text": [
            "              precision    recall  f1-score   support\n",
            "\n",
            "           0       1.00      0.84      0.91        38\n",
            "           1       0.91      1.00      0.96        64\n",
            "\n",
            "    accuracy                           0.94       102\n",
            "   macro avg       0.96      0.92      0.93       102\n",
            "weighted avg       0.95      0.94      0.94       102\n",
            "\n"
          ]
        }
      ]
    },
    {
      "cell_type": "markdown",
      "source": [
        "This is an improved model after the feature selected(A1-A10) as opposed to the previous model that took all the features and caused overfitting. However, Since the dataset is imbalanced (70% is ASD positive) there are some misclassification for some non ASD cases that brought down the f1 score."
      ],
      "metadata": {
        "id": "yJIGYeSf-TnP"
      }
    },
    {
      "cell_type": "markdown",
      "source": [
        "### Linear Regression"
      ],
      "metadata": {
        "id": "iHjyUHQVFUtf"
      }
    },
    {
      "cell_type": "code",
      "source": [
        "number_of_features = 10\n",
        "selector = SelectKBest(f_classif, k =number_of_features) #index 10 = 0.995050 highest train score\n",
        "X_new = selector.fit_transform(X_train, y_train)\n",
        "X_new_test=selector.fit_transform(X_test,y_test)\n",
        "names_train = X_train.columns.values[selector.get_support()]\n",
        "names_test = X_test.columns.values[selector.get_support()]\n",
        "print(f'Top {number_of_features} features' )\n",
        "print(\"x train features:\",names_train)\n",
        "print(\"x test features:\",names_test)"
      ],
      "metadata": {
        "colab": {
          "base_uri": "https://localhost:8080/"
        },
        "id": "rFgr7dq_FivT",
        "outputId": "2248fe92-ea69-41f0-d125-940473ee8251"
      },
      "execution_count": null,
      "outputs": [
        {
          "output_type": "stream",
          "name": "stdout",
          "text": [
            "Top 10 features\n",
            "x train features: ['A10' 'A9' 'A8' 'A7' 'A6' 'A5' 'A4' 'A3' 'A2' 'A1']\n",
            "x test features: ['A10' 'A9' 'A8' 'A7' 'A6' 'A5' 'A4' 'A3' 'A2' 'A1']\n"
          ]
        }
      ]
    },
    {
      "cell_type": "code",
      "source": [
        "lgrmodel= LogisticRegression()\n",
        "\n",
        "#fit the model\n",
        "lgrmodel.fit(X_new , y_train)\n",
        "print(\"train accuracy:\",lgrmodel.score(X_new,y_train)) #we use the 10 chosen features \n",
        "#print(\"test accuracy:\",lgrmodel.score(X_new_test,y_test))"
      ],
      "metadata": {
        "colab": {
          "base_uri": "https://localhost:8080/"
        },
        "id": "NzRs9SHoFNH3",
        "outputId": "6b34bd5b-97d5-40f7-a5f7-ac449c3c38b9"
      },
      "execution_count": null,
      "outputs": [
        {
          "output_type": "stream",
          "name": "stdout",
          "text": [
            "train accuracy: 0.9777227722772277\n"
          ]
        }
      ]
    },
    {
      "cell_type": "code",
      "source": [
        "lr_preds =  lgrmodel.predict(X_new_test)\n",
        "#print(svm_preds)\n",
        "lr_accuracy =  accuracy_score(y_test, lr_preds)\n",
        "lr_cm = confusion_matrix(y_test, lr_preds, labels=lgrmodel.classes_)\n",
        "lr_classification_report = classification_report(y_test, lr_preds)"
      ],
      "metadata": {
        "id": "H5bazCsxFmbQ"
      },
      "execution_count": null,
      "outputs": []
    },
    {
      "cell_type": "code",
      "source": [
        "disp = ConfusionMatrixDisplay(confusion_matrix=lr_cm, display_labels=lgrmodel.classes_)\n",
        "disp.plot()\n",
        "plt.show()"
      ],
      "metadata": {
        "colab": {
          "base_uri": "https://localhost:8080/",
          "height": 279
        },
        "id": "Yn58FaAeFv4h",
        "outputId": "e01d96ad-53bc-42d1-9032-ad11e6910fdb"
      },
      "execution_count": null,
      "outputs": [
        {
          "output_type": "display_data",
          "data": {
            "text/plain": [
              "<Figure size 432x288 with 2 Axes>"
            ],
            "image/png": "[encoded data removed]"
          },
          "metadata": {}
        }
      ]
    },
    {
      "cell_type": "code",
      "source": [
        "print(lr_classification_report)"
      ],
      "metadata": {
        "colab": {
          "base_uri": "https://localhost:8080/"
        },
        "id": "UTAK6UX4Fx7K",
        "outputId": "6356464e-3da2-405b-bcd7-b10623368a9d"
      },
      "execution_count": null,
      "outputs": [
        {
          "output_type": "stream",
          "name": "stdout",
          "text": [
            "              precision    recall  f1-score   support\n",
            "\n",
            "           0       0.97      0.87      0.92        38\n",
            "           1       0.93      0.98      0.95        64\n",
            "\n",
            "    accuracy                           0.94       102\n",
            "   macro avg       0.95      0.93      0.94       102\n",
            "weighted avg       0.94      0.94      0.94       102\n",
            "\n"
          ]
        }
      ]
    },
    {
      "cell_type": "markdown",
      "source": [
        "Judging by the classification reports from LR and SVM, the performance is quite similar given a total of 6 datapoints are misclassified in both the cases. However, LR misclassifies 1 positive ASD case"
      ],
      "metadata": {
        "id": "73fvV2WAGSnk"
      }
    },
    {
      "cell_type": "markdown",
      "source": [
        "### KNN"
      ],
      "metadata": {
        "id": "TbcvPFKaG54k"
      }
    },
    {
      "cell_type": "markdown",
      "source": [
        "At first, we do a rudimentary experiment with 10 neighbors with the previously chosen 10 features"
      ],
      "metadata": {
        "id": "zEtX4GqnHWLK"
      }
    },
    {
      "cell_type": "code",
      "source": [
        "knn = KNeighborsClassifier(n_neighbors =10 , weights = 'distance')\n",
        "knn.fit(X_new, y_train)\n",
        "\n",
        "#Printing accuracy scores of training and testing data\n",
        "print(\"train accuracy:\", knn.score(X_new,y_train))\n"
      ],
      "metadata": {
        "colab": {
          "base_uri": "https://localhost:8080/"
        },
        "id": "t37bNkW9GSbY",
        "outputId": "0aa73f63-d622-48b4-fa7b-80fe19879fe1"
      },
      "execution_count": null,
      "outputs": [
        {
          "output_type": "stream",
          "name": "stdout",
          "text": [
            "train accuracy: 0.9925742574257426\n"
          ]
        }
      ]
    },
    {
      "cell_type": "code",
      "source": [
        "knn_preds =  knn.predict(X_new_test)\n",
        "#print(svm_preds)\n",
        "knn_accuracy =  accuracy_score(y_test, knn_preds)\n",
        "knn_cm = confusion_matrix(y_test, knn_preds, labels=knn.classes_)\n",
        "knn_classification_report = classification_report(y_test, knn_preds)\n",
        "print(knn_classification_report)\n",
        "disp = ConfusionMatrixDisplay(confusion_matrix=knn_cm, display_labels=knn.classes_)\n",
        "disp.plot()\n",
        "plt.show()"
      ],
      "metadata": {
        "colab": {
          "base_uri": "https://localhost:8080/",
          "height": 435
        },
        "id": "iVYJ_ga6HIz_",
        "outputId": "e7b315d3-0bd5-4e27-9f86-90e7f5e2de7e"
      },
      "execution_count": null,
      "outputs": [
        {
          "output_type": "stream",
          "name": "stdout",
          "text": [
            "              precision    recall  f1-score   support\n",
            "\n",
            "           0       0.89      0.89      0.89        38\n",
            "           1       0.94      0.94      0.94        64\n",
            "\n",
            "    accuracy                           0.92       102\n",
            "   macro avg       0.92      0.92      0.92       102\n",
            "weighted avg       0.92      0.92      0.92       102\n",
            "\n"
          ]
        },
        {
          "output_type": "display_data",
          "data": {
            "text/plain": [
              "<Figure size 432x288 with 2 Axes>"
            ],
            "image/png": "[encoded data removed]"
          },
          "metadata": {}
        }
      ]
    },
    {
      "cell_type": "markdown",
      "source": [
        "Given the high difference between train(.99) and test(.92) accuracy, this model is quite overfitted."
      ],
      "metadata": {
        "id": "CtVik-T5Hp5v"
      }
    },
    {
      "cell_type": "markdown",
      "source": [
        "### KNN: Optimized"
      ],
      "metadata": {
        "id": "QQoz6HEeH2Kj"
      }
    },
    {
      "cell_type": "markdown",
      "source": [
        "Now we attempt to optimize the k hyperparameter to increase the accuracy."
      ],
      "metadata": {
        "id": "gjVI9c8SH4bc"
      }
    },
    {
      "cell_type": "code",
      "source": [
        "#Use an error plot to find the best K value\n",
        "error_rate = []\n",
        "for i in range(1,20):\n",
        " knn = KNeighborsClassifier(n_neighbors=i)\n",
        " knn.fit(X_new,y_train)\n",
        " pred_i = knn.predict(X_new_test)\n",
        " error_rate.append(np.mean(pred_i != y_test))\n",
        "\n",
        "plt.figure(figsize=(10,6))\n",
        "plt.plot(range(1,20),error_rate,color='red', linestyle='dashed', \n",
        "         marker='o',markerfacecolor='green', markersize=10)\n",
        "plt.title('Error Rate vs. K Value')\n",
        "plt.xlabel('K')\n",
        "plt.ylabel('Error Rate')\n",
        "print(\"Minimum error:-\",min(error_rate),\"at K =\",error_rate.index(min(error_rate)))"
      ],
      "metadata": {
        "colab": {
          "base_uri": "https://localhost:8080/",
          "height": 421
        },
        "id": "G6wZMBSPHOBF",
        "outputId": "5fa7a013-4b30-4c48-d1d0-a4e7bf705407"
      },
      "execution_count": null,
      "outputs": [
        {
          "output_type": "stream",
          "name": "stdout",
          "text": [
            "Minimum error:- 0.0196078431372549 at K = 3\n"
          ]
        },
        {
          "output_type": "display_data",
          "data": {
            "text/plain": [
              "<Figure size 720x432 with 1 Axes>"
            ],
            "image/png": "[encoded data removed]"
          },
          "metadata": {}
        }
      ]
    },
    {
      "cell_type": "markdown",
      "source": [
        "Since the min. error occurs for k =3, we choose k=3 for our KNN algo."
      ],
      "metadata": {
        "id": "STZPKWHwI382"
      }
    },
    {
      "cell_type": "code",
      "source": [
        "#retrain \n",
        "knn = KNeighborsClassifier(n_neighbors = 3 , weights = 'distance')\n",
        "knn.fit(X_new, y_train)\n",
        "\n",
        "#Printing accuracy scores of training and testing data\n",
        "print(\"train accuracy:\", knn.score(X_new,y_train))\n",
        "print(\"test accuracy:\", knn.score(X_new_test,y_test))"
      ],
      "metadata": {
        "colab": {
          "base_uri": "https://localhost:8080/"
        },
        "id": "hLVw-LlMI8pc",
        "outputId": "a2851834-3a67-406f-97f8-8402439bc915"
      },
      "execution_count": null,
      "outputs": [
        {
          "output_type": "stream",
          "name": "stdout",
          "text": [
            "train accuracy: 0.9925742574257426\n",
            "test accuracy: 0.9509803921568627\n"
          ]
        }
      ]
    },
    {
      "cell_type": "code",
      "source": [
        "knn_preds =  knn.predict(X_new_test)\n",
        "#print(svm_preds)\n",
        "knn_accuracy =  accuracy_score(y_test, knn_preds)\n",
        "knn_cm = confusion_matrix(y_test, knn_preds, labels=knn.classes_)\n",
        "knn_classification_report = classification_report(y_test, knn_preds)\n",
        "print(knn_classification_report)\n",
        "disp = ConfusionMatrixDisplay(confusion_matrix=knn_cm, display_labels=knn.classes_)\n",
        "disp.plot()\n",
        "plt.show()"
      ],
      "metadata": {
        "colab": {
          "base_uri": "https://localhost:8080/",
          "height": 435
        },
        "id": "gYFhx2LfJbac",
        "outputId": "1ac012ab-29f3-4b37-e355-597cbb568851"
      },
      "execution_count": null,
      "outputs": [
        {
          "output_type": "stream",
          "name": "stdout",
          "text": [
            "              precision    recall  f1-score   support\n",
            "\n",
            "           0       0.95      0.92      0.93        38\n",
            "           1       0.95      0.97      0.96        64\n",
            "\n",
            "    accuracy                           0.95       102\n",
            "   macro avg       0.95      0.94      0.95       102\n",
            "weighted avg       0.95      0.95      0.95       102\n",
            "\n"
          ]
        },
        {
          "output_type": "display_data",
          "data": {
            "text/plain": [
              "<Figure size 432x288 with 2 Axes>"
            ],
            "image/png": "[encoded data removed]"
          },
          "metadata": {}
        }
      ]
    },
    {
      "cell_type": "markdown",
      "source": [
        "After optimization of K hyperparameter and choosing k=3, the test accuracy has increased from 0.92 to 0.95"
      ],
      "metadata": {
        "id": "qY2SNSi9J43m"
      }
    }
  ]
}