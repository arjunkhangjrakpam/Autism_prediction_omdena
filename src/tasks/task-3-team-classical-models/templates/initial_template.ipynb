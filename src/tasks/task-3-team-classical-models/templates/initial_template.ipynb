{
 "cells": [
  {
   "cell_type": "markdown",
   "id": "cdc8c0b6-5c3c-4393-ba22-546639182c77",
   "metadata": {},
   "source": [
    "# **1 - IMPORTS**"
   ]
  },
  {
   "cell_type": "markdown",
   "id": "af7ba8bb-c97f-4b51-8cb5-c6de71c9a6d8",
   "metadata": {},
   "source": [
    "*Prepare notebooks for upcoming sections*"
   ]
  },
  {
   "cell_type": "markdown",
   "id": "3e891d36-08f1-40ce-bb79-d2d0dc12557e",
   "metadata": {},
   "source": [
    "## **Libraries**"
   ]
  },
  {
   "cell_type": "markdown",
   "id": "809cad3b-c3fb-4147-b5dc-f3cd88735d4c",
   "metadata": {},
   "source": [
    "*Load required libraries for the project*"
   ]
  },
  {
   "cell_type": "code",
   "execution_count": 1,
   "id": "d6578c55-3ccb-43b5-b874-b73e6fb8410a",
   "metadata": {},
   "outputs": [],
   "source": [
    "import os\n",
    "from   pathlib import Path\n",
    "\n",
    "# date\n",
    "from datetime import datetime\n",
    "\n",
    "# data manipulation\n",
    "import numpy      as     np\n",
    "import pandas     as     pd\n",
    "\n",
    "# plot and images\n",
    "import seaborn              as sns\n",
    "import matplotlib.pyplot    as plt\n",
    "\n",
    "# modelling\n",
    "from sklearn.preprocessing   import StandardScaler\n",
    "from sklearn.model_selection import train_test_split, StratifiedKFold, learning_curve\n",
    "from sklearn.dummy           import DummyClassifier\n",
    "from sklearn.linear_model    import LogisticRegression\n",
    "from sklearn.metrics         import f1_score, confusion_matrix, ConfusionMatrixDisplay"
   ]
  },
  {
   "cell_type": "markdown",
   "id": "b188f9ed-2942-4e91-9acc-6d2c668d44cf",
   "metadata": {},
   "source": [
    "## **Functions**"
   ]
  },
  {
   "cell_type": "markdown",
   "id": "cd53f9fe-60be-4604-a0af-d42a533e8b35",
   "metadata": {},
   "source": [
    "*Define functions that will be used on the project*"
   ]
  },
  {
   "cell_type": "code",
   "execution_count": 2,
   "id": "0f8b2efe-780d-4c96-925f-5410f338549b",
   "metadata": {},
   "outputs": [],
   "source": [
    "# TO-DO"
   ]
  },
  {
   "cell_type": "markdown",
   "id": "3b9fdafd-e7f0-410a-b9f6-85bf1c5ab688",
   "metadata": {},
   "source": [
    "## **Setup**"
   ]
  },
  {
   "cell_type": "markdown",
   "id": "9c756b15-17ad-498a-b843-004ce876d4a5",
   "metadata": {},
   "source": [
    "*Set some configurations for the whole notebook*"
   ]
  },
  {
   "cell_type": "code",
   "execution_count": 3,
   "id": "e81fca56-315b-487a-8c9e-1e5758a095c6",
   "metadata": {},
   "outputs": [],
   "source": [
    "# e.g.     \n",
    "# set cientific notation for pandas\n",
    "pd.set_option(\n",
    "    \"display.float_format\", \"{:,.3f}\".format \n",
    ")"
   ]
  },
  {
   "cell_type": "markdown",
   "id": "807d9dc9-6720-49e5-899e-73f883c290e0",
   "metadata": {},
   "source": [
    "## **Constants**"
   ]
  },
  {
   "cell_type": "markdown",
   "id": "bc4e1368-9560-49c3-a955-f7e6efa9aad9",
   "metadata": {},
   "source": [
    "*Define constants that will be used throughout the project*"
   ]
  },
  {
   "cell_type": "code",
   "execution_count": 4,
   "id": "d8b6e6b2-6724-4cd8-b043-e6ae04461a3d",
   "metadata": {},
   "outputs": [
    {
     "data": {
      "text/plain": [
       "['README.md', 'merged_saudi_github_thabtah_toddler_child.csv']"
      ]
     },
     "execution_count": 4,
     "metadata": {},
     "output_type": "execute_result"
    }
   ],
   "source": [
    "# define the path to root of tasks folder\n",
    "TASKS_PATH = Path.cwd().parent.parent.parent\n",
    "\n",
    "# check tasks path\n",
    "# print(f\"Tasks path: {TASKS_PATH}\")\n",
    "\n",
    "# define path to data folder inside task folder - regardless of os system\n",
    "DATA_PATH = os.path.join(TASKS_PATH, \"data\")\n",
    "\n",
    "# check data path\n",
    "# print(f\"Data path: {DATA_PATH}\")\n",
    "\n",
    "# check available datasets\n",
    "os.listdir(DATA_PATH)"
   ]
  },
  {
   "cell_type": "code",
   "execution_count": 5,
   "id": "9ad7cd30-a440-4fb4-98a5-aacd5d2654db",
   "metadata": {},
   "outputs": [],
   "source": [
    "# define seed and random states\n",
    "seed = 12345"
   ]
  },
  {
   "cell_type": "markdown",
   "id": "b984e706-7376-42fe-97a6-4f068f547f1d",
   "metadata": {},
   "source": [
    "# **2 - DATA EXTRACTION**"
   ]
  },
  {
   "cell_type": "markdown",
   "id": "edde139d-6149-484e-b7cf-579a7b468e00",
   "metadata": {},
   "source": [
    "*Extract data from data sources*"
   ]
  },
  {
   "cell_type": "markdown",
   "id": "009ee3a8-0861-4d32-a3d0-752594227611",
   "metadata": {},
   "source": [
    "## **Data dictionary**"
   ]
  },
  {
   "cell_type": "markdown",
   "id": "f6623340-078b-46f2-83c3-2abbb1e370b6",
   "metadata": {},
   "source": [
    "*Describe the meaning of every column of the dataset*"
   ]
  },
  {
   "cell_type": "markdown",
   "id": "4989a9af-a183-4874-8b4a-23e6ed07e8f5",
   "metadata": {},
   "source": [
    "**Variable in Dataset** - **Corresponding Q-chat-10-Toddler Features**\n",
    "\n",
    "- A1 - Does your child look at you when you call his/her name?\n",
    "- A2 - How easy is it for you to get eye contact with your child? \n",
    "- A3 - Does your child point to indicate that s/he wants something? (e.g. a toy that is out of reach) \n",
    "- A4 - Does your child point to share interest with you? (e.g. poin9ng at an interes9ng sight) \n",
    "- A5 - Does your child pretend? (e.g. care for dolls, talk on a toy phone) \n",
    "- A6 - Does your child follow where you’re looking? \n",
    "- A7 - If you or someone else in the family is visibly upset, does your child show signs of wan9ng to comfort them? (e.g. stroking hair, hugging them)\n",
    "- A8 - Would you describe your child’s first words as: \n",
    "- A9 - Does your child use simple gestures? (e.g. wave goodbye) \n",
    "- A10 - Does your child stare at nothing with no apparent purpose? "
   ]
  },
  {
   "cell_type": "markdown",
   "id": "cf1e1984-ea0e-4ecf-87d2-68756c055a9e",
   "metadata": {},
   "source": [
    "## **Data Loading**"
   ]
  },
  {
   "cell_type": "markdown",
   "id": "241024c3-8e04-4958-bc71-aeb5b164bf72",
   "metadata": {},
   "source": [
    "*Load data from required files*"
   ]
  },
  {
   "cell_type": "markdown",
   "id": "d3a98a4f-3ce1-450e-8d2c-b71cc0a07249",
   "metadata": {},
   "source": [
    "**For this first inspection**, we will use the following dataset: \n",
    "\n",
    "https://drive.google.com/file/d/15kJI5ucE0TlWqVxZ4SiQ5IVF5cLBYeYY/view\n",
    "\n",
    "**Note that the dataset may change on the upcoming weeks!**"
   ]
  },
  {
   "cell_type": "code",
   "execution_count": 6,
   "id": "7f9e9015-9810-47b0-8187-e9cff9885b22",
   "metadata": {},
   "outputs": [
    {
     "data": {
      "text/plain": [
       "'Dataframe shape: (2566, 12)'"
      ]
     },
     "metadata": {},
     "output_type": "display_data"
    },
    {
     "data": {
      "text/plain": [
       "A1        int64\n",
       "A2        int64\n",
       "A3        int64\n",
       "A4        int64\n",
       "A5        int64\n",
       "A6        int64\n",
       "A7        int64\n",
       "A8        int64\n",
       "A9        int64\n",
       "A10       int64\n",
       "Class     int64\n",
       "src      object\n",
       "dtype: object"
      ]
     },
     "metadata": {},
     "output_type": "display_data"
    },
    {
     "data": {
      "text/html": [
       "<div>\n",
       "<style scoped>\n",
       "    .dataframe tbody tr th:only-of-type {\n",
       "        vertical-align: middle;\n",
       "    }\n",
       "\n",
       "    .dataframe tbody tr th {\n",
       "        vertical-align: top;\n",
       "    }\n",
       "\n",
       "    .dataframe thead th {\n",
       "        text-align: right;\n",
       "    }\n",
       "</style>\n",
       "<table border=\"1\" class=\"dataframe\">\n",
       "  <thead>\n",
       "    <tr style=\"text-align: right;\">\n",
       "      <th></th>\n",
       "      <th>A1</th>\n",
       "      <th>A2</th>\n",
       "      <th>A3</th>\n",
       "      <th>A4</th>\n",
       "      <th>A5</th>\n",
       "      <th>A6</th>\n",
       "      <th>A7</th>\n",
       "      <th>A8</th>\n",
       "      <th>A9</th>\n",
       "      <th>A10</th>\n",
       "      <th>Class</th>\n",
       "      <th>src</th>\n",
       "    </tr>\n",
       "  </thead>\n",
       "  <tbody>\n",
       "    <tr>\n",
       "      <th>319</th>\n",
       "      <td>0</td>\n",
       "      <td>0</td>\n",
       "      <td>0</td>\n",
       "      <td>1</td>\n",
       "      <td>1</td>\n",
       "      <td>0</td>\n",
       "      <td>1</td>\n",
       "      <td>1</td>\n",
       "      <td>0</td>\n",
       "      <td>1</td>\n",
       "      <td>1</td>\n",
       "      <td>Saudi</td>\n",
       "    </tr>\n",
       "    <tr>\n",
       "      <th>1574</th>\n",
       "      <td>0</td>\n",
       "      <td>1</td>\n",
       "      <td>0</td>\n",
       "      <td>0</td>\n",
       "      <td>0</td>\n",
       "      <td>0</td>\n",
       "      <td>1</td>\n",
       "      <td>1</td>\n",
       "      <td>0</td>\n",
       "      <td>1</td>\n",
       "      <td>1</td>\n",
       "      <td>thabtah_toddler</td>\n",
       "    </tr>\n",
       "    <tr>\n",
       "      <th>1789</th>\n",
       "      <td>1</td>\n",
       "      <td>1</td>\n",
       "      <td>1</td>\n",
       "      <td>1</td>\n",
       "      <td>1</td>\n",
       "      <td>1</td>\n",
       "      <td>1</td>\n",
       "      <td>0</td>\n",
       "      <td>0</td>\n",
       "      <td>1</td>\n",
       "      <td>1</td>\n",
       "      <td>thabtah_toddler</td>\n",
       "    </tr>\n",
       "  </tbody>\n",
       "</table>\n",
       "</div>"
      ],
      "text/plain": [
       "      A1  A2  A3  A4  A5  A6  A7  A8  A9  A10  Class              src\n",
       "319    0   0   0   1   1   0   1   1   0    1      1            Saudi\n",
       "1574   0   1   0   0   0   0   1   1   0    1      1  thabtah_toddler\n",
       "1789   1   1   1   1   1   1   1   0   0    1      1  thabtah_toddler"
      ]
     },
     "metadata": {},
     "output_type": "display_data"
    }
   ],
   "source": [
    "# load data from csv file\n",
    "df_extraction = pd.read_csv(filepath_or_buffer = os.path.join(DATA_PATH, \"merged_saudi_github_thabtah_toddler_child.csv\"), \n",
    "                                 low_memory = False) # don't load data in chunks\n",
    "\n",
    "# inspect shape and column data types\n",
    "display(\n",
    "    f'Dataframe shape: {df_extraction.shape}', \n",
    "    df_extraction.dtypes, \n",
    "    df_extraction.sample(3)\n",
    ")"
   ]
  },
  {
   "cell_type": "markdown",
   "id": "11a6ad33-826c-4fab-bf1a-c78507176f69",
   "metadata": {},
   "source": [
    "# **3 - DATA DESCRIPTION**"
   ]
  },
  {
   "cell_type": "markdown",
   "id": "265afdba-b0bc-475a-8c60-c6a3a4118169",
   "metadata": {},
   "source": [
    "*Perform a general overview about the data*"
   ]
  },
  {
   "cell_type": "markdown",
   "id": "31c82291-5ce8-47fe-bce7-4b422750f8df",
   "metadata": {},
   "source": [
    "## **Restore Point**"
   ]
  },
  {
   "cell_type": "markdown",
   "id": "6003f2c1-705b-4be0-b623-d6cad51de9b9",
   "metadata": {},
   "source": [
    "*Create a checkpoint of the last dataframe from previous section*"
   ]
  },
  {
   "cell_type": "code",
   "execution_count": 7,
   "id": "892a84ee-b475-4942-81ad-fdd2c0bc4c83",
   "metadata": {},
   "outputs": [
    {
     "data": {
      "text/html": [
       "<div>\n",
       "<style scoped>\n",
       "    .dataframe tbody tr th:only-of-type {\n",
       "        vertical-align: middle;\n",
       "    }\n",
       "\n",
       "    .dataframe tbody tr th {\n",
       "        vertical-align: top;\n",
       "    }\n",
       "\n",
       "    .dataframe thead th {\n",
       "        text-align: right;\n",
       "    }\n",
       "</style>\n",
       "<table border=\"1\" class=\"dataframe\">\n",
       "  <thead>\n",
       "    <tr style=\"text-align: right;\">\n",
       "      <th></th>\n",
       "      <th>A1</th>\n",
       "      <th>A2</th>\n",
       "      <th>A3</th>\n",
       "      <th>A4</th>\n",
       "      <th>A5</th>\n",
       "      <th>A6</th>\n",
       "      <th>A7</th>\n",
       "      <th>A8</th>\n",
       "      <th>A9</th>\n",
       "      <th>A10</th>\n",
       "      <th>Class</th>\n",
       "      <th>src</th>\n",
       "    </tr>\n",
       "  </thead>\n",
       "  <tbody>\n",
       "    <tr>\n",
       "      <th>1607</th>\n",
       "      <td>1</td>\n",
       "      <td>1</td>\n",
       "      <td>1</td>\n",
       "      <td>1</td>\n",
       "      <td>0</td>\n",
       "      <td>1</td>\n",
       "      <td>1</td>\n",
       "      <td>0</td>\n",
       "      <td>1</td>\n",
       "      <td>1</td>\n",
       "      <td>1</td>\n",
       "      <td>thabtah_toddler</td>\n",
       "    </tr>\n",
       "    <tr>\n",
       "      <th>2322</th>\n",
       "      <td>1</td>\n",
       "      <td>0</td>\n",
       "      <td>0</td>\n",
       "      <td>1</td>\n",
       "      <td>1</td>\n",
       "      <td>0</td>\n",
       "      <td>1</td>\n",
       "      <td>0</td>\n",
       "      <td>1</td>\n",
       "      <td>0</td>\n",
       "      <td>1</td>\n",
       "      <td>github</td>\n",
       "    </tr>\n",
       "    <tr>\n",
       "      <th>1860</th>\n",
       "      <td>0</td>\n",
       "      <td>0</td>\n",
       "      <td>0</td>\n",
       "      <td>0</td>\n",
       "      <td>0</td>\n",
       "      <td>0</td>\n",
       "      <td>1</td>\n",
       "      <td>0</td>\n",
       "      <td>0</td>\n",
       "      <td>1</td>\n",
       "      <td>0</td>\n",
       "      <td>github</td>\n",
       "    </tr>\n",
       "  </tbody>\n",
       "</table>\n",
       "</div>"
      ],
      "text/plain": [
       "      A1  A2  A3  A4  A5  A6  A7  A8  A9  A10  Class              src\n",
       "1607   1   1   1   1   0   1   1   0   1    1      1  thabtah_toddler\n",
       "2322   1   0   0   1   1   0   1   0   1    0      1           github\n",
       "1860   0   0   0   0   0   0   1   0   0    1      0           github"
      ]
     },
     "execution_count": 7,
     "metadata": {},
     "output_type": "execute_result"
    }
   ],
   "source": [
    "# create a restore point for the previous section dataframe\n",
    "df_description = df_extraction.copy()\n",
    "\n",
    "# check dataframe\n",
    "df_description.sample(3)"
   ]
  },
  {
   "cell_type": "markdown",
   "id": "c7b73eaf-1647-43bd-8029-139cbd8e1b94",
   "metadata": {},
   "source": [
    "## **Column Names**"
   ]
  },
  {
   "cell_type": "markdown",
   "id": "76b7d6f7-ad5b-4fb7-9bf7-c9f651144d4a",
   "metadata": {},
   "source": [
    "*Search for misleading or error-prone column names*"
   ]
  },
  {
   "cell_type": "code",
   "execution_count": 8,
   "id": "8951f194-ced8-40b5-979a-24a1aec9bc78",
   "metadata": {},
   "outputs": [
    {
     "data": {
      "text/plain": [
       "Index(['A1', 'A2', 'A3', 'A4', 'A5', 'A6', 'A7', 'A8', 'A9', 'A10', 'Class',\n",
       "       'src'],\n",
       "      dtype='object')"
      ]
     },
     "execution_count": 8,
     "metadata": {},
     "output_type": "execute_result"
    }
   ],
   "source": [
    "# check column names\n",
    "df_description.columns"
   ]
  },
  {
   "cell_type": "markdown",
   "id": "82df00c8-b83a-450e-944d-baa18b27e0fc",
   "metadata": {},
   "source": [
    "## **Data Types**"
   ]
  },
  {
   "cell_type": "markdown",
   "id": "eeff2471-88d2-4636-9d52-b59ea55116ca",
   "metadata": {},
   "source": [
    "*Check if data types on dataframe makes sense according to database information*"
   ]
  },
  {
   "cell_type": "code",
   "execution_count": 9,
   "id": "bb804129-bef8-4b98-9e02-4416e95aee68",
   "metadata": {},
   "outputs": [
    {
     "data": {
      "text/plain": [
       "A1        int64\n",
       "A2        int64\n",
       "A3        int64\n",
       "A4        int64\n",
       "A5        int64\n",
       "A6        int64\n",
       "A7        int64\n",
       "A8        int64\n",
       "A9        int64\n",
       "A10       int64\n",
       "Class     int64\n",
       "src      object\n",
       "dtype: object"
      ]
     },
     "execution_count": 9,
     "metadata": {},
     "output_type": "execute_result"
    }
   ],
   "source": [
    "# check data types\n",
    "df_description.dtypes"
   ]
  },
  {
   "cell_type": "markdown",
   "id": "40c474b2-9df6-456c-95ff-93ced9481a76",
   "metadata": {},
   "source": [
    "## **Check Duplicated Rows**"
   ]
  },
  {
   "cell_type": "markdown",
   "id": "e0da0878-91db-4e34-b8f9-a5aafb4959a3",
   "metadata": {},
   "source": [
    "*Inspect duplicated rows (based on dataframe granularity) and handle them properly*"
   ]
  },
  {
   "cell_type": "code",
   "execution_count": 10,
   "id": "4c8f21f9-1fc6-49ca-bf64-cf54412cc732",
   "metadata": {},
   "outputs": [],
   "source": [
    "# TO-DO"
   ]
  },
  {
   "cell_type": "markdown",
   "id": "b2cf33dc-1446-4285-ba7e-1ddf2ceb9adb",
   "metadata": {},
   "source": [
    "## **Check Missing Values**"
   ]
  },
  {
   "cell_type": "markdown",
   "id": "623c4ef2-ee8c-4d0c-aada-bb1ee973c7e0",
   "metadata": {},
   "source": [
    "*Inspect number and percentage of missing value per column to decide what to do with them*"
   ]
  },
  {
   "cell_type": "code",
   "execution_count": 11,
   "id": "aec810a2-633c-43a4-bdc8-b036692f1f08",
   "metadata": {},
   "outputs": [
    {
     "data": {
      "text/plain": [
       "A1       0\n",
       "A2       0\n",
       "A3       0\n",
       "A4       0\n",
       "A5       0\n",
       "A6       0\n",
       "A7       0\n",
       "A8       0\n",
       "A9       0\n",
       "A10      0\n",
       "Class    0\n",
       "src      0\n",
       "dtype: int64"
      ]
     },
     "execution_count": 11,
     "metadata": {},
     "output_type": "execute_result"
    }
   ],
   "source": [
    "# check NAs\n",
    "df_description.isna().sum()"
   ]
  },
  {
   "cell_type": "markdown",
   "id": "af603ed1-d856-4203-b7cb-de98af5a662d",
   "metadata": {},
   "source": [
    "## **Handle Missing Values**"
   ]
  },
  {
   "cell_type": "markdown",
   "id": "ca853543-99b5-45ba-a4b0-3af8b543d5aa",
   "metadata": {},
   "source": [
    "*Handle missing value for columns*"
   ]
  },
  {
   "cell_type": "code",
   "execution_count": 12,
   "id": "d48c56fc-d84b-4ffd-b695-f2fdf233221b",
   "metadata": {},
   "outputs": [],
   "source": [
    "# TO-DO"
   ]
  },
  {
   "cell_type": "markdown",
   "id": "e61914a1-a4f6-4a06-b585-c55fe879c8f8",
   "metadata": {},
   "source": [
    "# **4 - FEATURE ENGINEERING**"
   ]
  },
  {
   "cell_type": "markdown",
   "id": "d0fe0fd9-1b0f-42c8-96b9-54ab2f3c68f4",
   "metadata": {},
   "source": [
    "*Create feature relevant for the given problem*"
   ]
  },
  {
   "cell_type": "markdown",
   "id": "a2b77ee0-c217-4d6f-971c-bd962df74a93",
   "metadata": {},
   "source": [
    "## **Restore Point**"
   ]
  },
  {
   "cell_type": "markdown",
   "id": "b023802f-2c08-4e91-b36a-f3b98219c3bc",
   "metadata": {},
   "source": [
    "*Create a checkpoint of the last dataframe from previous section*"
   ]
  },
  {
   "cell_type": "code",
   "execution_count": 13,
   "id": "0cc624c9-4d7e-4ac6-b272-06fbab9f51c2",
   "metadata": {},
   "outputs": [
    {
     "data": {
      "text/html": [
       "<div>\n",
       "<style scoped>\n",
       "    .dataframe tbody tr th:only-of-type {\n",
       "        vertical-align: middle;\n",
       "    }\n",
       "\n",
       "    .dataframe tbody tr th {\n",
       "        vertical-align: top;\n",
       "    }\n",
       "\n",
       "    .dataframe thead th {\n",
       "        text-align: right;\n",
       "    }\n",
       "</style>\n",
       "<table border=\"1\" class=\"dataframe\">\n",
       "  <thead>\n",
       "    <tr style=\"text-align: right;\">\n",
       "      <th></th>\n",
       "      <th>A1</th>\n",
       "      <th>A2</th>\n",
       "      <th>A3</th>\n",
       "      <th>A4</th>\n",
       "      <th>A5</th>\n",
       "      <th>A6</th>\n",
       "      <th>A7</th>\n",
       "      <th>A8</th>\n",
       "      <th>A9</th>\n",
       "      <th>A10</th>\n",
       "      <th>Class</th>\n",
       "      <th>src</th>\n",
       "    </tr>\n",
       "  </thead>\n",
       "  <tbody>\n",
       "    <tr>\n",
       "      <th>75</th>\n",
       "      <td>0</td>\n",
       "      <td>0</td>\n",
       "      <td>0</td>\n",
       "      <td>0</td>\n",
       "      <td>0</td>\n",
       "      <td>0</td>\n",
       "      <td>0</td>\n",
       "      <td>0</td>\n",
       "      <td>0</td>\n",
       "      <td>1</td>\n",
       "      <td>0</td>\n",
       "      <td>Saudi</td>\n",
       "    </tr>\n",
       "    <tr>\n",
       "      <th>230</th>\n",
       "      <td>0</td>\n",
       "      <td>0</td>\n",
       "      <td>0</td>\n",
       "      <td>0</td>\n",
       "      <td>0</td>\n",
       "      <td>0</td>\n",
       "      <td>0</td>\n",
       "      <td>0</td>\n",
       "      <td>0</td>\n",
       "      <td>1</td>\n",
       "      <td>0</td>\n",
       "      <td>Saudi</td>\n",
       "    </tr>\n",
       "    <tr>\n",
       "      <th>380</th>\n",
       "      <td>1</td>\n",
       "      <td>1</td>\n",
       "      <td>0</td>\n",
       "      <td>1</td>\n",
       "      <td>1</td>\n",
       "      <td>1</td>\n",
       "      <td>0</td>\n",
       "      <td>1</td>\n",
       "      <td>1</td>\n",
       "      <td>0</td>\n",
       "      <td>1</td>\n",
       "      <td>Saudi</td>\n",
       "    </tr>\n",
       "  </tbody>\n",
       "</table>\n",
       "</div>"
      ],
      "text/plain": [
       "     A1  A2  A3  A4  A5  A6  A7  A8  A9  A10  Class    src\n",
       "75    0   0   0   0   0   0   0   0   0    1      0  Saudi\n",
       "230   0   0   0   0   0   0   0   0   0    1      0  Saudi\n",
       "380   1   1   0   1   1   1   0   1   1    0      1  Saudi"
      ]
     },
     "execution_count": 13,
     "metadata": {},
     "output_type": "execute_result"
    }
   ],
   "source": [
    "# create a restore point for the previous section dataframe\n",
    "df_f_eng = df_description.copy()\n",
    "\n",
    "# check dataframe\n",
    "df_f_eng.sample(3)"
   ]
  },
  {
   "cell_type": "markdown",
   "id": "11793090-dc5c-4992-ae69-f6e9b97b6af7",
   "metadata": {},
   "source": [
    "## **Feature Creation**"
   ]
  },
  {
   "cell_type": "markdown",
   "id": "ad73620a-74e0-4aa7-863e-7cdf0151b868",
   "metadata": {},
   "source": [
    "*Create new features (columns) that can be meaningful for EDA and, especially, machine learning modelling.*"
   ]
  },
  {
   "cell_type": "code",
   "execution_count": 14,
   "id": "6203bca9-c78d-4341-a2ca-83982f2a05e0",
   "metadata": {},
   "outputs": [],
   "source": [
    "# TO-DO"
   ]
  },
  {
   "cell_type": "markdown",
   "id": "7f175924-8104-4183-b3c3-88ce24a96a95",
   "metadata": {},
   "source": [
    "# **5 - DATA FILTERING**"
   ]
  },
  {
   "cell_type": "markdown",
   "id": "f86010b2-5779-4235-8014-f62e8c257628",
   "metadata": {},
   "source": [
    "*Inspect and remove misleading rows and/or columns*"
   ]
  },
  {
   "cell_type": "markdown",
   "id": "3db87ecb-54d3-4a7c-92a3-bd7608812e56",
   "metadata": {},
   "source": [
    "## **Restore Point**"
   ]
  },
  {
   "cell_type": "markdown",
   "id": "ea28e2b0-7968-4506-9a6e-f42a395cc213",
   "metadata": {},
   "source": [
    "*Create a checkpoint of the last dataframe from previous section*"
   ]
  },
  {
   "cell_type": "code",
   "execution_count": 15,
   "id": "c2c97507-6e12-40d3-ac53-c15ac611bfc4",
   "metadata": {},
   "outputs": [
    {
     "data": {
      "text/html": [
       "<div>\n",
       "<style scoped>\n",
       "    .dataframe tbody tr th:only-of-type {\n",
       "        vertical-align: middle;\n",
       "    }\n",
       "\n",
       "    .dataframe tbody tr th {\n",
       "        vertical-align: top;\n",
       "    }\n",
       "\n",
       "    .dataframe thead th {\n",
       "        text-align: right;\n",
       "    }\n",
       "</style>\n",
       "<table border=\"1\" class=\"dataframe\">\n",
       "  <thead>\n",
       "    <tr style=\"text-align: right;\">\n",
       "      <th></th>\n",
       "      <th>A1</th>\n",
       "      <th>A2</th>\n",
       "      <th>A3</th>\n",
       "      <th>A4</th>\n",
       "      <th>A5</th>\n",
       "      <th>A6</th>\n",
       "      <th>A7</th>\n",
       "      <th>A8</th>\n",
       "      <th>A9</th>\n",
       "      <th>A10</th>\n",
       "      <th>Class</th>\n",
       "      <th>src</th>\n",
       "    </tr>\n",
       "  </thead>\n",
       "  <tbody>\n",
       "    <tr>\n",
       "      <th>1279</th>\n",
       "      <td>1</td>\n",
       "      <td>1</td>\n",
       "      <td>1</td>\n",
       "      <td>1</td>\n",
       "      <td>1</td>\n",
       "      <td>1</td>\n",
       "      <td>1</td>\n",
       "      <td>1</td>\n",
       "      <td>1</td>\n",
       "      <td>1</td>\n",
       "      <td>1</td>\n",
       "      <td>thabtah_toddler</td>\n",
       "    </tr>\n",
       "    <tr>\n",
       "      <th>1471</th>\n",
       "      <td>1</td>\n",
       "      <td>0</td>\n",
       "      <td>1</td>\n",
       "      <td>1</td>\n",
       "      <td>1</td>\n",
       "      <td>1</td>\n",
       "      <td>1</td>\n",
       "      <td>1</td>\n",
       "      <td>1</td>\n",
       "      <td>1</td>\n",
       "      <td>1</td>\n",
       "      <td>thabtah_toddler</td>\n",
       "    </tr>\n",
       "    <tr>\n",
       "      <th>1458</th>\n",
       "      <td>1</td>\n",
       "      <td>1</td>\n",
       "      <td>1</td>\n",
       "      <td>1</td>\n",
       "      <td>1</td>\n",
       "      <td>1</td>\n",
       "      <td>1</td>\n",
       "      <td>0</td>\n",
       "      <td>1</td>\n",
       "      <td>1</td>\n",
       "      <td>1</td>\n",
       "      <td>thabtah_toddler</td>\n",
       "    </tr>\n",
       "  </tbody>\n",
       "</table>\n",
       "</div>"
      ],
      "text/plain": [
       "      A1  A2  A3  A4  A5  A6  A7  A8  A9  A10  Class              src\n",
       "1279   1   1   1   1   1   1   1   1   1    1      1  thabtah_toddler\n",
       "1471   1   0   1   1   1   1   1   1   1    1      1  thabtah_toddler\n",
       "1458   1   1   1   1   1   1   1   0   1    1      1  thabtah_toddler"
      ]
     },
     "execution_count": 15,
     "metadata": {},
     "output_type": "execute_result"
    }
   ],
   "source": [
    "# create a restore point for the previous section dataframe\n",
    "df_filter = df_f_eng.copy()\n",
    "\n",
    "# check dataframe\n",
    "df_filter.sample(3)"
   ]
  },
  {
   "cell_type": "markdown",
   "id": "de764f6f-e4c0-42af-a7dc-1caeb8e634d1",
   "metadata": {},
   "source": [
    "## **Rows Filtering**"
   ]
  },
  {
   "cell_type": "markdown",
   "id": "7090d373-2060-47aa-8cd4-76f360cddaa2",
   "metadata": {},
   "source": [
    "*Remove rows with meaningless (or unimportant) data*"
   ]
  },
  {
   "cell_type": "code",
   "execution_count": 16,
   "id": "113bebaf-72d0-43b4-8542-9b8ba80ae064",
   "metadata": {},
   "outputs": [],
   "source": [
    "# TO-DO"
   ]
  },
  {
   "cell_type": "code",
   "execution_count": 17,
   "id": "66e887d9-017b-4816-8fe8-e7657b8fd64b",
   "metadata": {},
   "outputs": [],
   "source": [
    "# e.g. \n",
    "# remove (???) rows where age is -1"
   ]
  },
  {
   "cell_type": "markdown",
   "id": "80c3ea85-8d74-4995-bc67-d7e1fa81ccb9",
   "metadata": {},
   "source": [
    "## **Columns Filtering**"
   ]
  },
  {
   "cell_type": "markdown",
   "id": "49ffe601-d210-407d-86cf-5352097747b4",
   "metadata": {},
   "source": [
    "*Remove auxiliary columns or columns that won't be available in the prediction moment*"
   ]
  },
  {
   "cell_type": "code",
   "execution_count": 18,
   "id": "9b2ff088-7c26-4c77-b2b2-31ecd88fbb2f",
   "metadata": {},
   "outputs": [],
   "source": [
    "# TO-DO"
   ]
  },
  {
   "cell_type": "code",
   "execution_count": 19,
   "id": "25514989-a52b-4865-828f-67eefd6b4dcb",
   "metadata": {},
   "outputs": [],
   "source": [
    "# e.g.\n",
    "# remove \"ethnicity\" and \"sex\" columns???"
   ]
  },
  {
   "cell_type": "markdown",
   "id": "80dc1dd0-4a71-4e3c-b028-55745369f2cd",
   "metadata": {},
   "source": [
    "# **6 - Exploratory Data Analysis**"
   ]
  },
  {
   "cell_type": "markdown",
   "id": "b23f333e-6aae-4646-a1c9-edead14ec78e",
   "metadata": {},
   "source": [
    "*Explore data for insights*"
   ]
  },
  {
   "cell_type": "markdown",
   "id": "c1771d58-8a2d-4f96-b02b-ba3e24da3c92",
   "metadata": {},
   "source": [
    "## **Restore Point**"
   ]
  },
  {
   "cell_type": "markdown",
   "id": "48b73ff0-6c16-4a82-9d27-b1c638970f45",
   "metadata": {},
   "source": [
    "*Create a checkpoint of the last dataframe from previous section*"
   ]
  },
  {
   "cell_type": "code",
   "execution_count": 20,
   "id": "fd8459ce-2965-4249-be05-284ea01f1962",
   "metadata": {},
   "outputs": [
    {
     "data": {
      "text/html": [
       "<div>\n",
       "<style scoped>\n",
       "    .dataframe tbody tr th:only-of-type {\n",
       "        vertical-align: middle;\n",
       "    }\n",
       "\n",
       "    .dataframe tbody tr th {\n",
       "        vertical-align: top;\n",
       "    }\n",
       "\n",
       "    .dataframe thead th {\n",
       "        text-align: right;\n",
       "    }\n",
       "</style>\n",
       "<table border=\"1\" class=\"dataframe\">\n",
       "  <thead>\n",
       "    <tr style=\"text-align: right;\">\n",
       "      <th></th>\n",
       "      <th>A1</th>\n",
       "      <th>A2</th>\n",
       "      <th>A3</th>\n",
       "      <th>A4</th>\n",
       "      <th>A5</th>\n",
       "      <th>A6</th>\n",
       "      <th>A7</th>\n",
       "      <th>A8</th>\n",
       "      <th>A9</th>\n",
       "      <th>A10</th>\n",
       "      <th>Class</th>\n",
       "      <th>src</th>\n",
       "    </tr>\n",
       "  </thead>\n",
       "  <tbody>\n",
       "    <tr>\n",
       "      <th>2404</th>\n",
       "      <td>0</td>\n",
       "      <td>0</td>\n",
       "      <td>1</td>\n",
       "      <td>0</td>\n",
       "      <td>0</td>\n",
       "      <td>1</td>\n",
       "      <td>1</td>\n",
       "      <td>1</td>\n",
       "      <td>1</td>\n",
       "      <td>1</td>\n",
       "      <td>1</td>\n",
       "      <td>github</td>\n",
       "    </tr>\n",
       "    <tr>\n",
       "      <th>2417</th>\n",
       "      <td>1</td>\n",
       "      <td>0</td>\n",
       "      <td>0</td>\n",
       "      <td>0</td>\n",
       "      <td>1</td>\n",
       "      <td>0</td>\n",
       "      <td>1</td>\n",
       "      <td>1</td>\n",
       "      <td>1</td>\n",
       "      <td>0</td>\n",
       "      <td>1</td>\n",
       "      <td>github</td>\n",
       "    </tr>\n",
       "    <tr>\n",
       "      <th>541</th>\n",
       "      <td>0</td>\n",
       "      <td>1</td>\n",
       "      <td>0</td>\n",
       "      <td>0</td>\n",
       "      <td>0</td>\n",
       "      <td>0</td>\n",
       "      <td>0</td>\n",
       "      <td>0</td>\n",
       "      <td>0</td>\n",
       "      <td>0</td>\n",
       "      <td>0</td>\n",
       "      <td>UCI_child</td>\n",
       "    </tr>\n",
       "  </tbody>\n",
       "</table>\n",
       "</div>"
      ],
      "text/plain": [
       "      A1  A2  A3  A4  A5  A6  A7  A8  A9  A10  Class        src\n",
       "2404   0   0   1   0   0   1   1   1   1    1      1     github\n",
       "2417   1   0   0   0   1   0   1   1   1    0      1     github\n",
       "541    0   1   0   0   0   0   0   0   0    0      0  UCI_child"
      ]
     },
     "execution_count": 20,
     "metadata": {},
     "output_type": "execute_result"
    }
   ],
   "source": [
    "# create a restore point for the previous section dataframe\n",
    "df_eda = df_filter.copy()\n",
    "\n",
    "# check dataframe\n",
    "df_eda.sample(3)"
   ]
  },
  {
   "cell_type": "markdown",
   "id": "2b05e0e4-2341-44f2-ab7e-c7e677554474",
   "metadata": {},
   "source": [
    "## **Univariate Analysis**"
   ]
  },
  {
   "cell_type": "markdown",
   "id": "71e8eca1-6694-4940-b070-c2c67566981c",
   "metadata": {},
   "source": [
    "*Check the distribution of variables taking into account their data types*"
   ]
  },
  {
   "cell_type": "markdown",
   "id": "55a67b62-5296-4deb-ad14-68f4c6ab9ed6",
   "metadata": {},
   "source": [
    "### Numeric Variables"
   ]
  },
  {
   "cell_type": "code",
   "execution_count": 21,
   "id": "4be8c28e-94fb-42aa-992b-3c5e65fbfdd8",
   "metadata": {},
   "outputs": [],
   "source": [
    "# TO-DO"
   ]
  },
  {
   "cell_type": "markdown",
   "id": "c44be4c7-c566-4bbc-9c5b-9fb010ef56fe",
   "metadata": {},
   "source": [
    "### Categorical Variables"
   ]
  },
  {
   "cell_type": "code",
   "execution_count": 22,
   "id": "7f346d0c-609c-49be-84b2-940e85ac8ccb",
   "metadata": {},
   "outputs": [],
   "source": [
    "# TO-DO"
   ]
  },
  {
   "cell_type": "markdown",
   "id": "6159ba9a-6c2b-4f91-ad83-fca8cd5c78cd",
   "metadata": {},
   "source": [
    "### Time Variables"
   ]
  },
  {
   "cell_type": "code",
   "execution_count": 23,
   "id": "d697e251-9b62-4a87-82be-10ef02cca916",
   "metadata": {},
   "outputs": [],
   "source": [
    "# TO-DO"
   ]
  },
  {
   "cell_type": "markdown",
   "id": "10a9060a-d1f2-4c3a-b56a-f1d4d34f1c5c",
   "metadata": {},
   "source": [
    "## **Bivariate Analysis**"
   ]
  },
  {
   "cell_type": "markdown",
   "id": "c6abb6b5-fb46-4ef7-9cf7-5b7162cb637f",
   "metadata": {},
   "source": [
    "*Check the correlation among variables*"
   ]
  },
  {
   "cell_type": "markdown",
   "id": "61c0fdd5-b2be-43c4-a0a5-137d0451da43",
   "metadata": {},
   "source": [
    "### Numeric vs Numeric Variables"
   ]
  },
  {
   "cell_type": "code",
   "execution_count": 24,
   "id": "71e55f35-6926-43a4-9874-69dacb7397f8",
   "metadata": {},
   "outputs": [],
   "source": [
    "# TO-DO"
   ]
  },
  {
   "cell_type": "markdown",
   "id": "1ec003fc-82aa-4cc8-a3d3-dbf0a4f0d377",
   "metadata": {},
   "source": [
    "### Categorical vs Categorical Variables"
   ]
  },
  {
   "cell_type": "code",
   "execution_count": 25,
   "id": "d7e08eeb-55a7-47d4-bb8c-bf04f39499b6",
   "metadata": {},
   "outputs": [],
   "source": [
    "# TO-DO"
   ]
  },
  {
   "cell_type": "markdown",
   "id": "b3a55500-c269-489b-9f24-1e8f9b19d73f",
   "metadata": {},
   "source": [
    "### Numerical vs Categorical Variables"
   ]
  },
  {
   "cell_type": "code",
   "execution_count": 26,
   "id": "f39f519a-d32b-4434-aa73-a7495d420851",
   "metadata": {},
   "outputs": [],
   "source": [
    "# TO-DO"
   ]
  },
  {
   "cell_type": "markdown",
   "id": "e6a33c4e-8268-4930-972a-b6e3a8486978",
   "metadata": {},
   "source": [
    "# **7 - Synthetic Data**"
   ]
  },
  {
   "cell_type": "markdown",
   "id": "a5d97c43-2207-4f52-81d4-b45ed4d36665",
   "metadata": {},
   "source": [
    "*Generate synthetic data for modelling purpose*"
   ]
  },
  {
   "cell_type": "markdown",
   "id": "4f510258-a038-485f-ab14-6135457ee0cd",
   "metadata": {},
   "source": [
    "## **Restore Point**"
   ]
  },
  {
   "cell_type": "markdown",
   "id": "564716e1-c0c3-47c8-b12d-d2d38e6ebad7",
   "metadata": {},
   "source": [
    "*Create a checkpoint of the last dataframe from previous section*"
   ]
  },
  {
   "cell_type": "code",
   "execution_count": 27,
   "id": "1d62b233-dd22-4798-9391-bc115e716305",
   "metadata": {},
   "outputs": [
    {
     "data": {
      "text/html": [
       "<div>\n",
       "<style scoped>\n",
       "    .dataframe tbody tr th:only-of-type {\n",
       "        vertical-align: middle;\n",
       "    }\n",
       "\n",
       "    .dataframe tbody tr th {\n",
       "        vertical-align: top;\n",
       "    }\n",
       "\n",
       "    .dataframe thead th {\n",
       "        text-align: right;\n",
       "    }\n",
       "</style>\n",
       "<table border=\"1\" class=\"dataframe\">\n",
       "  <thead>\n",
       "    <tr style=\"text-align: right;\">\n",
       "      <th></th>\n",
       "      <th>A1</th>\n",
       "      <th>A2</th>\n",
       "      <th>A3</th>\n",
       "      <th>A4</th>\n",
       "      <th>A5</th>\n",
       "      <th>A6</th>\n",
       "      <th>A7</th>\n",
       "      <th>A8</th>\n",
       "      <th>A9</th>\n",
       "      <th>A10</th>\n",
       "      <th>Class</th>\n",
       "      <th>src</th>\n",
       "    </tr>\n",
       "  </thead>\n",
       "  <tbody>\n",
       "    <tr>\n",
       "      <th>1379</th>\n",
       "      <td>1</td>\n",
       "      <td>1</td>\n",
       "      <td>1</td>\n",
       "      <td>1</td>\n",
       "      <td>1</td>\n",
       "      <td>1</td>\n",
       "      <td>1</td>\n",
       "      <td>1</td>\n",
       "      <td>1</td>\n",
       "      <td>1</td>\n",
       "      <td>1</td>\n",
       "      <td>thabtah_toddler</td>\n",
       "    </tr>\n",
       "    <tr>\n",
       "      <th>1768</th>\n",
       "      <td>1</td>\n",
       "      <td>0</td>\n",
       "      <td>0</td>\n",
       "      <td>0</td>\n",
       "      <td>0</td>\n",
       "      <td>0</td>\n",
       "      <td>1</td>\n",
       "      <td>1</td>\n",
       "      <td>0</td>\n",
       "      <td>1</td>\n",
       "      <td>1</td>\n",
       "      <td>thabtah_toddler</td>\n",
       "    </tr>\n",
       "    <tr>\n",
       "      <th>346</th>\n",
       "      <td>0</td>\n",
       "      <td>1</td>\n",
       "      <td>1</td>\n",
       "      <td>1</td>\n",
       "      <td>1</td>\n",
       "      <td>1</td>\n",
       "      <td>0</td>\n",
       "      <td>0</td>\n",
       "      <td>0</td>\n",
       "      <td>0</td>\n",
       "      <td>1</td>\n",
       "      <td>Saudi</td>\n",
       "    </tr>\n",
       "  </tbody>\n",
       "</table>\n",
       "</div>"
      ],
      "text/plain": [
       "      A1  A2  A3  A4  A5  A6  A7  A8  A9  A10  Class              src\n",
       "1379   1   1   1   1   1   1   1   1   1    1      1  thabtah_toddler\n",
       "1768   1   0   0   0   0   0   1   1   0    1      1  thabtah_toddler\n",
       "346    0   1   1   1   1   1   0   0   0    0      1            Saudi"
      ]
     },
     "execution_count": 27,
     "metadata": {},
     "output_type": "execute_result"
    }
   ],
   "source": [
    "# create a restore point for the previous section dataframe\n",
    "df_synth = df_eda.copy()\n",
    "\n",
    "# check dataframe\n",
    "df_synth.sample(3)"
   ]
  },
  {
   "cell_type": "markdown",
   "id": "0e6e82f1-9e8c-46e3-a4fa-45b18627453c",
   "metadata": {},
   "source": [
    "*Do we need to create synthetic data?*"
   ]
  },
  {
   "cell_type": "code",
   "execution_count": 28,
   "id": "b0f9cce4-e26f-46ec-9b2d-7e9ec77f65c5",
   "metadata": {},
   "outputs": [],
   "source": [
    "# TO-DO"
   ]
  },
  {
   "cell_type": "markdown",
   "id": "4b8a72e5-8f5f-4afc-a55a-ebd95cee5199",
   "metadata": {},
   "source": [
    "*Is it possible to create synthetic data for this problem?*"
   ]
  },
  {
   "cell_type": "code",
   "execution_count": 29,
   "id": "20606b6c-43d1-4cb1-9e4e-729e89e7ae85",
   "metadata": {},
   "outputs": [],
   "source": [
    "# TO-DO"
   ]
  },
  {
   "cell_type": "markdown",
   "id": "065170f8-b4ec-4f6e-a438-6dc48e96e71a",
   "metadata": {},
   "source": [
    "*What are the pros and cons of synthetic data?*"
   ]
  },
  {
   "cell_type": "code",
   "execution_count": 30,
   "id": "f0531823-05e3-41f4-8938-fa76c92f49ff",
   "metadata": {},
   "outputs": [],
   "source": [
    "# TO-DO"
   ]
  },
  {
   "cell_type": "markdown",
   "id": "b7bf2e78-a626-48b9-a44b-2d61f30b367f",
   "metadata": {},
   "source": [
    "*Techniques*:\n",
    "- oversampling\n",
    "- undersampling\n",
    "- SMOTE\n",
    "- model loss function weighting"
   ]
  },
  {
   "cell_type": "code",
   "execution_count": 31,
   "id": "9f1a7042-bbcf-4d17-a5e6-a40b7694e417",
   "metadata": {},
   "outputs": [],
   "source": [
    "# TO-DO"
   ]
  },
  {
   "cell_type": "markdown",
   "id": "547d9300-5534-472b-acfd-f1abb50d7d6a",
   "metadata": {},
   "source": [
    "# **8 - Data Preparation**"
   ]
  },
  {
   "cell_type": "markdown",
   "id": "e2ca4cfc-7980-4fdd-932c-41dbbdfacadc",
   "metadata": {},
   "source": [
    "*Prepare data for modelling*"
   ]
  },
  {
   "cell_type": "markdown",
   "id": "b6471d30-7d80-4215-a91f-4e611fb4cf15",
   "metadata": {},
   "source": [
    "## **Restore Point**"
   ]
  },
  {
   "cell_type": "markdown",
   "id": "60cd03bc-299f-4c4b-8355-680e654c9703",
   "metadata": {},
   "source": [
    "*Create a checkpoint of the last dataframe from previous section*"
   ]
  },
  {
   "cell_type": "code",
   "execution_count": 32,
   "id": "65df4fd8-17bb-449f-b94b-49a3b04d1532",
   "metadata": {},
   "outputs": [
    {
     "data": {
      "text/html": [
       "<div>\n",
       "<style scoped>\n",
       "    .dataframe tbody tr th:only-of-type {\n",
       "        vertical-align: middle;\n",
       "    }\n",
       "\n",
       "    .dataframe tbody tr th {\n",
       "        vertical-align: top;\n",
       "    }\n",
       "\n",
       "    .dataframe thead th {\n",
       "        text-align: right;\n",
       "    }\n",
       "</style>\n",
       "<table border=\"1\" class=\"dataframe\">\n",
       "  <thead>\n",
       "    <tr style=\"text-align: right;\">\n",
       "      <th></th>\n",
       "      <th>A1</th>\n",
       "      <th>A2</th>\n",
       "      <th>A3</th>\n",
       "      <th>A4</th>\n",
       "      <th>A5</th>\n",
       "      <th>A6</th>\n",
       "      <th>A7</th>\n",
       "      <th>A8</th>\n",
       "      <th>A9</th>\n",
       "      <th>A10</th>\n",
       "      <th>Class</th>\n",
       "      <th>src</th>\n",
       "    </tr>\n",
       "  </thead>\n",
       "  <tbody>\n",
       "    <tr>\n",
       "      <th>1553</th>\n",
       "      <td>1</td>\n",
       "      <td>1</td>\n",
       "      <td>1</td>\n",
       "      <td>1</td>\n",
       "      <td>1</td>\n",
       "      <td>1</td>\n",
       "      <td>1</td>\n",
       "      <td>1</td>\n",
       "      <td>1</td>\n",
       "      <td>0</td>\n",
       "      <td>1</td>\n",
       "      <td>thabtah_toddler</td>\n",
       "    </tr>\n",
       "    <tr>\n",
       "      <th>669</th>\n",
       "      <td>1</td>\n",
       "      <td>0</td>\n",
       "      <td>0</td>\n",
       "      <td>1</td>\n",
       "      <td>1</td>\n",
       "      <td>1</td>\n",
       "      <td>1</td>\n",
       "      <td>0</td>\n",
       "      <td>1</td>\n",
       "      <td>1</td>\n",
       "      <td>1</td>\n",
       "      <td>UCI_child</td>\n",
       "    </tr>\n",
       "    <tr>\n",
       "      <th>2066</th>\n",
       "      <td>1</td>\n",
       "      <td>1</td>\n",
       "      <td>1</td>\n",
       "      <td>0</td>\n",
       "      <td>0</td>\n",
       "      <td>1</td>\n",
       "      <td>1</td>\n",
       "      <td>0</td>\n",
       "      <td>1</td>\n",
       "      <td>1</td>\n",
       "      <td>1</td>\n",
       "      <td>github</td>\n",
       "    </tr>\n",
       "  </tbody>\n",
       "</table>\n",
       "</div>"
      ],
      "text/plain": [
       "      A1  A2  A3  A4  A5  A6  A7  A8  A9  A10  Class              src\n",
       "1553   1   1   1   1   1   1   1   1   1    0      1  thabtah_toddler\n",
       "669    1   0   0   1   1   1   1   0   1    1      1        UCI_child\n",
       "2066   1   1   1   0   0   1   1   0   1    1      1           github"
      ]
     },
     "execution_count": 32,
     "metadata": {},
     "output_type": "execute_result"
    }
   ],
   "source": [
    "# create a restore point for the previous section dataframe\n",
    "df_prep = df_synth.copy()\n",
    "\n",
    "# check dataframe\n",
    "df_prep.sample(3)"
   ]
  },
  {
   "cell_type": "code",
   "execution_count": 33,
   "id": "a59d9632-cca8-4a38-9771-23a151698ff9",
   "metadata": {},
   "outputs": [
    {
     "data": {
      "text/plain": [
       "'X data'"
      ]
     },
     "metadata": {},
     "output_type": "display_data"
    },
    {
     "data": {
      "text/html": [
       "<div>\n",
       "<style scoped>\n",
       "    .dataframe tbody tr th:only-of-type {\n",
       "        vertical-align: middle;\n",
       "    }\n",
       "\n",
       "    .dataframe tbody tr th {\n",
       "        vertical-align: top;\n",
       "    }\n",
       "\n",
       "    .dataframe thead th {\n",
       "        text-align: right;\n",
       "    }\n",
       "</style>\n",
       "<table border=\"1\" class=\"dataframe\">\n",
       "  <thead>\n",
       "    <tr style=\"text-align: right;\">\n",
       "      <th></th>\n",
       "      <th>A1</th>\n",
       "      <th>A2</th>\n",
       "      <th>A3</th>\n",
       "      <th>A4</th>\n",
       "      <th>A5</th>\n",
       "      <th>A6</th>\n",
       "      <th>A7</th>\n",
       "      <th>A8</th>\n",
       "      <th>A9</th>\n",
       "      <th>A10</th>\n",
       "    </tr>\n",
       "  </thead>\n",
       "  <tbody>\n",
       "    <tr>\n",
       "      <th>0</th>\n",
       "      <td>0</td>\n",
       "      <td>0</td>\n",
       "      <td>0</td>\n",
       "      <td>0</td>\n",
       "      <td>0</td>\n",
       "      <td>1</td>\n",
       "      <td>1</td>\n",
       "      <td>1</td>\n",
       "      <td>0</td>\n",
       "      <td>0</td>\n",
       "    </tr>\n",
       "    <tr>\n",
       "      <th>1</th>\n",
       "      <td>0</td>\n",
       "      <td>0</td>\n",
       "      <td>1</td>\n",
       "      <td>0</td>\n",
       "      <td>1</td>\n",
       "      <td>0</td>\n",
       "      <td>0</td>\n",
       "      <td>1</td>\n",
       "      <td>0</td>\n",
       "      <td>0</td>\n",
       "    </tr>\n",
       "    <tr>\n",
       "      <th>2</th>\n",
       "      <td>0</td>\n",
       "      <td>0</td>\n",
       "      <td>0</td>\n",
       "      <td>0</td>\n",
       "      <td>0</td>\n",
       "      <td>0</td>\n",
       "      <td>1</td>\n",
       "      <td>0</td>\n",
       "      <td>0</td>\n",
       "      <td>0</td>\n",
       "    </tr>\n",
       "    <tr>\n",
       "      <th>3</th>\n",
       "      <td>0</td>\n",
       "      <td>0</td>\n",
       "      <td>0</td>\n",
       "      <td>0</td>\n",
       "      <td>0</td>\n",
       "      <td>0</td>\n",
       "      <td>0</td>\n",
       "      <td>0</td>\n",
       "      <td>0</td>\n",
       "      <td>0</td>\n",
       "    </tr>\n",
       "    <tr>\n",
       "      <th>4</th>\n",
       "      <td>0</td>\n",
       "      <td>0</td>\n",
       "      <td>0</td>\n",
       "      <td>0</td>\n",
       "      <td>0</td>\n",
       "      <td>0</td>\n",
       "      <td>0</td>\n",
       "      <td>0</td>\n",
       "      <td>0</td>\n",
       "      <td>0</td>\n",
       "    </tr>\n",
       "    <tr>\n",
       "      <th>...</th>\n",
       "      <td>...</td>\n",
       "      <td>...</td>\n",
       "      <td>...</td>\n",
       "      <td>...</td>\n",
       "      <td>...</td>\n",
       "      <td>...</td>\n",
       "      <td>...</td>\n",
       "      <td>...</td>\n",
       "      <td>...</td>\n",
       "      <td>...</td>\n",
       "    </tr>\n",
       "    <tr>\n",
       "      <th>2561</th>\n",
       "      <td>0</td>\n",
       "      <td>0</td>\n",
       "      <td>0</td>\n",
       "      <td>0</td>\n",
       "      <td>0</td>\n",
       "      <td>0</td>\n",
       "      <td>0</td>\n",
       "      <td>0</td>\n",
       "      <td>0</td>\n",
       "      <td>0</td>\n",
       "    </tr>\n",
       "    <tr>\n",
       "      <th>2562</th>\n",
       "      <td>0</td>\n",
       "      <td>0</td>\n",
       "      <td>0</td>\n",
       "      <td>0</td>\n",
       "      <td>0</td>\n",
       "      <td>0</td>\n",
       "      <td>0</td>\n",
       "      <td>0</td>\n",
       "      <td>0</td>\n",
       "      <td>1</td>\n",
       "    </tr>\n",
       "    <tr>\n",
       "      <th>2563</th>\n",
       "      <td>1</td>\n",
       "      <td>0</td>\n",
       "      <td>1</td>\n",
       "      <td>1</td>\n",
       "      <td>1</td>\n",
       "      <td>1</td>\n",
       "      <td>1</td>\n",
       "      <td>1</td>\n",
       "      <td>1</td>\n",
       "      <td>1</td>\n",
       "    </tr>\n",
       "    <tr>\n",
       "      <th>2564</th>\n",
       "      <td>1</td>\n",
       "      <td>0</td>\n",
       "      <td>0</td>\n",
       "      <td>0</td>\n",
       "      <td>0</td>\n",
       "      <td>0</td>\n",
       "      <td>0</td>\n",
       "      <td>1</td>\n",
       "      <td>0</td>\n",
       "      <td>1</td>\n",
       "    </tr>\n",
       "    <tr>\n",
       "      <th>2565</th>\n",
       "      <td>1</td>\n",
       "      <td>1</td>\n",
       "      <td>0</td>\n",
       "      <td>0</td>\n",
       "      <td>1</td>\n",
       "      <td>1</td>\n",
       "      <td>0</td>\n",
       "      <td>1</td>\n",
       "      <td>1</td>\n",
       "      <td>0</td>\n",
       "    </tr>\n",
       "  </tbody>\n",
       "</table>\n",
       "<p>2566 rows × 10 columns</p>\n",
       "</div>"
      ],
      "text/plain": [
       "      A1  A2  A3  A4  A5  A6  A7  A8  A9  A10\n",
       "0      0   0   0   0   0   1   1   1   0    0\n",
       "1      0   0   1   0   1   0   0   1   0    0\n",
       "2      0   0   0   0   0   0   1   0   0    0\n",
       "3      0   0   0   0   0   0   0   0   0    0\n",
       "4      0   0   0   0   0   0   0   0   0    0\n",
       "...   ..  ..  ..  ..  ..  ..  ..  ..  ..  ...\n",
       "2561   0   0   0   0   0   0   0   0   0    0\n",
       "2562   0   0   0   0   0   0   0   0   0    1\n",
       "2563   1   0   1   1   1   1   1   1   1    1\n",
       "2564   1   0   0   0   0   0   0   1   0    1\n",
       "2565   1   1   0   0   1   1   0   1   1    0\n",
       "\n",
       "[2566 rows x 10 columns]"
      ]
     },
     "metadata": {},
     "output_type": "display_data"
    },
    {
     "data": {
      "text/plain": [
       "'y data'"
      ]
     },
     "metadata": {},
     "output_type": "display_data"
    },
    {
     "data": {
      "text/plain": [
       "0       0\n",
       "1       0\n",
       "2       0\n",
       "3       0\n",
       "4       0\n",
       "       ..\n",
       "2561    0\n",
       "2562    0\n",
       "2563    1\n",
       "2564    0\n",
       "2565    1\n",
       "Name: Class, Length: 2566, dtype: int64"
      ]
     },
     "metadata": {},
     "output_type": "display_data"
    }
   ],
   "source": [
    "# define X and y data\n",
    "X = df_prep[['A1', 'A2', 'A3', 'A4', 'A5', 'A6', 'A7', 'A8', 'A9', 'A10']]\n",
    "y = df_prep[\"Class\"]\n",
    "\n",
    "# check X and y\n",
    "display(\"X data\", X, \"y data\", y)"
   ]
  },
  {
   "cell_type": "markdown",
   "id": "d3ecba23-3fb6-4330-8e23-baa1b29af380",
   "metadata": {},
   "source": [
    "## **Train-validation-test split**"
   ]
  },
  {
   "cell_type": "markdown",
   "id": "442b675e-b230-4694-8b37-c5405917015b",
   "metadata": {},
   "source": [
    "*Split data into train, validation and test*"
   ]
  },
  {
   "cell_type": "code",
   "execution_count": 34,
   "id": "6bdce59e-2274-4ea7-8851-ebe737e5ae81",
   "metadata": {},
   "outputs": [],
   "source": [
    "# TO-DO"
   ]
  },
  {
   "cell_type": "markdown",
   "id": "06d95381-60f7-432b-84e3-5bcf1a07f2ca",
   "metadata": {},
   "source": [
    "## **Scaling**"
   ]
  },
  {
   "cell_type": "markdown",
   "id": "936cd91d-42f8-48bc-9d41-b75b55ee0007",
   "metadata": {},
   "source": [
    "*Make sure numerical variables has a comparable range of values*"
   ]
  },
  {
   "cell_type": "code",
   "execution_count": 35,
   "id": "a9093081-b0a3-44e3-a473-209e856e5a38",
   "metadata": {},
   "outputs": [],
   "source": [
    "# TO-DO"
   ]
  },
  {
   "cell_type": "markdown",
   "id": "c36cf823-ee69-4afa-a430-dc809bd263b6",
   "metadata": {},
   "source": [
    "## **Discretizing**"
   ]
  },
  {
   "cell_type": "markdown",
   "id": "0a593bc2-b88a-4906-afd8-f9416bc2baf4",
   "metadata": {},
   "source": [
    "*Discretize variables with bins*"
   ]
  },
  {
   "cell_type": "code",
   "execution_count": 36,
   "id": "2fec98c8-db17-4abc-a24e-0b57726b6711",
   "metadata": {},
   "outputs": [],
   "source": [
    "# TO-DO"
   ]
  },
  {
   "cell_type": "markdown",
   "id": "69006d8f-a1eb-4ae6-aa01-f60bb4ecfd1d",
   "metadata": {},
   "source": [
    "## **Categorical encoding**"
   ]
  },
  {
   "cell_type": "markdown",
   "id": "6244f80d-72e5-4f73-ad86-cf6ccf267ad6",
   "metadata": {},
   "source": [
    "*Prepare categorical variables for modelling*"
   ]
  },
  {
   "cell_type": "code",
   "execution_count": 37,
   "id": "b596036e-34f3-4d44-85a2-2b01a0d196d7",
   "metadata": {},
   "outputs": [],
   "source": [
    "# TO-DO"
   ]
  },
  {
   "cell_type": "markdown",
   "id": "803cccee-e385-4233-96dc-000a3d700055",
   "metadata": {},
   "source": [
    "## **Time-cyclic variables**"
   ]
  },
  {
   "cell_type": "markdown",
   "id": "2ba36afb-e2ad-4562-a656-c8ba2ad915df",
   "metadata": {},
   "source": [
    "*Transform cyclic time variables into sin and cos variables*"
   ]
  },
  {
   "cell_type": "code",
   "execution_count": 38,
   "id": "cb31afca-dd5d-4ba5-a9a5-bfda6581d119",
   "metadata": {},
   "outputs": [],
   "source": [
    "# TO-DO"
   ]
  },
  {
   "cell_type": "markdown",
   "id": "be7d3971-e833-4d77-826d-5b5f1e9577e1",
   "metadata": {},
   "source": [
    "## **Response Variable Transformation**"
   ]
  },
  {
   "cell_type": "markdown",
   "id": "bf917012-ac91-4359-adb0-4fd5e942a1a4",
   "metadata": {},
   "source": [
    "*Make sure target variable is ready for modelling*"
   ]
  },
  {
   "cell_type": "code",
   "execution_count": 39,
   "id": "edde216a-bdd1-40c8-b845-bfa071c717d5",
   "metadata": {},
   "outputs": [],
   "source": [
    "# TO-DO"
   ]
  },
  {
   "cell_type": "markdown",
   "id": "588e7283-4f58-4f67-8df7-16bb365b1d52",
   "metadata": {},
   "source": [
    "## **sklearn.pipelines**"
   ]
  },
  {
   "cell_type": "markdown",
   "id": "37aa64a6-7010-4d99-a20a-029cc521c646",
   "metadata": {},
   "source": [
    "*Use sklearn.pipelines instead of \"manual\" transformations*"
   ]
  },
  {
   "cell_type": "code",
   "execution_count": 40,
   "id": "240fc558-49ec-4039-9cad-ceb3807eb396",
   "metadata": {},
   "outputs": [],
   "source": [
    "# TO-DO"
   ]
  },
  {
   "cell_type": "markdown",
   "id": "a14f2e77-fd3d-4646-947b-cd94f7f35c62",
   "metadata": {},
   "source": [
    "## **Final preparation check**"
   ]
  },
  {
   "cell_type": "markdown",
   "id": "bb122904-fb37-403a-bedb-26f76c8d090a",
   "metadata": {},
   "source": [
    "*Final check after all data preparation steps*"
   ]
  },
  {
   "cell_type": "code",
   "execution_count": 41,
   "id": "770fb098-fd43-4fd3-9f20-479f6486d583",
   "metadata": {},
   "outputs": [],
   "source": [
    "# TO-DO"
   ]
  },
  {
   "cell_type": "markdown",
   "id": "5ceb412f-4110-4f90-909e-1278e7eb3772",
   "metadata": {},
   "source": [
    "# **9 - Metrics**"
   ]
  },
  {
   "cell_type": "markdown",
   "id": "48fd16fc-c808-4287-9cc2-3b84b7a84a97",
   "metadata": {},
   "source": [
    "*Define the most relevant metrics for the given problem*"
   ]
  },
  {
   "cell_type": "markdown",
   "id": "c97dd7e0-4f43-46a4-968c-c921b5bb75f6",
   "metadata": {},
   "source": [
    "*What will be the model output?* \n",
    "- Label or probability?"
   ]
  },
  {
   "cell_type": "code",
   "execution_count": 42,
   "id": "91762eb8-535d-4af4-9ea1-79b3477b699a",
   "metadata": {},
   "outputs": [],
   "source": [
    "# TO-DO"
   ]
  },
  {
   "cell_type": "markdown",
   "id": "631635f9-1cc5-4b41-8733-a71bc8cb1c9b",
   "metadata": {},
   "source": [
    "*What will be the main model metric? And the auxiliary metrics?*\n",
    "- Accuracy\n",
    "- Recall\n",
    "- Precision\n",
    "- F1-score\n",
    "- ROC-AUC\n",
    "- Precision-recall AUC\n",
    "- Cross Entropy (log-loss)\n",
    "- confusion matrix"
   ]
  },
  {
   "cell_type": "code",
   "execution_count": 43,
   "id": "7c99876b-6daf-4bd2-be4d-181eec1ede1f",
   "metadata": {},
   "outputs": [],
   "source": [
    "# TO-DO"
   ]
  },
  {
   "cell_type": "markdown",
   "id": "3d947c95-2cec-46ab-babc-314ec66a3a9f",
   "metadata": {},
   "source": [
    "# **10 - Feature Selection**"
   ]
  },
  {
   "cell_type": "markdown",
   "id": "c5675fb0-4056-48bd-aef8-7029ac0dd4f7",
   "metadata": {},
   "source": [
    "*Select features for modelling*"
   ]
  },
  {
   "cell_type": "markdown",
   "id": "b9bf5d8d-9617-4003-a8ec-3e1ae769bd5a",
   "metadata": {},
   "source": [
    "## **Restore Point**"
   ]
  },
  {
   "cell_type": "markdown",
   "id": "b5f3acbc-39f1-44c0-81fb-957e39325512",
   "metadata": {},
   "source": [
    "*Create a checkpoint of the last dataframe from previous section*"
   ]
  },
  {
   "cell_type": "code",
   "execution_count": 44,
   "id": "5e61204b-af8b-45c8-ae8f-5cf2bc6fb62c",
   "metadata": {},
   "outputs": [
    {
     "data": {
      "text/html": [
       "<div>\n",
       "<style scoped>\n",
       "    .dataframe tbody tr th:only-of-type {\n",
       "        vertical-align: middle;\n",
       "    }\n",
       "\n",
       "    .dataframe tbody tr th {\n",
       "        vertical-align: top;\n",
       "    }\n",
       "\n",
       "    .dataframe thead th {\n",
       "        text-align: right;\n",
       "    }\n",
       "</style>\n",
       "<table border=\"1\" class=\"dataframe\">\n",
       "  <thead>\n",
       "    <tr style=\"text-align: right;\">\n",
       "      <th></th>\n",
       "      <th>A1</th>\n",
       "      <th>A2</th>\n",
       "      <th>A3</th>\n",
       "      <th>A4</th>\n",
       "      <th>A5</th>\n",
       "      <th>A6</th>\n",
       "      <th>A7</th>\n",
       "      <th>A8</th>\n",
       "      <th>A9</th>\n",
       "      <th>A10</th>\n",
       "      <th>Class</th>\n",
       "      <th>src</th>\n",
       "    </tr>\n",
       "  </thead>\n",
       "  <tbody>\n",
       "    <tr>\n",
       "      <th>1894</th>\n",
       "      <td>0</td>\n",
       "      <td>0</td>\n",
       "      <td>0</td>\n",
       "      <td>0</td>\n",
       "      <td>0</td>\n",
       "      <td>0</td>\n",
       "      <td>0</td>\n",
       "      <td>0</td>\n",
       "      <td>0</td>\n",
       "      <td>0</td>\n",
       "      <td>0</td>\n",
       "      <td>github</td>\n",
       "    </tr>\n",
       "    <tr>\n",
       "      <th>886</th>\n",
       "      <td>1</td>\n",
       "      <td>0</td>\n",
       "      <td>0</td>\n",
       "      <td>0</td>\n",
       "      <td>1</td>\n",
       "      <td>0</td>\n",
       "      <td>1</td>\n",
       "      <td>0</td>\n",
       "      <td>1</td>\n",
       "      <td>0</td>\n",
       "      <td>1</td>\n",
       "      <td>thabtah_toddler</td>\n",
       "    </tr>\n",
       "    <tr>\n",
       "      <th>2320</th>\n",
       "      <td>1</td>\n",
       "      <td>1</td>\n",
       "      <td>0</td>\n",
       "      <td>1</td>\n",
       "      <td>1</td>\n",
       "      <td>1</td>\n",
       "      <td>1</td>\n",
       "      <td>0</td>\n",
       "      <td>1</td>\n",
       "      <td>0</td>\n",
       "      <td>1</td>\n",
       "      <td>github</td>\n",
       "    </tr>\n",
       "  </tbody>\n",
       "</table>\n",
       "</div>"
      ],
      "text/plain": [
       "      A1  A2  A3  A4  A5  A6  A7  A8  A9  A10  Class              src\n",
       "1894   0   0   0   0   0   0   0   0   0    0      0           github\n",
       "886    1   0   0   0   1   0   1   0   1    0      1  thabtah_toddler\n",
       "2320   1   1   0   1   1   1   1   0   1    0      1           github"
      ]
     },
     "execution_count": 44,
     "metadata": {},
     "output_type": "execute_result"
    }
   ],
   "source": [
    "# create a restore point for the previous section dataframe\n",
    "df_f_selection = df_prep.copy()\n",
    "\n",
    "# check dataframe\n",
    "df_f_selection.sample(3)"
   ]
  },
  {
   "cell_type": "markdown",
   "id": "c2a735c8-3104-40ed-aae5-e6920188099d",
   "metadata": {},
   "source": [
    "*Techniques:*\n",
    "- Permutation importance\n",
    "- Feature coefficients\n",
    "- Feature importance\n",
    "- Buruta\n",
    "- etc"
   ]
  },
  {
   "cell_type": "code",
   "execution_count": 45,
   "id": "285382b0-e60c-4f09-bab0-37d57dac1ff1",
   "metadata": {},
   "outputs": [],
   "source": [
    "# TO-DO"
   ]
  },
  {
   "cell_type": "markdown",
   "id": "f6032fa1-f006-4c39-aee4-8986fc38a45f",
   "metadata": {},
   "source": [
    "# **11 - Modelling**"
   ]
  },
  {
   "cell_type": "markdown",
   "id": "e3a03d50-ab68-4a5f-8fec-273a95251cbf",
   "metadata": {},
   "source": [
    "*Use ML models to find patterns on data*"
   ]
  },
  {
   "cell_type": "markdown",
   "id": "6040ea58-5b2f-42b3-808b-76c596f402b8",
   "metadata": {},
   "source": [
    "## **Restore Point**"
   ]
  },
  {
   "cell_type": "markdown",
   "id": "83a91dac-fe4b-49db-ae2e-58230da0566f",
   "metadata": {},
   "source": [
    "*Create a checkpoint of the last dataframe from previous section*"
   ]
  },
  {
   "cell_type": "code",
   "execution_count": 46,
   "id": "c43fa75c-d406-4a17-88ad-e4548a865d71",
   "metadata": {},
   "outputs": [
    {
     "data": {
      "text/html": [
       "<div>\n",
       "<style scoped>\n",
       "    .dataframe tbody tr th:only-of-type {\n",
       "        vertical-align: middle;\n",
       "    }\n",
       "\n",
       "    .dataframe tbody tr th {\n",
       "        vertical-align: top;\n",
       "    }\n",
       "\n",
       "    .dataframe thead th {\n",
       "        text-align: right;\n",
       "    }\n",
       "</style>\n",
       "<table border=\"1\" class=\"dataframe\">\n",
       "  <thead>\n",
       "    <tr style=\"text-align: right;\">\n",
       "      <th></th>\n",
       "      <th>A1</th>\n",
       "      <th>A2</th>\n",
       "      <th>A3</th>\n",
       "      <th>A4</th>\n",
       "      <th>A5</th>\n",
       "      <th>A6</th>\n",
       "      <th>A7</th>\n",
       "      <th>A8</th>\n",
       "      <th>A9</th>\n",
       "      <th>A10</th>\n",
       "      <th>Class</th>\n",
       "      <th>src</th>\n",
       "    </tr>\n",
       "  </thead>\n",
       "  <tbody>\n",
       "    <tr>\n",
       "      <th>2026</th>\n",
       "      <td>1</td>\n",
       "      <td>1</td>\n",
       "      <td>1</td>\n",
       "      <td>1</td>\n",
       "      <td>1</td>\n",
       "      <td>1</td>\n",
       "      <td>1</td>\n",
       "      <td>0</td>\n",
       "      <td>1</td>\n",
       "      <td>1</td>\n",
       "      <td>1</td>\n",
       "      <td>github</td>\n",
       "    </tr>\n",
       "    <tr>\n",
       "      <th>1871</th>\n",
       "      <td>1</td>\n",
       "      <td>1</td>\n",
       "      <td>1</td>\n",
       "      <td>0</td>\n",
       "      <td>1</td>\n",
       "      <td>0</td>\n",
       "      <td>1</td>\n",
       "      <td>1</td>\n",
       "      <td>0</td>\n",
       "      <td>1</td>\n",
       "      <td>1</td>\n",
       "      <td>github</td>\n",
       "    </tr>\n",
       "    <tr>\n",
       "      <th>1683</th>\n",
       "      <td>1</td>\n",
       "      <td>1</td>\n",
       "      <td>1</td>\n",
       "      <td>1</td>\n",
       "      <td>1</td>\n",
       "      <td>1</td>\n",
       "      <td>1</td>\n",
       "      <td>1</td>\n",
       "      <td>1</td>\n",
       "      <td>1</td>\n",
       "      <td>1</td>\n",
       "      <td>thabtah_toddler</td>\n",
       "    </tr>\n",
       "  </tbody>\n",
       "</table>\n",
       "</div>"
      ],
      "text/plain": [
       "      A1  A2  A3  A4  A5  A6  A7  A8  A9  A10  Class              src\n",
       "2026   1   1   1   1   1   1   1   0   1    1      1           github\n",
       "1871   1   1   1   0   1   0   1   1   0    1      1           github\n",
       "1683   1   1   1   1   1   1   1   1   1    1      1  thabtah_toddler"
      ]
     },
     "execution_count": 46,
     "metadata": {},
     "output_type": "execute_result"
    }
   ],
   "source": [
    "# create a restore point for the previous section dataframe\n",
    "df_modelling = df_f_selection.copy()\n",
    "\n",
    "# check dataframe\n",
    "df_modelling.sample(3)"
   ]
  },
  {
   "cell_type": "markdown",
   "id": "2883f546-fadd-4a99-be81-5b6876dd454f",
   "metadata": {},
   "source": [
    "## **Dummy model**"
   ]
  },
  {
   "cell_type": "markdown",
   "id": "7f6236d6-bb22-4505-ad3b-2dfbefaf1ad6",
   "metadata": {},
   "source": [
    "*The easiest model without any coding*"
   ]
  },
  {
   "cell_type": "code",
   "execution_count": 47,
   "id": "3501de7f-194b-4baa-a1e9-ac04a6e57576",
   "metadata": {},
   "outputs": [],
   "source": [
    "# TO-DO"
   ]
  },
  {
   "cell_type": "markdown",
   "id": "5f781061-9519-4ab5-9519-ec2821e94278",
   "metadata": {},
   "source": [
    "## **Baseline model**"
   ]
  },
  {
   "cell_type": "markdown",
   "id": "6d0c39ac-4691-4729-aacd-f881ae933225",
   "metadata": {},
   "source": [
    "*The fastest model to build*"
   ]
  },
  {
   "cell_type": "code",
   "execution_count": 48,
   "id": "92df00d1-cfd4-423b-bc67-518b5db4e62f",
   "metadata": {},
   "outputs": [],
   "source": [
    "# TO-DO"
   ]
  },
  {
   "cell_type": "markdown",
   "id": "0ab1f97b-de15-41a3-b779-2047cab5fcb6",
   "metadata": {},
   "source": [
    "## **Best model**"
   ]
  },
  {
   "cell_type": "markdown",
   "id": "2001d4b8-947b-4fe9-aa6a-54d3fa6ea77a",
   "metadata": {},
   "source": [
    "*The best model of all*"
   ]
  },
  {
   "cell_type": "code",
   "execution_count": 49,
   "id": "14adb39c-05ea-4bf8-8306-db33cb12562f",
   "metadata": {},
   "outputs": [],
   "source": [
    "# TO-DO"
   ]
  },
  {
   "cell_type": "markdown",
   "id": "3be1b21e-5616-4337-bbc7-e8cccf4cdf65",
   "metadata": {},
   "source": [
    "# **12 - Hyper-parameter tuning**"
   ]
  },
  {
   "cell_type": "markdown",
   "id": "b3a6998a-17b0-4a18-95ca-cf8858760224",
   "metadata": {},
   "source": [
    "*Find out the best hyper-parameters for the ML models*"
   ]
  },
  {
   "cell_type": "markdown",
   "id": "b8dffcf8-4904-4cd8-b380-f45210770f36",
   "metadata": {},
   "source": [
    "## **Restore Point**"
   ]
  },
  {
   "cell_type": "markdown",
   "id": "120ae1f8-6227-42dd-9260-59e1b7877487",
   "metadata": {},
   "source": [
    "*Create a checkpoint of the last dataframe from previous section*"
   ]
  },
  {
   "cell_type": "code",
   "execution_count": 50,
   "id": "967e8cc0-6a76-48d0-bd08-d138f42a926a",
   "metadata": {},
   "outputs": [
    {
     "data": {
      "text/html": [
       "<div>\n",
       "<style scoped>\n",
       "    .dataframe tbody tr th:only-of-type {\n",
       "        vertical-align: middle;\n",
       "    }\n",
       "\n",
       "    .dataframe tbody tr th {\n",
       "        vertical-align: top;\n",
       "    }\n",
       "\n",
       "    .dataframe thead th {\n",
       "        text-align: right;\n",
       "    }\n",
       "</style>\n",
       "<table border=\"1\" class=\"dataframe\">\n",
       "  <thead>\n",
       "    <tr style=\"text-align: right;\">\n",
       "      <th></th>\n",
       "      <th>A1</th>\n",
       "      <th>A2</th>\n",
       "      <th>A3</th>\n",
       "      <th>A4</th>\n",
       "      <th>A5</th>\n",
       "      <th>A6</th>\n",
       "      <th>A7</th>\n",
       "      <th>A8</th>\n",
       "      <th>A9</th>\n",
       "      <th>A10</th>\n",
       "      <th>Class</th>\n",
       "      <th>src</th>\n",
       "    </tr>\n",
       "  </thead>\n",
       "  <tbody>\n",
       "    <tr>\n",
       "      <th>1441</th>\n",
       "      <td>0</td>\n",
       "      <td>0</td>\n",
       "      <td>0</td>\n",
       "      <td>1</td>\n",
       "      <td>0</td>\n",
       "      <td>1</td>\n",
       "      <td>1</td>\n",
       "      <td>0</td>\n",
       "      <td>0</td>\n",
       "      <td>0</td>\n",
       "      <td>0</td>\n",
       "      <td>thabtah_toddler</td>\n",
       "    </tr>\n",
       "    <tr>\n",
       "      <th>2217</th>\n",
       "      <td>1</td>\n",
       "      <td>0</td>\n",
       "      <td>0</td>\n",
       "      <td>0</td>\n",
       "      <td>1</td>\n",
       "      <td>1</td>\n",
       "      <td>1</td>\n",
       "      <td>1</td>\n",
       "      <td>1</td>\n",
       "      <td>0</td>\n",
       "      <td>1</td>\n",
       "      <td>github</td>\n",
       "    </tr>\n",
       "    <tr>\n",
       "      <th>1496</th>\n",
       "      <td>1</td>\n",
       "      <td>0</td>\n",
       "      <td>1</td>\n",
       "      <td>1</td>\n",
       "      <td>1</td>\n",
       "      <td>1</td>\n",
       "      <td>1</td>\n",
       "      <td>0</td>\n",
       "      <td>0</td>\n",
       "      <td>1</td>\n",
       "      <td>1</td>\n",
       "      <td>thabtah_toddler</td>\n",
       "    </tr>\n",
       "  </tbody>\n",
       "</table>\n",
       "</div>"
      ],
      "text/plain": [
       "      A1  A2  A3  A4  A5  A6  A7  A8  A9  A10  Class              src\n",
       "1441   0   0   0   1   0   1   1   0   0    0      0  thabtah_toddler\n",
       "2217   1   0   0   0   1   1   1   1   1    0      1           github\n",
       "1496   1   0   1   1   1   1   1   0   0    1      1  thabtah_toddler"
      ]
     },
     "execution_count": 50,
     "metadata": {},
     "output_type": "execute_result"
    }
   ],
   "source": [
    "# create a restore point for the previous section dataframe\n",
    "df_tunning = df_modelling.copy()\n",
    "\n",
    "# check dataframe\n",
    "df_tunning.sample(3)"
   ]
  },
  {
   "cell_type": "markdown",
   "id": "443ba924-01fa-4827-834b-a071b2eab686",
   "metadata": {},
   "source": [
    "*What strategy to use*\n",
    "- Grid Search\n",
    "- Random search\n",
    "- Bayesian search\n",
    "- Optuna"
   ]
  },
  {
   "cell_type": "code",
   "execution_count": 51,
   "id": "e4866a80-7b78-483e-a67f-d8681879af82",
   "metadata": {},
   "outputs": [],
   "source": [
    "# TO-DO"
   ]
  },
  {
   "cell_type": "markdown",
   "id": "661330c4-6161-4274-b64e-2ee28c2598a2",
   "metadata": {},
   "source": [
    "*How ot keep track of model performances?*\n",
    "- mlflow"
   ]
  },
  {
   "cell_type": "code",
   "execution_count": 52,
   "id": "cddfb773-f38e-4aa0-b009-f5da9ad55ee7",
   "metadata": {},
   "outputs": [],
   "source": [
    "# TO-DO"
   ]
  },
  {
   "cell_type": "markdown",
   "id": "b3b1a043-43a4-42d5-9ad9-2d7a01e2f7df",
   "metadata": {},
   "source": [
    "# **13 - Error Analysis**"
   ]
  },
  {
   "cell_type": "markdown",
   "id": "241ac66b-4015-4fa2-a2f4-c8f4567b6b74",
   "metadata": {},
   "source": [
    "*Perform error analysis to check model performance*"
   ]
  },
  {
   "cell_type": "markdown",
   "id": "a623345a-4b58-4a54-86e7-b20319b9e609",
   "metadata": {},
   "source": [
    "## **Restore Point**"
   ]
  },
  {
   "cell_type": "markdown",
   "id": "33ae682a-2d91-4309-b0ca-38d6cbde1cf7",
   "metadata": {},
   "source": [
    "*Create a checkpoint of the last dataframe from previous section*"
   ]
  },
  {
   "cell_type": "code",
   "execution_count": 53,
   "id": "cf99beb3-9f9a-4b3a-93db-c09cee081a0e",
   "metadata": {},
   "outputs": [
    {
     "data": {
      "text/html": [
       "<div>\n",
       "<style scoped>\n",
       "    .dataframe tbody tr th:only-of-type {\n",
       "        vertical-align: middle;\n",
       "    }\n",
       "\n",
       "    .dataframe tbody tr th {\n",
       "        vertical-align: top;\n",
       "    }\n",
       "\n",
       "    .dataframe thead th {\n",
       "        text-align: right;\n",
       "    }\n",
       "</style>\n",
       "<table border=\"1\" class=\"dataframe\">\n",
       "  <thead>\n",
       "    <tr style=\"text-align: right;\">\n",
       "      <th></th>\n",
       "      <th>A1</th>\n",
       "      <th>A2</th>\n",
       "      <th>A3</th>\n",
       "      <th>A4</th>\n",
       "      <th>A5</th>\n",
       "      <th>A6</th>\n",
       "      <th>A7</th>\n",
       "      <th>A8</th>\n",
       "      <th>A9</th>\n",
       "      <th>A10</th>\n",
       "      <th>Class</th>\n",
       "      <th>src</th>\n",
       "    </tr>\n",
       "  </thead>\n",
       "  <tbody>\n",
       "    <tr>\n",
       "      <th>1230</th>\n",
       "      <td>1</td>\n",
       "      <td>1</td>\n",
       "      <td>1</td>\n",
       "      <td>1</td>\n",
       "      <td>0</td>\n",
       "      <td>1</td>\n",
       "      <td>1</td>\n",
       "      <td>1</td>\n",
       "      <td>1</td>\n",
       "      <td>1</td>\n",
       "      <td>1</td>\n",
       "      <td>thabtah_toddler</td>\n",
       "    </tr>\n",
       "    <tr>\n",
       "      <th>1824</th>\n",
       "      <td>0</td>\n",
       "      <td>0</td>\n",
       "      <td>0</td>\n",
       "      <td>0</td>\n",
       "      <td>0</td>\n",
       "      <td>0</td>\n",
       "      <td>0</td>\n",
       "      <td>0</td>\n",
       "      <td>0</td>\n",
       "      <td>1</td>\n",
       "      <td>0</td>\n",
       "      <td>thabtah_toddler</td>\n",
       "    </tr>\n",
       "    <tr>\n",
       "      <th>1899</th>\n",
       "      <td>0</td>\n",
       "      <td>0</td>\n",
       "      <td>0</td>\n",
       "      <td>0</td>\n",
       "      <td>0</td>\n",
       "      <td>0</td>\n",
       "      <td>0</td>\n",
       "      <td>0</td>\n",
       "      <td>0</td>\n",
       "      <td>1</td>\n",
       "      <td>0</td>\n",
       "      <td>github</td>\n",
       "    </tr>\n",
       "  </tbody>\n",
       "</table>\n",
       "</div>"
      ],
      "text/plain": [
       "      A1  A2  A3  A4  A5  A6  A7  A8  A9  A10  Class              src\n",
       "1230   1   1   1   1   0   1   1   1   1    1      1  thabtah_toddler\n",
       "1824   0   0   0   0   0   0   0   0   0    1      0  thabtah_toddler\n",
       "1899   0   0   0   0   0   0   0   0   0    1      0           github"
      ]
     },
     "execution_count": 53,
     "metadata": {},
     "output_type": "execute_result"
    }
   ],
   "source": [
    "# create a restore point for the previous section dataframe\n",
    "df_error = df_tunning.copy()\n",
    "\n",
    "# check dataframe\n",
    "df_error.sample(3)"
   ]
  },
  {
   "cell_type": "markdown",
   "id": "65162d91-bd44-4df5-96e2-b7185e8aabc9",
   "metadata": {
    "tags": []
   },
   "source": [
    "## **Cross-validation**"
   ]
  },
  {
   "cell_type": "markdown",
   "id": "766867a4-2eeb-4025-8035-57fb0ae49c16",
   "metadata": {},
   "source": [
    "*Perform cross-validation to ensure good model predictions on unseen data*"
   ]
  },
  {
   "cell_type": "code",
   "execution_count": 54,
   "id": "6e8c5d48-433b-47f9-afae-bac046846a5c",
   "metadata": {},
   "outputs": [],
   "source": [
    "# TO-DO"
   ]
  },
  {
   "cell_type": "markdown",
   "id": "7011ae20-ebac-4cbd-8e9b-5de9064d5e0b",
   "metadata": {},
   "source": [
    "## **Overfitting vs Wellfitting vs Underfitting**"
   ]
  },
  {
   "cell_type": "markdown",
   "id": "33453b38-2706-4f4a-b3bb-727aa8c5400a",
   "metadata": {},
   "source": [
    "*Make user the model is not underfitting or overfitting*"
   ]
  },
  {
   "cell_type": "code",
   "execution_count": 55,
   "id": "f5256e41-bcbe-40e1-b19e-83200a4f040a",
   "metadata": {},
   "outputs": [],
   "source": [
    "# TO-DO"
   ]
  },
  {
   "cell_type": "markdown",
   "id": "41d74b92-80f8-4d91-a8a2-c4c8fc2ce58f",
   "metadata": {},
   "source": [
    "## **Confusion Matrix**"
   ]
  },
  {
   "cell_type": "markdown",
   "id": "53fb182e-034c-4618-9124-e02eee9135e2",
   "metadata": {},
   "source": [
    "*Inspect confusion matrix to undertand model errors*"
   ]
  },
  {
   "cell_type": "code",
   "execution_count": 56,
   "id": "5f97183f-d349-4853-82ee-2384871e5463",
   "metadata": {},
   "outputs": [],
   "source": [
    "# TO-DO"
   ]
  },
  {
   "cell_type": "markdown",
   "id": "e624fe66-08df-4aaa-a51b-8cf8d3846cdc",
   "metadata": {},
   "source": [
    "## **Learning Curves**"
   ]
  },
  {
   "cell_type": "markdown",
   "id": "5b872a65-ccbf-4068-bbe3-f63b77c014fd",
   "metadata": {},
   "source": [
    "*Check learning curve to understand the impact of dataframe size as well as underfitting-overfittin issues*"
   ]
  },
  {
   "cell_type": "code",
   "execution_count": 57,
   "id": "ac5ed1de-8bbe-4716-9680-40cdceff555f",
   "metadata": {},
   "outputs": [],
   "source": [
    "# TO-DO"
   ]
  },
  {
   "cell_type": "markdown",
   "id": "4e1e4a0e-10e7-415c-b4cc-86db0fa3821c",
   "metadata": {},
   "source": [
    "## **Model Calibration**"
   ]
  },
  {
   "cell_type": "markdown",
   "id": "c252fc76-7fec-44c2-9053-154fb0f1ddda",
   "metadata": {},
   "source": [
    "*Check if model predictions are calibrated*"
   ]
  },
  {
   "cell_type": "code",
   "execution_count": 58,
   "id": "7df6a7fc-98e3-4ab5-b03a-4304958de00e",
   "metadata": {},
   "outputs": [],
   "source": [
    "# TO-DO"
   ]
  },
  {
   "cell_type": "markdown",
   "id": "2b3ebc08-9b00-4b62-b2a0-790f7621bd5d",
   "metadata": {},
   "source": [
    "# **14 - Model Performance**"
   ]
  },
  {
   "cell_type": "markdown",
   "id": "29f624f4-e0fb-45a1-a53c-1b302d0f9f60",
   "metadata": {},
   "source": [
    "*Evaluate model performance*"
   ]
  },
  {
   "cell_type": "markdown",
   "id": "ce17ce6b-60e2-4c9e-be4c-7bba5e8604b0",
   "metadata": {},
   "source": [
    "## **Restore Point**"
   ]
  },
  {
   "cell_type": "markdown",
   "id": "e1abc7f7-2aed-49c9-80da-275b5fd33f7d",
   "metadata": {},
   "source": [
    "*Create a checkpoint of the last dataframe from previous section*"
   ]
  },
  {
   "cell_type": "code",
   "execution_count": 59,
   "id": "c1a02a97-b49c-4952-b766-ba717f46b935",
   "metadata": {},
   "outputs": [
    {
     "data": {
      "text/html": [
       "<div>\n",
       "<style scoped>\n",
       "    .dataframe tbody tr th:only-of-type {\n",
       "        vertical-align: middle;\n",
       "    }\n",
       "\n",
       "    .dataframe tbody tr th {\n",
       "        vertical-align: top;\n",
       "    }\n",
       "\n",
       "    .dataframe thead th {\n",
       "        text-align: right;\n",
       "    }\n",
       "</style>\n",
       "<table border=\"1\" class=\"dataframe\">\n",
       "  <thead>\n",
       "    <tr style=\"text-align: right;\">\n",
       "      <th></th>\n",
       "      <th>A1</th>\n",
       "      <th>A2</th>\n",
       "      <th>A3</th>\n",
       "      <th>A4</th>\n",
       "      <th>A5</th>\n",
       "      <th>A6</th>\n",
       "      <th>A7</th>\n",
       "      <th>A8</th>\n",
       "      <th>A9</th>\n",
       "      <th>A10</th>\n",
       "      <th>Class</th>\n",
       "      <th>src</th>\n",
       "    </tr>\n",
       "  </thead>\n",
       "  <tbody>\n",
       "    <tr>\n",
       "      <th>263</th>\n",
       "      <td>1</td>\n",
       "      <td>0</td>\n",
       "      <td>0</td>\n",
       "      <td>1</td>\n",
       "      <td>0</td>\n",
       "      <td>1</td>\n",
       "      <td>1</td>\n",
       "      <td>1</td>\n",
       "      <td>0</td>\n",
       "      <td>1</td>\n",
       "      <td>1</td>\n",
       "      <td>Saudi</td>\n",
       "    </tr>\n",
       "    <tr>\n",
       "      <th>2536</th>\n",
       "      <td>1</td>\n",
       "      <td>0</td>\n",
       "      <td>0</td>\n",
       "      <td>1</td>\n",
       "      <td>1</td>\n",
       "      <td>0</td>\n",
       "      <td>1</td>\n",
       "      <td>0</td>\n",
       "      <td>1</td>\n",
       "      <td>0</td>\n",
       "      <td>1</td>\n",
       "      <td>github</td>\n",
       "    </tr>\n",
       "    <tr>\n",
       "      <th>2517</th>\n",
       "      <td>1</td>\n",
       "      <td>0</td>\n",
       "      <td>0</td>\n",
       "      <td>0</td>\n",
       "      <td>0</td>\n",
       "      <td>0</td>\n",
       "      <td>1</td>\n",
       "      <td>1</td>\n",
       "      <td>0</td>\n",
       "      <td>1</td>\n",
       "      <td>1</td>\n",
       "      <td>github</td>\n",
       "    </tr>\n",
       "  </tbody>\n",
       "</table>\n",
       "</div>"
      ],
      "text/plain": [
       "      A1  A2  A3  A4  A5  A6  A7  A8  A9  A10  Class     src\n",
       "263    1   0   0   1   0   1   1   1   0    1      1   Saudi\n",
       "2536   1   0   0   1   1   0   1   0   1    0      1  github\n",
       "2517   1   0   0   0   0   0   1   1   0    1      1  github"
      ]
     },
     "execution_count": 59,
     "metadata": {},
     "output_type": "execute_result"
    }
   ],
   "source": [
    "# create a restore point for the previous section dataframe\n",
    "df_perform = df_error.copy()\n",
    "\n",
    "# check dataframe\n",
    "df_perform.sample(3)"
   ]
  },
  {
   "cell_type": "markdown",
   "id": "9b0ef560-c352-44ea-990f-2bb098dd8e89",
   "metadata": {},
   "source": [
    "## **Training performance**"
   ]
  },
  {
   "cell_type": "markdown",
   "id": "ff7b4358-9824-4526-a05d-2dce0b7bb783",
   "metadata": {},
   "source": [
    "*Evaluate model performance on training dataset*"
   ]
  },
  {
   "cell_type": "code",
   "execution_count": 60,
   "id": "0d072a34-4285-4ac4-b118-1e132a6d9628",
   "metadata": {},
   "outputs": [],
   "source": [
    "# TO-DO"
   ]
  },
  {
   "cell_type": "markdown",
   "id": "748ed4f0-b4b7-4a43-89d7-af4b0c7e31f7",
   "metadata": {},
   "source": [
    "## **Validation performance**"
   ]
  },
  {
   "cell_type": "markdown",
   "id": "ca3e6fb1-1a36-4bae-a6c5-3d028101dfff",
   "metadata": {},
   "source": [
    "*Evaluate model performance on validation dataset*"
   ]
  },
  {
   "cell_type": "code",
   "execution_count": 61,
   "id": "465d7120-8148-48e4-ac20-57d632a601b9",
   "metadata": {},
   "outputs": [],
   "source": [
    "# TO-DO"
   ]
  },
  {
   "cell_type": "markdown",
   "id": "383066ac-0be1-4629-8eb2-20ca4eac315b",
   "metadata": {},
   "source": [
    "## **Test performance**"
   ]
  },
  {
   "cell_type": "markdown",
   "id": "a3be767f-fde3-433f-88c5-72a7855c0738",
   "metadata": {},
   "source": [
    "*Evaluate model performance on test dataset*"
   ]
  },
  {
   "cell_type": "code",
   "execution_count": 62,
   "id": "7e7744b6-5091-4356-9231-3035d052a5ab",
   "metadata": {},
   "outputs": [],
   "source": [
    "# TO-DO"
   ]
  },
  {
   "cell_type": "markdown",
   "id": "cea5884f-d96e-4f1f-940d-f3fe1fd2d289",
   "metadata": {},
   "source": [
    "# **15 - Model diagnostics**"
   ]
  },
  {
   "cell_type": "markdown",
   "id": "9333de3c-0b31-4050-916a-dff35078c694",
   "metadata": {},
   "source": [
    "*Understand model errors and what are the relevant features for predictions*"
   ]
  },
  {
   "cell_type": "markdown",
   "id": "f03c2d0f-0162-442c-a98f-89743fba0010",
   "metadata": {},
   "source": [
    "## **Restore Point**"
   ]
  },
  {
   "cell_type": "markdown",
   "id": "49c2d1c7-d769-4b4b-9acf-a075db888d7e",
   "metadata": {},
   "source": [
    "*Create a checkpoint of the last dataframe from previous section*"
   ]
  },
  {
   "cell_type": "code",
   "execution_count": 63,
   "id": "eb8f2166-500d-43d5-9932-4f43da931768",
   "metadata": {},
   "outputs": [
    {
     "data": {
      "text/html": [
       "<div>\n",
       "<style scoped>\n",
       "    .dataframe tbody tr th:only-of-type {\n",
       "        vertical-align: middle;\n",
       "    }\n",
       "\n",
       "    .dataframe tbody tr th {\n",
       "        vertical-align: top;\n",
       "    }\n",
       "\n",
       "    .dataframe thead th {\n",
       "        text-align: right;\n",
       "    }\n",
       "</style>\n",
       "<table border=\"1\" class=\"dataframe\">\n",
       "  <thead>\n",
       "    <tr style=\"text-align: right;\">\n",
       "      <th></th>\n",
       "      <th>A1</th>\n",
       "      <th>A2</th>\n",
       "      <th>A3</th>\n",
       "      <th>A4</th>\n",
       "      <th>A5</th>\n",
       "      <th>A6</th>\n",
       "      <th>A7</th>\n",
       "      <th>A8</th>\n",
       "      <th>A9</th>\n",
       "      <th>A10</th>\n",
       "      <th>Class</th>\n",
       "      <th>src</th>\n",
       "    </tr>\n",
       "  </thead>\n",
       "  <tbody>\n",
       "    <tr>\n",
       "      <th>640</th>\n",
       "      <td>1</td>\n",
       "      <td>1</td>\n",
       "      <td>1</td>\n",
       "      <td>1</td>\n",
       "      <td>1</td>\n",
       "      <td>1</td>\n",
       "      <td>0</td>\n",
       "      <td>1</td>\n",
       "      <td>1</td>\n",
       "      <td>1</td>\n",
       "      <td>1</td>\n",
       "      <td>UCI_child</td>\n",
       "    </tr>\n",
       "    <tr>\n",
       "      <th>318</th>\n",
       "      <td>1</td>\n",
       "      <td>1</td>\n",
       "      <td>1</td>\n",
       "      <td>1</td>\n",
       "      <td>1</td>\n",
       "      <td>1</td>\n",
       "      <td>1</td>\n",
       "      <td>1</td>\n",
       "      <td>1</td>\n",
       "      <td>0</td>\n",
       "      <td>1</td>\n",
       "      <td>Saudi</td>\n",
       "    </tr>\n",
       "    <tr>\n",
       "      <th>983</th>\n",
       "      <td>0</td>\n",
       "      <td>0</td>\n",
       "      <td>0</td>\n",
       "      <td>0</td>\n",
       "      <td>1</td>\n",
       "      <td>0</td>\n",
       "      <td>1</td>\n",
       "      <td>0</td>\n",
       "      <td>1</td>\n",
       "      <td>1</td>\n",
       "      <td>1</td>\n",
       "      <td>thabtah_toddler</td>\n",
       "    </tr>\n",
       "  </tbody>\n",
       "</table>\n",
       "</div>"
      ],
      "text/plain": [
       "     A1  A2  A3  A4  A5  A6  A7  A8  A9  A10  Class              src\n",
       "640   1   1   1   1   1   1   0   1   1    1      1        UCI_child\n",
       "318   1   1   1   1   1   1   1   1   1    0      1            Saudi\n",
       "983   0   0   0   0   1   0   1   0   1    1      1  thabtah_toddler"
      ]
     },
     "execution_count": 63,
     "metadata": {},
     "output_type": "execute_result"
    }
   ],
   "source": [
    "# create a restore point for the previous section dataframe\n",
    "df_diag = df_perform.copy()\n",
    "\n",
    "# check dataframe\n",
    "df_diag.sample(3)"
   ]
  },
  {
   "cell_type": "markdown",
   "id": "706efcd9-8110-4325-bfc5-60e10177b9fa",
   "metadata": {},
   "source": [
    "## **Feature importance**"
   ]
  },
  {
   "cell_type": "markdown",
   "id": "c0f4e185-b234-4f32-b18a-b08ac00f522e",
   "metadata": {},
   "source": [
    "*Check the importance of features for model prediciton*"
   ]
  },
  {
   "cell_type": "code",
   "execution_count": 64,
   "id": "1e1b74f5-03d3-4d36-ba57-d87b5cf045fd",
   "metadata": {},
   "outputs": [],
   "source": [
    "# TO-DO"
   ]
  },
  {
   "cell_type": "markdown",
   "id": "89d52e7e-92ad-4adb-8799-9432e196e9a4",
   "metadata": {},
   "source": [
    "## **Bias analysis**"
   ]
  },
  {
   "cell_type": "markdown",
   "id": "654d5a3a-2f73-4789-a8d9-1c14148da64d",
   "metadata": {},
   "source": [
    "*Check for bias on model predictions*"
   ]
  },
  {
   "cell_type": "code",
   "execution_count": 65,
   "id": "84c16f0a-06a0-4c61-b28d-1a83a585f30d",
   "metadata": {},
   "outputs": [],
   "source": [
    "# TO-DO"
   ]
  },
  {
   "cell_type": "markdown",
   "id": "409035aa-8576-46bc-b1aa-a6b114f52a56",
   "metadata": {},
   "source": [
    "## **Uncertainty analysis**"
   ]
  },
  {
   "cell_type": "markdown",
   "id": "73ca8fc6-b17d-4cb7-acaf-1ef7840843af",
   "metadata": {},
   "source": [
    "*Check for uncertainty on model predictions*"
   ]
  },
  {
   "cell_type": "code",
   "execution_count": 66,
   "id": "1f1f86fa-2476-4db7-8295-38132ba3568e",
   "metadata": {},
   "outputs": [],
   "source": [
    "# TO-DO"
   ]
  },
  {
   "cell_type": "markdown",
   "id": "78a671d7-7efb-45a9-9174-76d5e92ed18e",
   "metadata": {},
   "source": [
    "## **SHAP values**"
   ]
  },
  {
   "cell_type": "markdown",
   "id": "8e45fe97-793e-4c79-9c52-9b1720d37154",
   "metadata": {},
   "source": [
    "*Inspect shap values for model prediction*"
   ]
  },
  {
   "cell_type": "code",
   "execution_count": 67,
   "id": "d6b47d25-1fa6-42af-9b36-d6c1bb4a2fc5",
   "metadata": {},
   "outputs": [],
   "source": [
    "# TO-DO"
   ]
  },
  {
   "cell_type": "markdown",
   "id": "81275df4-e65e-4a4d-a695-40094519ab32",
   "metadata": {},
   "source": [
    "# **16 - Prepare model for production**"
   ]
  },
  {
   "cell_type": "markdown",
   "id": "fb175a69-c905-4966-a54f-58a3c83aff6c",
   "metadata": {},
   "source": [
    "*Convert notebooks (.ipynb) to scripts (.py)*"
   ]
  },
  {
   "cell_type": "code",
   "execution_count": 68,
   "id": "99cd8c1b-5915-4bba-a0fa-aebb23352812",
   "metadata": {},
   "outputs": [],
   "source": [
    "# TO-DO"
   ]
  }
 ],
 "metadata": {
  "kernelspec": {
   "display_name": "Autism_Predictor",
   "language": "python",
   "name": "autism_predictor"
  },
  "language_info": {
   "codemirror_mode": {
    "name": "ipython",
    "version": 3
   },
   "file_extension": ".py",
   "mimetype": "text/x-python",
   "name": "python",
   "nbconvert_exporter": "python",
   "pygments_lexer": "ipython3",
   "version": "3.10.6"
  }
 },
 "nbformat": 4,
 "nbformat_minor": 5
}
